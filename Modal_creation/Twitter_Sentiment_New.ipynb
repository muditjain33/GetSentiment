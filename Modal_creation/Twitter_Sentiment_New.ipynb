{
  "cells": [
    {
      "cell_type": "markdown",
      "metadata": {
        "id": "DvLqGjX2cWWD"
      },
      "source": [
        "## IMPORTING THE DATA"
      ]
    },
    {
      "cell_type": "code",
      "execution_count": null,
      "metadata": {
        "id": "TNRA9M6zS_1l"
      },
      "outputs": [],
      "source": [
        "import numpy as np\n",
        "import pandas as pd\n",
        "import re\n",
        "import matplotlib.pyplot as plt\n",
        "import seaborn as sns\n",
        "import nltk\n",
        "import warnings"
      ]
    },
    {
      "cell_type": "code",
      "execution_count": null,
      "metadata": {
        "colab": {
          "base_uri": "https://localhost:8080/"
        },
        "id": "Cr1fi4nLcX3e",
        "outputId": "2e6e7ebf-5423-48f2-dc5d-85a5187a94e7"
      },
      "outputs": [
        {
          "output_type": "stream",
          "name": "stdout",
          "text": [
            "Mounted at /content/drive\n"
          ]
        }
      ],
      "source": [
        "from google.colab import drive\n",
        "drive.mount('/content/drive')"
      ]
    },
    {
      "cell_type": "code",
      "execution_count": null,
      "metadata": {
        "id": "jBC3hXsUcwWo"
      },
      "outputs": [],
      "source": [
        "import os\n",
        "os. chdir('drive')\n",
        "os. chdir('MyDrive')"
      ]
    },
    {
      "cell_type": "code",
      "execution_count": null,
      "metadata": {
        "id": "SIdsGldvds10"
      },
      "outputs": [],
      "source": [
        "os. chdir('dataset')"
      ]
    },
    {
      "cell_type": "code",
      "execution_count": null,
      "metadata": {
        "colab": {
          "base_uri": "https://localhost:8080/"
        },
        "id": "otTKAknGT8Y4",
        "outputId": "b4ee4036-c4cc-4d6b-84df-092286942438"
      },
      "outputs": [
        {
          "output_type": "stream",
          "name": "stdout",
          "text": [
            "(31962, 3)\n",
            "(17197, 2)\n"
          ]
        }
      ],
      "source": [
        "train = pd.read_csv('train_tweet.csv')\n",
        "train1 = pd.read_csv('neg_words.csv')\n",
        "train2 = pd.read_csv('neg_phrase.csv')\n",
        "train3 = pd.read_csv('pos_words.csv')\n",
        "train4 = pd.read_csv('pos_phrase.csv')\n",
        "test = pd.read_csv('test_tweets.csv')\n",
        "\n",
        "print(train.shape)\n",
        "print(test.shape)"
      ]
    },
    {
      "cell_type": "code",
      "execution_count": null,
      "metadata": {
        "colab": {
          "base_uri": "https://localhost:8080/",
          "height": 206
        },
        "id": "V40vzj-j0lkY",
        "outputId": "6e7d5b8f-40ad-4a3b-b3d5-8be9c465f23f"
      },
      "outputs": [
        {
          "data": {
            "text/html": [
              "\n",
              "  <div id=\"df-96b2d972-d01c-4672-863a-fae2553b879b\">\n",
              "    <div class=\"colab-df-container\">\n",
              "      <div>\n",
              "<style scoped>\n",
              "    .dataframe tbody tr th:only-of-type {\n",
              "        vertical-align: middle;\n",
              "    }\n",
              "\n",
              "    .dataframe tbody tr th {\n",
              "        vertical-align: top;\n",
              "    }\n",
              "\n",
              "    .dataframe thead th {\n",
              "        text-align: right;\n",
              "    }\n",
              "</style>\n",
              "<table border=\"1\" class=\"dataframe\">\n",
              "  <thead>\n",
              "    <tr style=\"text-align: right;\">\n",
              "      <th></th>\n",
              "      <th>sss</th>\n",
              "      <th>1</th>\n",
              "    </tr>\n",
              "  </thead>\n",
              "  <tbody>\n",
              "    <tr>\n",
              "      <th>0</th>\n",
              "      <td>2-faces</td>\n",
              "      <td>1</td>\n",
              "    </tr>\n",
              "    <tr>\n",
              "      <th>1</th>\n",
              "      <td>abnormal</td>\n",
              "      <td>1</td>\n",
              "    </tr>\n",
              "    <tr>\n",
              "      <th>2</th>\n",
              "      <td>abolish</td>\n",
              "      <td>1</td>\n",
              "    </tr>\n",
              "    <tr>\n",
              "      <th>3</th>\n",
              "      <td>abominable</td>\n",
              "      <td>1</td>\n",
              "    </tr>\n",
              "    <tr>\n",
              "      <th>4</th>\n",
              "      <td>abominably</td>\n",
              "      <td>1</td>\n",
              "    </tr>\n",
              "  </tbody>\n",
              "</table>\n",
              "</div>\n",
              "      <button class=\"colab-df-convert\" onclick=\"convertToInteractive('df-96b2d972-d01c-4672-863a-fae2553b879b')\"\n",
              "              title=\"Convert this dataframe to an interactive table.\"\n",
              "              style=\"display:none;\">\n",
              "        \n",
              "  <svg xmlns=\"http://www.w3.org/2000/svg\" height=\"24px\"viewBox=\"0 0 24 24\"\n",
              "       width=\"24px\">\n",
              "    <path d=\"M0 0h24v24H0V0z\" fill=\"none\"/>\n",
              "    <path d=\"M18.56 5.44l.94 2.06.94-2.06 2.06-.94-2.06-.94-.94-2.06-.94 2.06-2.06.94zm-11 1L8.5 8.5l.94-2.06 2.06-.94-2.06-.94L8.5 2.5l-.94 2.06-2.06.94zm10 10l.94 2.06.94-2.06 2.06-.94-2.06-.94-.94-2.06-.94 2.06-2.06.94z\"/><path d=\"M17.41 7.96l-1.37-1.37c-.4-.4-.92-.59-1.43-.59-.52 0-1.04.2-1.43.59L10.3 9.45l-7.72 7.72c-.78.78-.78 2.05 0 2.83L4 21.41c.39.39.9.59 1.41.59.51 0 1.02-.2 1.41-.59l7.78-7.78 2.81-2.81c.8-.78.8-2.07 0-2.86zM5.41 20L4 18.59l7.72-7.72 1.47 1.35L5.41 20z\"/>\n",
              "  </svg>\n",
              "      </button>\n",
              "      \n",
              "  <style>\n",
              "    .colab-df-container {\n",
              "      display:flex;\n",
              "      flex-wrap:wrap;\n",
              "      gap: 12px;\n",
              "    }\n",
              "\n",
              "    .colab-df-convert {\n",
              "      background-color: #E8F0FE;\n",
              "      border: none;\n",
              "      border-radius: 50%;\n",
              "      cursor: pointer;\n",
              "      display: none;\n",
              "      fill: #1967D2;\n",
              "      height: 32px;\n",
              "      padding: 0 0 0 0;\n",
              "      width: 32px;\n",
              "    }\n",
              "\n",
              "    .colab-df-convert:hover {\n",
              "      background-color: #E2EBFA;\n",
              "      box-shadow: 0px 1px 2px rgba(60, 64, 67, 0.3), 0px 1px 3px 1px rgba(60, 64, 67, 0.15);\n",
              "      fill: #174EA6;\n",
              "    }\n",
              "\n",
              "    [theme=dark] .colab-df-convert {\n",
              "      background-color: #3B4455;\n",
              "      fill: #D2E3FC;\n",
              "    }\n",
              "\n",
              "    [theme=dark] .colab-df-convert:hover {\n",
              "      background-color: #434B5C;\n",
              "      box-shadow: 0px 1px 3px 1px rgba(0, 0, 0, 0.15);\n",
              "      filter: drop-shadow(0px 1px 2px rgba(0, 0, 0, 0.3));\n",
              "      fill: #FFFFFF;\n",
              "    }\n",
              "  </style>\n",
              "\n",
              "      <script>\n",
              "        const buttonEl =\n",
              "          document.querySelector('#df-96b2d972-d01c-4672-863a-fae2553b879b button.colab-df-convert');\n",
              "        buttonEl.style.display =\n",
              "          google.colab.kernel.accessAllowed ? 'block' : 'none';\n",
              "\n",
              "        async function convertToInteractive(key) {\n",
              "          const element = document.querySelector('#df-96b2d972-d01c-4672-863a-fae2553b879b');\n",
              "          const dataTable =\n",
              "            await google.colab.kernel.invokeFunction('convertToInteractive',\n",
              "                                                     [key], {});\n",
              "          if (!dataTable) return;\n",
              "\n",
              "          const docLinkHtml = 'Like what you see? Visit the ' +\n",
              "            '<a target=\"_blank\" href=https://colab.research.google.com/notebooks/data_table.ipynb>data table notebook</a>'\n",
              "            + ' to learn more about interactive tables.';\n",
              "          element.innerHTML = '';\n",
              "          dataTable['output_type'] = 'display_data';\n",
              "          await google.colab.output.renderOutput(dataTable, element);\n",
              "          const docLink = document.createElement('div');\n",
              "          docLink.innerHTML = docLinkHtml;\n",
              "          element.appendChild(docLink);\n",
              "        }\n",
              "      </script>\n",
              "    </div>\n",
              "  </div>\n",
              "  "
            ],
            "text/plain": [
              "          sss  1\n",
              "0     2-faces  1\n",
              "1    abnormal  1\n",
              "2     abolish  1\n",
              "3  abominable  1\n",
              "4  abominably  1"
            ]
          },
          "execution_count": 6,
          "metadata": {},
          "output_type": "execute_result"
        }
      ],
      "source": [
        "train1.head()"
      ]
    },
    {
      "cell_type": "code",
      "execution_count": null,
      "metadata": {
        "colab": {
          "base_uri": "https://localhost:8080/",
          "height": 206
        },
        "id": "RlKHCipe0sWc",
        "outputId": "9586cbd2-68ca-46af-9e7b-762dc35a9b13"
      },
      "outputs": [
        {
          "data": {
            "text/html": [
              "\n",
              "  <div id=\"df-710f8245-2d24-401a-8bad-2dfc230550bf\">\n",
              "    <div class=\"colab-df-container\">\n",
              "      <div>\n",
              "<style scoped>\n",
              "    .dataframe tbody tr th:only-of-type {\n",
              "        vertical-align: middle;\n",
              "    }\n",
              "\n",
              "    .dataframe tbody tr th {\n",
              "        vertical-align: top;\n",
              "    }\n",
              "\n",
              "    .dataframe thead th {\n",
              "        text-align: right;\n",
              "    }\n",
              "</style>\n",
              "<table border=\"1\" class=\"dataframe\">\n",
              "  <thead>\n",
              "    <tr style=\"text-align: right;\">\n",
              "      <th></th>\n",
              "      <th>sss</th>\n",
              "      <th>1</th>\n",
              "    </tr>\n",
              "  </thead>\n",
              "  <tbody>\n",
              "    <tr>\n",
              "      <th>0</th>\n",
              "      <td>it's so laddish and juvenile , only teenage bo...</td>\n",
              "      <td>1</td>\n",
              "    </tr>\n",
              "    <tr>\n",
              "      <th>1</th>\n",
              "      <td>exploitative and largely devoid of the depth o...</td>\n",
              "      <td>1</td>\n",
              "    </tr>\n",
              "    <tr>\n",
              "      <th>2</th>\n",
              "      <td>[garbus] discards the potential for pathologic...</td>\n",
              "      <td>1</td>\n",
              "    </tr>\n",
              "    <tr>\n",
              "      <th>3</th>\n",
              "      <td>a visually flashy but narratively opaque and e...</td>\n",
              "      <td>1</td>\n",
              "    </tr>\n",
              "    <tr>\n",
              "      <th>4</th>\n",
              "      <td>the story is also as unoriginal as they come ,...</td>\n",
              "      <td>1</td>\n",
              "    </tr>\n",
              "  </tbody>\n",
              "</table>\n",
              "</div>\n",
              "      <button class=\"colab-df-convert\" onclick=\"convertToInteractive('df-710f8245-2d24-401a-8bad-2dfc230550bf')\"\n",
              "              title=\"Convert this dataframe to an interactive table.\"\n",
              "              style=\"display:none;\">\n",
              "        \n",
              "  <svg xmlns=\"http://www.w3.org/2000/svg\" height=\"24px\"viewBox=\"0 0 24 24\"\n",
              "       width=\"24px\">\n",
              "    <path d=\"M0 0h24v24H0V0z\" fill=\"none\"/>\n",
              "    <path d=\"M18.56 5.44l.94 2.06.94-2.06 2.06-.94-2.06-.94-.94-2.06-.94 2.06-2.06.94zm-11 1L8.5 8.5l.94-2.06 2.06-.94-2.06-.94L8.5 2.5l-.94 2.06-2.06.94zm10 10l.94 2.06.94-2.06 2.06-.94-2.06-.94-.94-2.06-.94 2.06-2.06.94z\"/><path d=\"M17.41 7.96l-1.37-1.37c-.4-.4-.92-.59-1.43-.59-.52 0-1.04.2-1.43.59L10.3 9.45l-7.72 7.72c-.78.78-.78 2.05 0 2.83L4 21.41c.39.39.9.59 1.41.59.51 0 1.02-.2 1.41-.59l7.78-7.78 2.81-2.81c.8-.78.8-2.07 0-2.86zM5.41 20L4 18.59l7.72-7.72 1.47 1.35L5.41 20z\"/>\n",
              "  </svg>\n",
              "      </button>\n",
              "      \n",
              "  <style>\n",
              "    .colab-df-container {\n",
              "      display:flex;\n",
              "      flex-wrap:wrap;\n",
              "      gap: 12px;\n",
              "    }\n",
              "\n",
              "    .colab-df-convert {\n",
              "      background-color: #E8F0FE;\n",
              "      border: none;\n",
              "      border-radius: 50%;\n",
              "      cursor: pointer;\n",
              "      display: none;\n",
              "      fill: #1967D2;\n",
              "      height: 32px;\n",
              "      padding: 0 0 0 0;\n",
              "      width: 32px;\n",
              "    }\n",
              "\n",
              "    .colab-df-convert:hover {\n",
              "      background-color: #E2EBFA;\n",
              "      box-shadow: 0px 1px 2px rgba(60, 64, 67, 0.3), 0px 1px 3px 1px rgba(60, 64, 67, 0.15);\n",
              "      fill: #174EA6;\n",
              "    }\n",
              "\n",
              "    [theme=dark] .colab-df-convert {\n",
              "      background-color: #3B4455;\n",
              "      fill: #D2E3FC;\n",
              "    }\n",
              "\n",
              "    [theme=dark] .colab-df-convert:hover {\n",
              "      background-color: #434B5C;\n",
              "      box-shadow: 0px 1px 3px 1px rgba(0, 0, 0, 0.15);\n",
              "      filter: drop-shadow(0px 1px 2px rgba(0, 0, 0, 0.3));\n",
              "      fill: #FFFFFF;\n",
              "    }\n",
              "  </style>\n",
              "\n",
              "      <script>\n",
              "        const buttonEl =\n",
              "          document.querySelector('#df-710f8245-2d24-401a-8bad-2dfc230550bf button.colab-df-convert');\n",
              "        buttonEl.style.display =\n",
              "          google.colab.kernel.accessAllowed ? 'block' : 'none';\n",
              "\n",
              "        async function convertToInteractive(key) {\n",
              "          const element = document.querySelector('#df-710f8245-2d24-401a-8bad-2dfc230550bf');\n",
              "          const dataTable =\n",
              "            await google.colab.kernel.invokeFunction('convertToInteractive',\n",
              "                                                     [key], {});\n",
              "          if (!dataTable) return;\n",
              "\n",
              "          const docLinkHtml = 'Like what you see? Visit the ' +\n",
              "            '<a target=\"_blank\" href=https://colab.research.google.com/notebooks/data_table.ipynb>data table notebook</a>'\n",
              "            + ' to learn more about interactive tables.';\n",
              "          element.innerHTML = '';\n",
              "          dataTable['output_type'] = 'display_data';\n",
              "          await google.colab.output.renderOutput(dataTable, element);\n",
              "          const docLink = document.createElement('div');\n",
              "          docLink.innerHTML = docLinkHtml;\n",
              "          element.appendChild(docLink);\n",
              "        }\n",
              "      </script>\n",
              "    </div>\n",
              "  </div>\n",
              "  "
            ],
            "text/plain": [
              "                                                 sss  1\n",
              "0  it's so laddish and juvenile , only teenage bo...  1\n",
              "1  exploitative and largely devoid of the depth o...  1\n",
              "2  [garbus] discards the potential for pathologic...  1\n",
              "3  a visually flashy but narratively opaque and e...  1\n",
              "4  the story is also as unoriginal as they come ,...  1"
            ]
          },
          "execution_count": 7,
          "metadata": {},
          "output_type": "execute_result"
        }
      ],
      "source": [
        "train2.head()"
      ]
    },
    {
      "cell_type": "code",
      "execution_count": null,
      "metadata": {
        "colab": {
          "base_uri": "https://localhost:8080/",
          "height": 206
        },
        "id": "BrojXOSN0wHl",
        "outputId": "da3d2238-74ec-4f4c-e5c0-3081bc05d945"
      },
      "outputs": [
        {
          "data": {
            "text/html": [
              "\n",
              "  <div id=\"df-a1f7410e-ef22-4dfe-ac7a-f4bbae59928d\">\n",
              "    <div class=\"colab-df-container\">\n",
              "      <div>\n",
              "<style scoped>\n",
              "    .dataframe tbody tr th:only-of-type {\n",
              "        vertical-align: middle;\n",
              "    }\n",
              "\n",
              "    .dataframe tbody tr th {\n",
              "        vertical-align: top;\n",
              "    }\n",
              "\n",
              "    .dataframe thead th {\n",
              "        text-align: right;\n",
              "    }\n",
              "</style>\n",
              "<table border=\"1\" class=\"dataframe\">\n",
              "  <thead>\n",
              "    <tr style=\"text-align: right;\">\n",
              "      <th></th>\n",
              "      <th>sss</th>\n",
              "      <th>0</th>\n",
              "    </tr>\n",
              "  </thead>\n",
              "  <tbody>\n",
              "    <tr>\n",
              "      <th>0</th>\n",
              "      <td>the gorgeously elaborate continuation of \" the...</td>\n",
              "      <td>0</td>\n",
              "    </tr>\n",
              "    <tr>\n",
              "      <th>1</th>\n",
              "      <td>effective but too-tepid biopic</td>\n",
              "      <td>0</td>\n",
              "    </tr>\n",
              "    <tr>\n",
              "      <th>2</th>\n",
              "      <td>if you sometimes like to go to the movies to h...</td>\n",
              "      <td>0</td>\n",
              "    </tr>\n",
              "    <tr>\n",
              "      <th>3</th>\n",
              "      <td>emerges as something rare , an issue movie tha...</td>\n",
              "      <td>0</td>\n",
              "    </tr>\n",
              "    <tr>\n",
              "      <th>4</th>\n",
              "      <td>the film provides some great insight into the ...</td>\n",
              "      <td>0</td>\n",
              "    </tr>\n",
              "  </tbody>\n",
              "</table>\n",
              "</div>\n",
              "      <button class=\"colab-df-convert\" onclick=\"convertToInteractive('df-a1f7410e-ef22-4dfe-ac7a-f4bbae59928d')\"\n",
              "              title=\"Convert this dataframe to an interactive table.\"\n",
              "              style=\"display:none;\">\n",
              "        \n",
              "  <svg xmlns=\"http://www.w3.org/2000/svg\" height=\"24px\"viewBox=\"0 0 24 24\"\n",
              "       width=\"24px\">\n",
              "    <path d=\"M0 0h24v24H0V0z\" fill=\"none\"/>\n",
              "    <path d=\"M18.56 5.44l.94 2.06.94-2.06 2.06-.94-2.06-.94-.94-2.06-.94 2.06-2.06.94zm-11 1L8.5 8.5l.94-2.06 2.06-.94-2.06-.94L8.5 2.5l-.94 2.06-2.06.94zm10 10l.94 2.06.94-2.06 2.06-.94-2.06-.94-.94-2.06-.94 2.06-2.06.94z\"/><path d=\"M17.41 7.96l-1.37-1.37c-.4-.4-.92-.59-1.43-.59-.52 0-1.04.2-1.43.59L10.3 9.45l-7.72 7.72c-.78.78-.78 2.05 0 2.83L4 21.41c.39.39.9.59 1.41.59.51 0 1.02-.2 1.41-.59l7.78-7.78 2.81-2.81c.8-.78.8-2.07 0-2.86zM5.41 20L4 18.59l7.72-7.72 1.47 1.35L5.41 20z\"/>\n",
              "  </svg>\n",
              "      </button>\n",
              "      \n",
              "  <style>\n",
              "    .colab-df-container {\n",
              "      display:flex;\n",
              "      flex-wrap:wrap;\n",
              "      gap: 12px;\n",
              "    }\n",
              "\n",
              "    .colab-df-convert {\n",
              "      background-color: #E8F0FE;\n",
              "      border: none;\n",
              "      border-radius: 50%;\n",
              "      cursor: pointer;\n",
              "      display: none;\n",
              "      fill: #1967D2;\n",
              "      height: 32px;\n",
              "      padding: 0 0 0 0;\n",
              "      width: 32px;\n",
              "    }\n",
              "\n",
              "    .colab-df-convert:hover {\n",
              "      background-color: #E2EBFA;\n",
              "      box-shadow: 0px 1px 2px rgba(60, 64, 67, 0.3), 0px 1px 3px 1px rgba(60, 64, 67, 0.15);\n",
              "      fill: #174EA6;\n",
              "    }\n",
              "\n",
              "    [theme=dark] .colab-df-convert {\n",
              "      background-color: #3B4455;\n",
              "      fill: #D2E3FC;\n",
              "    }\n",
              "\n",
              "    [theme=dark] .colab-df-convert:hover {\n",
              "      background-color: #434B5C;\n",
              "      box-shadow: 0px 1px 3px 1px rgba(0, 0, 0, 0.15);\n",
              "      filter: drop-shadow(0px 1px 2px rgba(0, 0, 0, 0.3));\n",
              "      fill: #FFFFFF;\n",
              "    }\n",
              "  </style>\n",
              "\n",
              "      <script>\n",
              "        const buttonEl =\n",
              "          document.querySelector('#df-a1f7410e-ef22-4dfe-ac7a-f4bbae59928d button.colab-df-convert');\n",
              "        buttonEl.style.display =\n",
              "          google.colab.kernel.accessAllowed ? 'block' : 'none';\n",
              "\n",
              "        async function convertToInteractive(key) {\n",
              "          const element = document.querySelector('#df-a1f7410e-ef22-4dfe-ac7a-f4bbae59928d');\n",
              "          const dataTable =\n",
              "            await google.colab.kernel.invokeFunction('convertToInteractive',\n",
              "                                                     [key], {});\n",
              "          if (!dataTable) return;\n",
              "\n",
              "          const docLinkHtml = 'Like what you see? Visit the ' +\n",
              "            '<a target=\"_blank\" href=https://colab.research.google.com/notebooks/data_table.ipynb>data table notebook</a>'\n",
              "            + ' to learn more about interactive tables.';\n",
              "          element.innerHTML = '';\n",
              "          dataTable['output_type'] = 'display_data';\n",
              "          await google.colab.output.renderOutput(dataTable, element);\n",
              "          const docLink = document.createElement('div');\n",
              "          docLink.innerHTML = docLinkHtml;\n",
              "          element.appendChild(docLink);\n",
              "        }\n",
              "      </script>\n",
              "    </div>\n",
              "  </div>\n",
              "  "
            ],
            "text/plain": [
              "                                                 sss  0\n",
              "0  the gorgeously elaborate continuation of \" the...  0\n",
              "1                     effective but too-tepid biopic  0\n",
              "2  if you sometimes like to go to the movies to h...  0\n",
              "3  emerges as something rare , an issue movie tha...  0\n",
              "4  the film provides some great insight into the ...  0"
            ]
          },
          "execution_count": 8,
          "metadata": {},
          "output_type": "execute_result"
        }
      ],
      "source": [
        "train4.head()"
      ]
    },
    {
      "cell_type": "code",
      "execution_count": null,
      "metadata": {
        "colab": {
          "base_uri": "https://localhost:8080/",
          "height": 206
        },
        "id": "fchh_QFP01Ij",
        "outputId": "3a804fb3-e9d8-4d47-daa5-58bc45650ed7"
      },
      "outputs": [
        {
          "data": {
            "text/html": [
              "\n",
              "  <div id=\"df-206f979e-d8bd-44c9-a45d-90cb5a2b9033\">\n",
              "    <div class=\"colab-df-container\">\n",
              "      <div>\n",
              "<style scoped>\n",
              "    .dataframe tbody tr th:only-of-type {\n",
              "        vertical-align: middle;\n",
              "    }\n",
              "\n",
              "    .dataframe tbody tr th {\n",
              "        vertical-align: top;\n",
              "    }\n",
              "\n",
              "    .dataframe thead th {\n",
              "        text-align: right;\n",
              "    }\n",
              "</style>\n",
              "<table border=\"1\" class=\"dataframe\">\n",
              "  <thead>\n",
              "    <tr style=\"text-align: right;\">\n",
              "      <th></th>\n",
              "      <th>sss</th>\n",
              "      <th>0</th>\n",
              "    </tr>\n",
              "  </thead>\n",
              "  <tbody>\n",
              "    <tr>\n",
              "      <th>0</th>\n",
              "      <td>abound</td>\n",
              "      <td>0</td>\n",
              "    </tr>\n",
              "    <tr>\n",
              "      <th>1</th>\n",
              "      <td>abounds</td>\n",
              "      <td>0</td>\n",
              "    </tr>\n",
              "    <tr>\n",
              "      <th>2</th>\n",
              "      <td>abundance</td>\n",
              "      <td>0</td>\n",
              "    </tr>\n",
              "    <tr>\n",
              "      <th>3</th>\n",
              "      <td>abundant</td>\n",
              "      <td>0</td>\n",
              "    </tr>\n",
              "    <tr>\n",
              "      <th>4</th>\n",
              "      <td>accessable</td>\n",
              "      <td>0</td>\n",
              "    </tr>\n",
              "  </tbody>\n",
              "</table>\n",
              "</div>\n",
              "      <button class=\"colab-df-convert\" onclick=\"convertToInteractive('df-206f979e-d8bd-44c9-a45d-90cb5a2b9033')\"\n",
              "              title=\"Convert this dataframe to an interactive table.\"\n",
              "              style=\"display:none;\">\n",
              "        \n",
              "  <svg xmlns=\"http://www.w3.org/2000/svg\" height=\"24px\"viewBox=\"0 0 24 24\"\n",
              "       width=\"24px\">\n",
              "    <path d=\"M0 0h24v24H0V0z\" fill=\"none\"/>\n",
              "    <path d=\"M18.56 5.44l.94 2.06.94-2.06 2.06-.94-2.06-.94-.94-2.06-.94 2.06-2.06.94zm-11 1L8.5 8.5l.94-2.06 2.06-.94-2.06-.94L8.5 2.5l-.94 2.06-2.06.94zm10 10l.94 2.06.94-2.06 2.06-.94-2.06-.94-.94-2.06-.94 2.06-2.06.94z\"/><path d=\"M17.41 7.96l-1.37-1.37c-.4-.4-.92-.59-1.43-.59-.52 0-1.04.2-1.43.59L10.3 9.45l-7.72 7.72c-.78.78-.78 2.05 0 2.83L4 21.41c.39.39.9.59 1.41.59.51 0 1.02-.2 1.41-.59l7.78-7.78 2.81-2.81c.8-.78.8-2.07 0-2.86zM5.41 20L4 18.59l7.72-7.72 1.47 1.35L5.41 20z\"/>\n",
              "  </svg>\n",
              "      </button>\n",
              "      \n",
              "  <style>\n",
              "    .colab-df-container {\n",
              "      display:flex;\n",
              "      flex-wrap:wrap;\n",
              "      gap: 12px;\n",
              "    }\n",
              "\n",
              "    .colab-df-convert {\n",
              "      background-color: #E8F0FE;\n",
              "      border: none;\n",
              "      border-radius: 50%;\n",
              "      cursor: pointer;\n",
              "      display: none;\n",
              "      fill: #1967D2;\n",
              "      height: 32px;\n",
              "      padding: 0 0 0 0;\n",
              "      width: 32px;\n",
              "    }\n",
              "\n",
              "    .colab-df-convert:hover {\n",
              "      background-color: #E2EBFA;\n",
              "      box-shadow: 0px 1px 2px rgba(60, 64, 67, 0.3), 0px 1px 3px 1px rgba(60, 64, 67, 0.15);\n",
              "      fill: #174EA6;\n",
              "    }\n",
              "\n",
              "    [theme=dark] .colab-df-convert {\n",
              "      background-color: #3B4455;\n",
              "      fill: #D2E3FC;\n",
              "    }\n",
              "\n",
              "    [theme=dark] .colab-df-convert:hover {\n",
              "      background-color: #434B5C;\n",
              "      box-shadow: 0px 1px 3px 1px rgba(0, 0, 0, 0.15);\n",
              "      filter: drop-shadow(0px 1px 2px rgba(0, 0, 0, 0.3));\n",
              "      fill: #FFFFFF;\n",
              "    }\n",
              "  </style>\n",
              "\n",
              "      <script>\n",
              "        const buttonEl =\n",
              "          document.querySelector('#df-206f979e-d8bd-44c9-a45d-90cb5a2b9033 button.colab-df-convert');\n",
              "        buttonEl.style.display =\n",
              "          google.colab.kernel.accessAllowed ? 'block' : 'none';\n",
              "\n",
              "        async function convertToInteractive(key) {\n",
              "          const element = document.querySelector('#df-206f979e-d8bd-44c9-a45d-90cb5a2b9033');\n",
              "          const dataTable =\n",
              "            await google.colab.kernel.invokeFunction('convertToInteractive',\n",
              "                                                     [key], {});\n",
              "          if (!dataTable) return;\n",
              "\n",
              "          const docLinkHtml = 'Like what you see? Visit the ' +\n",
              "            '<a target=\"_blank\" href=https://colab.research.google.com/notebooks/data_table.ipynb>data table notebook</a>'\n",
              "            + ' to learn more about interactive tables.';\n",
              "          element.innerHTML = '';\n",
              "          dataTable['output_type'] = 'display_data';\n",
              "          await google.colab.output.renderOutput(dataTable, element);\n",
              "          const docLink = document.createElement('div');\n",
              "          docLink.innerHTML = docLinkHtml;\n",
              "          element.appendChild(docLink);\n",
              "        }\n",
              "      </script>\n",
              "    </div>\n",
              "  </div>\n",
              "  "
            ],
            "text/plain": [
              "          sss  0\n",
              "0      abound  0\n",
              "1     abounds  0\n",
              "2   abundance  0\n",
              "3    abundant  0\n",
              "4  accessable  0"
            ]
          },
          "execution_count": 9,
          "metadata": {},
          "output_type": "execute_result"
        }
      ],
      "source": [
        "train3.head()"
      ]
    },
    {
      "cell_type": "code",
      "execution_count": null,
      "metadata": {
        "id": "tJ1aqP_HcWWX"
      },
      "outputs": [],
      "source": [
        "IMDBtrain=pd.read_csv('IMDB_dataset.csv')"
      ]
    },
    {
      "cell_type": "code",
      "execution_count": null,
      "metadata": {
        "colab": {
          "base_uri": "https://localhost:8080/",
          "height": 206
        },
        "id": "lDrrQe9kcWWY",
        "outputId": "9e63451d-d4c9-4623-818e-b6f3e151b77a"
      },
      "outputs": [
        {
          "data": {
            "text/html": [
              "\n",
              "  <div id=\"df-fa915fc6-5b62-4286-be22-d28160c74f33\">\n",
              "    <div class=\"colab-df-container\">\n",
              "      <div>\n",
              "<style scoped>\n",
              "    .dataframe tbody tr th:only-of-type {\n",
              "        vertical-align: middle;\n",
              "    }\n",
              "\n",
              "    .dataframe tbody tr th {\n",
              "        vertical-align: top;\n",
              "    }\n",
              "\n",
              "    .dataframe thead th {\n",
              "        text-align: right;\n",
              "    }\n",
              "</style>\n",
              "<table border=\"1\" class=\"dataframe\">\n",
              "  <thead>\n",
              "    <tr style=\"text-align: right;\">\n",
              "      <th></th>\n",
              "      <th>review</th>\n",
              "      <th>sentiment</th>\n",
              "    </tr>\n",
              "  </thead>\n",
              "  <tbody>\n",
              "    <tr>\n",
              "      <th>0</th>\n",
              "      <td>One of the other reviewers has mentioned that ...</td>\n",
              "      <td>positive</td>\n",
              "    </tr>\n",
              "    <tr>\n",
              "      <th>1</th>\n",
              "      <td>A wonderful little production. &lt;br /&gt;&lt;br /&gt;The...</td>\n",
              "      <td>positive</td>\n",
              "    </tr>\n",
              "    <tr>\n",
              "      <th>2</th>\n",
              "      <td>I thought this was a wonderful way to spend ti...</td>\n",
              "      <td>positive</td>\n",
              "    </tr>\n",
              "    <tr>\n",
              "      <th>3</th>\n",
              "      <td>Basically there's a family where a little boy ...</td>\n",
              "      <td>negative</td>\n",
              "    </tr>\n",
              "    <tr>\n",
              "      <th>4</th>\n",
              "      <td>Petter Mattei's \"Love in the Time of Money\" is...</td>\n",
              "      <td>positive</td>\n",
              "    </tr>\n",
              "  </tbody>\n",
              "</table>\n",
              "</div>\n",
              "      <button class=\"colab-df-convert\" onclick=\"convertToInteractive('df-fa915fc6-5b62-4286-be22-d28160c74f33')\"\n",
              "              title=\"Convert this dataframe to an interactive table.\"\n",
              "              style=\"display:none;\">\n",
              "        \n",
              "  <svg xmlns=\"http://www.w3.org/2000/svg\" height=\"24px\"viewBox=\"0 0 24 24\"\n",
              "       width=\"24px\">\n",
              "    <path d=\"M0 0h24v24H0V0z\" fill=\"none\"/>\n",
              "    <path d=\"M18.56 5.44l.94 2.06.94-2.06 2.06-.94-2.06-.94-.94-2.06-.94 2.06-2.06.94zm-11 1L8.5 8.5l.94-2.06 2.06-.94-2.06-.94L8.5 2.5l-.94 2.06-2.06.94zm10 10l.94 2.06.94-2.06 2.06-.94-2.06-.94-.94-2.06-.94 2.06-2.06.94z\"/><path d=\"M17.41 7.96l-1.37-1.37c-.4-.4-.92-.59-1.43-.59-.52 0-1.04.2-1.43.59L10.3 9.45l-7.72 7.72c-.78.78-.78 2.05 0 2.83L4 21.41c.39.39.9.59 1.41.59.51 0 1.02-.2 1.41-.59l7.78-7.78 2.81-2.81c.8-.78.8-2.07 0-2.86zM5.41 20L4 18.59l7.72-7.72 1.47 1.35L5.41 20z\"/>\n",
              "  </svg>\n",
              "      </button>\n",
              "      \n",
              "  <style>\n",
              "    .colab-df-container {\n",
              "      display:flex;\n",
              "      flex-wrap:wrap;\n",
              "      gap: 12px;\n",
              "    }\n",
              "\n",
              "    .colab-df-convert {\n",
              "      background-color: #E8F0FE;\n",
              "      border: none;\n",
              "      border-radius: 50%;\n",
              "      cursor: pointer;\n",
              "      display: none;\n",
              "      fill: #1967D2;\n",
              "      height: 32px;\n",
              "      padding: 0 0 0 0;\n",
              "      width: 32px;\n",
              "    }\n",
              "\n",
              "    .colab-df-convert:hover {\n",
              "      background-color: #E2EBFA;\n",
              "      box-shadow: 0px 1px 2px rgba(60, 64, 67, 0.3), 0px 1px 3px 1px rgba(60, 64, 67, 0.15);\n",
              "      fill: #174EA6;\n",
              "    }\n",
              "\n",
              "    [theme=dark] .colab-df-convert {\n",
              "      background-color: #3B4455;\n",
              "      fill: #D2E3FC;\n",
              "    }\n",
              "\n",
              "    [theme=dark] .colab-df-convert:hover {\n",
              "      background-color: #434B5C;\n",
              "      box-shadow: 0px 1px 3px 1px rgba(0, 0, 0, 0.15);\n",
              "      filter: drop-shadow(0px 1px 2px rgba(0, 0, 0, 0.3));\n",
              "      fill: #FFFFFF;\n",
              "    }\n",
              "  </style>\n",
              "\n",
              "      <script>\n",
              "        const buttonEl =\n",
              "          document.querySelector('#df-fa915fc6-5b62-4286-be22-d28160c74f33 button.colab-df-convert');\n",
              "        buttonEl.style.display =\n",
              "          google.colab.kernel.accessAllowed ? 'block' : 'none';\n",
              "\n",
              "        async function convertToInteractive(key) {\n",
              "          const element = document.querySelector('#df-fa915fc6-5b62-4286-be22-d28160c74f33');\n",
              "          const dataTable =\n",
              "            await google.colab.kernel.invokeFunction('convertToInteractive',\n",
              "                                                     [key], {});\n",
              "          if (!dataTable) return;\n",
              "\n",
              "          const docLinkHtml = 'Like what you see? Visit the ' +\n",
              "            '<a target=\"_blank\" href=https://colab.research.google.com/notebooks/data_table.ipynb>data table notebook</a>'\n",
              "            + ' to learn more about interactive tables.';\n",
              "          element.innerHTML = '';\n",
              "          dataTable['output_type'] = 'display_data';\n",
              "          await google.colab.output.renderOutput(dataTable, element);\n",
              "          const docLink = document.createElement('div');\n",
              "          docLink.innerHTML = docLinkHtml;\n",
              "          element.appendChild(docLink);\n",
              "        }\n",
              "      </script>\n",
              "    </div>\n",
              "  </div>\n",
              "  "
            ],
            "text/plain": [
              "                                              review sentiment\n",
              "0  One of the other reviewers has mentioned that ...  positive\n",
              "1  A wonderful little production. <br /><br />The...  positive\n",
              "2  I thought this was a wonderful way to spend ti...  positive\n",
              "3  Basically there's a family where a little boy ...  negative\n",
              "4  Petter Mattei's \"Love in the Time of Money\" is...  positive"
            ]
          },
          "execution_count": 11,
          "metadata": {},
          "output_type": "execute_result"
        }
      ],
      "source": [
        "IMDBtrain.head()"
      ]
    },
    {
      "cell_type": "code",
      "execution_count": null,
      "metadata": {
        "id": "TcmChtp6cWWZ"
      },
      "outputs": [],
      "source": [
        "def label(element):\n",
        "    if element==\"positive\":\n",
        "        return 0\n",
        "    elif element==\"negative\":\n",
        "        return 1\n",
        "    else:\n",
        "        return element"
      ]
    },
    {
      "cell_type": "code",
      "execution_count": null,
      "metadata": {
        "id": "vbCjlLRlcWWb"
      },
      "outputs": [],
      "source": [
        "IMDBtrain['sentiment']=IMDBtrain['sentiment'].apply(label)"
      ]
    },
    {
      "cell_type": "code",
      "execution_count": null,
      "metadata": {
        "colab": {
          "base_uri": "https://localhost:8080/"
        },
        "id": "uDfI2hSicWWc",
        "outputId": "ccc5b53e-d518-43ea-ca26-8fc181b9edf4"
      },
      "outputs": [
        {
          "output_type": "execute_result",
          "data": {
            "text/plain": [
              "100000"
            ]
          },
          "metadata": {},
          "execution_count": 10
        }
      ],
      "source": [
        "IMDBtrain.size"
      ]
    },
    {
      "cell_type": "code",
      "execution_count": null,
      "metadata": {
        "id": "6DUYs-6ycWWe"
      },
      "outputs": [],
      "source": [
        "IMDBtrain['review'] = IMDBtrain['review'].str.replace(r'<[^<>]*>', '', regex=True)"
      ]
    },
    {
      "cell_type": "code",
      "execution_count": null,
      "metadata": {
        "colab": {
          "base_uri": "https://localhost:8080/",
          "height": 206
        },
        "id": "mkzspAtvcWWg",
        "outputId": "22617f3c-b7d2-42db-9dbb-b4ffb1eb4ac6"
      },
      "outputs": [
        {
          "output_type": "execute_result",
          "data": {
            "text/html": [
              "\n",
              "  <div id=\"df-3ba115a3-fa20-4c7a-9d89-8f9f33811a40\">\n",
              "    <div class=\"colab-df-container\">\n",
              "      <div>\n",
              "<style scoped>\n",
              "    .dataframe tbody tr th:only-of-type {\n",
              "        vertical-align: middle;\n",
              "    }\n",
              "\n",
              "    .dataframe tbody tr th {\n",
              "        vertical-align: top;\n",
              "    }\n",
              "\n",
              "    .dataframe thead th {\n",
              "        text-align: right;\n",
              "    }\n",
              "</style>\n",
              "<table border=\"1\" class=\"dataframe\">\n",
              "  <thead>\n",
              "    <tr style=\"text-align: right;\">\n",
              "      <th></th>\n",
              "      <th>review</th>\n",
              "      <th>sentiment</th>\n",
              "    </tr>\n",
              "  </thead>\n",
              "  <tbody>\n",
              "    <tr>\n",
              "      <th>0</th>\n",
              "      <td>One of the other reviewers has mentioned that ...</td>\n",
              "      <td>0</td>\n",
              "    </tr>\n",
              "    <tr>\n",
              "      <th>1</th>\n",
              "      <td>A wonderful little production. The filming tec...</td>\n",
              "      <td>0</td>\n",
              "    </tr>\n",
              "    <tr>\n",
              "      <th>2</th>\n",
              "      <td>I thought this was a wonderful way to spend ti...</td>\n",
              "      <td>0</td>\n",
              "    </tr>\n",
              "    <tr>\n",
              "      <th>3</th>\n",
              "      <td>Basically there's a family where a little boy ...</td>\n",
              "      <td>1</td>\n",
              "    </tr>\n",
              "    <tr>\n",
              "      <th>4</th>\n",
              "      <td>Petter Mattei's \"Love in the Time of Money\" is...</td>\n",
              "      <td>0</td>\n",
              "    </tr>\n",
              "  </tbody>\n",
              "</table>\n",
              "</div>\n",
              "      <button class=\"colab-df-convert\" onclick=\"convertToInteractive('df-3ba115a3-fa20-4c7a-9d89-8f9f33811a40')\"\n",
              "              title=\"Convert this dataframe to an interactive table.\"\n",
              "              style=\"display:none;\">\n",
              "        \n",
              "  <svg xmlns=\"http://www.w3.org/2000/svg\" height=\"24px\"viewBox=\"0 0 24 24\"\n",
              "       width=\"24px\">\n",
              "    <path d=\"M0 0h24v24H0V0z\" fill=\"none\"/>\n",
              "    <path d=\"M18.56 5.44l.94 2.06.94-2.06 2.06-.94-2.06-.94-.94-2.06-.94 2.06-2.06.94zm-11 1L8.5 8.5l.94-2.06 2.06-.94-2.06-.94L8.5 2.5l-.94 2.06-2.06.94zm10 10l.94 2.06.94-2.06 2.06-.94-2.06-.94-.94-2.06-.94 2.06-2.06.94z\"/><path d=\"M17.41 7.96l-1.37-1.37c-.4-.4-.92-.59-1.43-.59-.52 0-1.04.2-1.43.59L10.3 9.45l-7.72 7.72c-.78.78-.78 2.05 0 2.83L4 21.41c.39.39.9.59 1.41.59.51 0 1.02-.2 1.41-.59l7.78-7.78 2.81-2.81c.8-.78.8-2.07 0-2.86zM5.41 20L4 18.59l7.72-7.72 1.47 1.35L5.41 20z\"/>\n",
              "  </svg>\n",
              "      </button>\n",
              "      \n",
              "  <style>\n",
              "    .colab-df-container {\n",
              "      display:flex;\n",
              "      flex-wrap:wrap;\n",
              "      gap: 12px;\n",
              "    }\n",
              "\n",
              "    .colab-df-convert {\n",
              "      background-color: #E8F0FE;\n",
              "      border: none;\n",
              "      border-radius: 50%;\n",
              "      cursor: pointer;\n",
              "      display: none;\n",
              "      fill: #1967D2;\n",
              "      height: 32px;\n",
              "      padding: 0 0 0 0;\n",
              "      width: 32px;\n",
              "    }\n",
              "\n",
              "    .colab-df-convert:hover {\n",
              "      background-color: #E2EBFA;\n",
              "      box-shadow: 0px 1px 2px rgba(60, 64, 67, 0.3), 0px 1px 3px 1px rgba(60, 64, 67, 0.15);\n",
              "      fill: #174EA6;\n",
              "    }\n",
              "\n",
              "    [theme=dark] .colab-df-convert {\n",
              "      background-color: #3B4455;\n",
              "      fill: #D2E3FC;\n",
              "    }\n",
              "\n",
              "    [theme=dark] .colab-df-convert:hover {\n",
              "      background-color: #434B5C;\n",
              "      box-shadow: 0px 1px 3px 1px rgba(0, 0, 0, 0.15);\n",
              "      filter: drop-shadow(0px 1px 2px rgba(0, 0, 0, 0.3));\n",
              "      fill: #FFFFFF;\n",
              "    }\n",
              "  </style>\n",
              "\n",
              "      <script>\n",
              "        const buttonEl =\n",
              "          document.querySelector('#df-3ba115a3-fa20-4c7a-9d89-8f9f33811a40 button.colab-df-convert');\n",
              "        buttonEl.style.display =\n",
              "          google.colab.kernel.accessAllowed ? 'block' : 'none';\n",
              "\n",
              "        async function convertToInteractive(key) {\n",
              "          const element = document.querySelector('#df-3ba115a3-fa20-4c7a-9d89-8f9f33811a40');\n",
              "          const dataTable =\n",
              "            await google.colab.kernel.invokeFunction('convertToInteractive',\n",
              "                                                     [key], {});\n",
              "          if (!dataTable) return;\n",
              "\n",
              "          const docLinkHtml = 'Like what you see? Visit the ' +\n",
              "            '<a target=\"_blank\" href=https://colab.research.google.com/notebooks/data_table.ipynb>data table notebook</a>'\n",
              "            + ' to learn more about interactive tables.';\n",
              "          element.innerHTML = '';\n",
              "          dataTable['output_type'] = 'display_data';\n",
              "          await google.colab.output.renderOutput(dataTable, element);\n",
              "          const docLink = document.createElement('div');\n",
              "          docLink.innerHTML = docLinkHtml;\n",
              "          element.appendChild(docLink);\n",
              "        }\n",
              "      </script>\n",
              "    </div>\n",
              "  </div>\n",
              "  "
            ],
            "text/plain": [
              "                                              review  sentiment\n",
              "0  One of the other reviewers has mentioned that ...          0\n",
              "1  A wonderful little production. The filming tec...          0\n",
              "2  I thought this was a wonderful way to spend ti...          0\n",
              "3  Basically there's a family where a little boy ...          1\n",
              "4  Petter Mattei's \"Love in the Time of Money\" is...          0"
            ]
          },
          "metadata": {},
          "execution_count": 12
        }
      ],
      "source": [
        "IMDBtrain.head()"
      ]
    },
    {
      "cell_type": "code",
      "execution_count": null,
      "metadata": {
        "colab": {
          "base_uri": "https://localhost:8080/",
          "height": 206
        },
        "id": "YsKijAbGUoTi",
        "outputId": "646a2510-38a3-47d3-8e03-23ad8ecde4b9"
      },
      "outputs": [
        {
          "data": {
            "text/html": [
              "\n",
              "  <div id=\"df-847534ff-2739-4e53-93a5-3cf595c0ee7c\">\n",
              "    <div class=\"colab-df-container\">\n",
              "      <div>\n",
              "<style scoped>\n",
              "    .dataframe tbody tr th:only-of-type {\n",
              "        vertical-align: middle;\n",
              "    }\n",
              "\n",
              "    .dataframe tbody tr th {\n",
              "        vertical-align: top;\n",
              "    }\n",
              "\n",
              "    .dataframe thead th {\n",
              "        text-align: right;\n",
              "    }\n",
              "</style>\n",
              "<table border=\"1\" class=\"dataframe\">\n",
              "  <thead>\n",
              "    <tr style=\"text-align: right;\">\n",
              "      <th></th>\n",
              "      <th>id</th>\n",
              "      <th>label</th>\n",
              "      <th>tweet</th>\n",
              "    </tr>\n",
              "  </thead>\n",
              "  <tbody>\n",
              "    <tr>\n",
              "      <th>0</th>\n",
              "      <td>1</td>\n",
              "      <td>0</td>\n",
              "      <td>@user when a father is dysfunctional and is s...</td>\n",
              "    </tr>\n",
              "    <tr>\n",
              "      <th>1</th>\n",
              "      <td>2</td>\n",
              "      <td>0</td>\n",
              "      <td>@user @user thanks for #lyft credit i can't us...</td>\n",
              "    </tr>\n",
              "    <tr>\n",
              "      <th>2</th>\n",
              "      <td>3</td>\n",
              "      <td>0</td>\n",
              "      <td>bihday your majesty</td>\n",
              "    </tr>\n",
              "    <tr>\n",
              "      <th>3</th>\n",
              "      <td>4</td>\n",
              "      <td>0</td>\n",
              "      <td>#model   i love u take with u all the time in ...</td>\n",
              "    </tr>\n",
              "    <tr>\n",
              "      <th>4</th>\n",
              "      <td>5</td>\n",
              "      <td>0</td>\n",
              "      <td>factsguide: society now    #motivation</td>\n",
              "    </tr>\n",
              "  </tbody>\n",
              "</table>\n",
              "</div>\n",
              "      <button class=\"colab-df-convert\" onclick=\"convertToInteractive('df-847534ff-2739-4e53-93a5-3cf595c0ee7c')\"\n",
              "              title=\"Convert this dataframe to an interactive table.\"\n",
              "              style=\"display:none;\">\n",
              "        \n",
              "  <svg xmlns=\"http://www.w3.org/2000/svg\" height=\"24px\"viewBox=\"0 0 24 24\"\n",
              "       width=\"24px\">\n",
              "    <path d=\"M0 0h24v24H0V0z\" fill=\"none\"/>\n",
              "    <path d=\"M18.56 5.44l.94 2.06.94-2.06 2.06-.94-2.06-.94-.94-2.06-.94 2.06-2.06.94zm-11 1L8.5 8.5l.94-2.06 2.06-.94-2.06-.94L8.5 2.5l-.94 2.06-2.06.94zm10 10l.94 2.06.94-2.06 2.06-.94-2.06-.94-.94-2.06-.94 2.06-2.06.94z\"/><path d=\"M17.41 7.96l-1.37-1.37c-.4-.4-.92-.59-1.43-.59-.52 0-1.04.2-1.43.59L10.3 9.45l-7.72 7.72c-.78.78-.78 2.05 0 2.83L4 21.41c.39.39.9.59 1.41.59.51 0 1.02-.2 1.41-.59l7.78-7.78 2.81-2.81c.8-.78.8-2.07 0-2.86zM5.41 20L4 18.59l7.72-7.72 1.47 1.35L5.41 20z\"/>\n",
              "  </svg>\n",
              "      </button>\n",
              "      \n",
              "  <style>\n",
              "    .colab-df-container {\n",
              "      display:flex;\n",
              "      flex-wrap:wrap;\n",
              "      gap: 12px;\n",
              "    }\n",
              "\n",
              "    .colab-df-convert {\n",
              "      background-color: #E8F0FE;\n",
              "      border: none;\n",
              "      border-radius: 50%;\n",
              "      cursor: pointer;\n",
              "      display: none;\n",
              "      fill: #1967D2;\n",
              "      height: 32px;\n",
              "      padding: 0 0 0 0;\n",
              "      width: 32px;\n",
              "    }\n",
              "\n",
              "    .colab-df-convert:hover {\n",
              "      background-color: #E2EBFA;\n",
              "      box-shadow: 0px 1px 2px rgba(60, 64, 67, 0.3), 0px 1px 3px 1px rgba(60, 64, 67, 0.15);\n",
              "      fill: #174EA6;\n",
              "    }\n",
              "\n",
              "    [theme=dark] .colab-df-convert {\n",
              "      background-color: #3B4455;\n",
              "      fill: #D2E3FC;\n",
              "    }\n",
              "\n",
              "    [theme=dark] .colab-df-convert:hover {\n",
              "      background-color: #434B5C;\n",
              "      box-shadow: 0px 1px 3px 1px rgba(0, 0, 0, 0.15);\n",
              "      filter: drop-shadow(0px 1px 2px rgba(0, 0, 0, 0.3));\n",
              "      fill: #FFFFFF;\n",
              "    }\n",
              "  </style>\n",
              "\n",
              "      <script>\n",
              "        const buttonEl =\n",
              "          document.querySelector('#df-847534ff-2739-4e53-93a5-3cf595c0ee7c button.colab-df-convert');\n",
              "        buttonEl.style.display =\n",
              "          google.colab.kernel.accessAllowed ? 'block' : 'none';\n",
              "\n",
              "        async function convertToInteractive(key) {\n",
              "          const element = document.querySelector('#df-847534ff-2739-4e53-93a5-3cf595c0ee7c');\n",
              "          const dataTable =\n",
              "            await google.colab.kernel.invokeFunction('convertToInteractive',\n",
              "                                                     [key], {});\n",
              "          if (!dataTable) return;\n",
              "\n",
              "          const docLinkHtml = 'Like what you see? Visit the ' +\n",
              "            '<a target=\"_blank\" href=https://colab.research.google.com/notebooks/data_table.ipynb>data table notebook</a>'\n",
              "            + ' to learn more about interactive tables.';\n",
              "          element.innerHTML = '';\n",
              "          dataTable['output_type'] = 'display_data';\n",
              "          await google.colab.output.renderOutput(dataTable, element);\n",
              "          const docLink = document.createElement('div');\n",
              "          docLink.innerHTML = docLinkHtml;\n",
              "          element.appendChild(docLink);\n",
              "        }\n",
              "      </script>\n",
              "    </div>\n",
              "  </div>\n",
              "  "
            ],
            "text/plain": [
              "   id  label                                              tweet\n",
              "0   1      0   @user when a father is dysfunctional and is s...\n",
              "1   2      0  @user @user thanks for #lyft credit i can't us...\n",
              "2   3      0                                bihday your majesty\n",
              "3   4      0  #model   i love u take with u all the time in ...\n",
              "4   5      0             factsguide: society now    #motivation"
            ]
          },
          "execution_count": 17,
          "metadata": {},
          "output_type": "execute_result"
        }
      ],
      "source": [
        "train.head()"
      ]
    },
    {
      "cell_type": "code",
      "execution_count": null,
      "metadata": {
        "colab": {
          "base_uri": "https://localhost:8080/",
          "height": 206
        },
        "id": "zdUtK8VuU4y2",
        "outputId": "67197492-29ba-421b-f37a-839a5aac1bbf"
      },
      "outputs": [
        {
          "data": {
            "text/html": [
              "\n",
              "  <div id=\"df-efd6674c-3c0a-4d4d-9d91-e16633b0bbca\">\n",
              "    <div class=\"colab-df-container\">\n",
              "      <div>\n",
              "<style scoped>\n",
              "    .dataframe tbody tr th:only-of-type {\n",
              "        vertical-align: middle;\n",
              "    }\n",
              "\n",
              "    .dataframe tbody tr th {\n",
              "        vertical-align: top;\n",
              "    }\n",
              "\n",
              "    .dataframe thead th {\n",
              "        text-align: right;\n",
              "    }\n",
              "</style>\n",
              "<table border=\"1\" class=\"dataframe\">\n",
              "  <thead>\n",
              "    <tr style=\"text-align: right;\">\n",
              "      <th></th>\n",
              "      <th>id</th>\n",
              "      <th>tweet</th>\n",
              "    </tr>\n",
              "  </thead>\n",
              "  <tbody>\n",
              "    <tr>\n",
              "      <th>0</th>\n",
              "      <td>31963</td>\n",
              "      <td>#studiolife #aislife #requires #passion #dedic...</td>\n",
              "    </tr>\n",
              "    <tr>\n",
              "      <th>1</th>\n",
              "      <td>31964</td>\n",
              "      <td>@user #white #supremacists want everyone to s...</td>\n",
              "    </tr>\n",
              "    <tr>\n",
              "      <th>2</th>\n",
              "      <td>31965</td>\n",
              "      <td>safe ways to heal your #acne!!    #altwaystohe...</td>\n",
              "    </tr>\n",
              "    <tr>\n",
              "      <th>3</th>\n",
              "      <td>31966</td>\n",
              "      <td>is the hp and the cursed child book up for res...</td>\n",
              "    </tr>\n",
              "    <tr>\n",
              "      <th>4</th>\n",
              "      <td>31967</td>\n",
              "      <td>3rd #bihday to my amazing, hilarious #nephew...</td>\n",
              "    </tr>\n",
              "  </tbody>\n",
              "</table>\n",
              "</div>\n",
              "      <button class=\"colab-df-convert\" onclick=\"convertToInteractive('df-efd6674c-3c0a-4d4d-9d91-e16633b0bbca')\"\n",
              "              title=\"Convert this dataframe to an interactive table.\"\n",
              "              style=\"display:none;\">\n",
              "        \n",
              "  <svg xmlns=\"http://www.w3.org/2000/svg\" height=\"24px\"viewBox=\"0 0 24 24\"\n",
              "       width=\"24px\">\n",
              "    <path d=\"M0 0h24v24H0V0z\" fill=\"none\"/>\n",
              "    <path d=\"M18.56 5.44l.94 2.06.94-2.06 2.06-.94-2.06-.94-.94-2.06-.94 2.06-2.06.94zm-11 1L8.5 8.5l.94-2.06 2.06-.94-2.06-.94L8.5 2.5l-.94 2.06-2.06.94zm10 10l.94 2.06.94-2.06 2.06-.94-2.06-.94-.94-2.06-.94 2.06-2.06.94z\"/><path d=\"M17.41 7.96l-1.37-1.37c-.4-.4-.92-.59-1.43-.59-.52 0-1.04.2-1.43.59L10.3 9.45l-7.72 7.72c-.78.78-.78 2.05 0 2.83L4 21.41c.39.39.9.59 1.41.59.51 0 1.02-.2 1.41-.59l7.78-7.78 2.81-2.81c.8-.78.8-2.07 0-2.86zM5.41 20L4 18.59l7.72-7.72 1.47 1.35L5.41 20z\"/>\n",
              "  </svg>\n",
              "      </button>\n",
              "      \n",
              "  <style>\n",
              "    .colab-df-container {\n",
              "      display:flex;\n",
              "      flex-wrap:wrap;\n",
              "      gap: 12px;\n",
              "    }\n",
              "\n",
              "    .colab-df-convert {\n",
              "      background-color: #E8F0FE;\n",
              "      border: none;\n",
              "      border-radius: 50%;\n",
              "      cursor: pointer;\n",
              "      display: none;\n",
              "      fill: #1967D2;\n",
              "      height: 32px;\n",
              "      padding: 0 0 0 0;\n",
              "      width: 32px;\n",
              "    }\n",
              "\n",
              "    .colab-df-convert:hover {\n",
              "      background-color: #E2EBFA;\n",
              "      box-shadow: 0px 1px 2px rgba(60, 64, 67, 0.3), 0px 1px 3px 1px rgba(60, 64, 67, 0.15);\n",
              "      fill: #174EA6;\n",
              "    }\n",
              "\n",
              "    [theme=dark] .colab-df-convert {\n",
              "      background-color: #3B4455;\n",
              "      fill: #D2E3FC;\n",
              "    }\n",
              "\n",
              "    [theme=dark] .colab-df-convert:hover {\n",
              "      background-color: #434B5C;\n",
              "      box-shadow: 0px 1px 3px 1px rgba(0, 0, 0, 0.15);\n",
              "      filter: drop-shadow(0px 1px 2px rgba(0, 0, 0, 0.3));\n",
              "      fill: #FFFFFF;\n",
              "    }\n",
              "  </style>\n",
              "\n",
              "      <script>\n",
              "        const buttonEl =\n",
              "          document.querySelector('#df-efd6674c-3c0a-4d4d-9d91-e16633b0bbca button.colab-df-convert');\n",
              "        buttonEl.style.display =\n",
              "          google.colab.kernel.accessAllowed ? 'block' : 'none';\n",
              "\n",
              "        async function convertToInteractive(key) {\n",
              "          const element = document.querySelector('#df-efd6674c-3c0a-4d4d-9d91-e16633b0bbca');\n",
              "          const dataTable =\n",
              "            await google.colab.kernel.invokeFunction('convertToInteractive',\n",
              "                                                     [key], {});\n",
              "          if (!dataTable) return;\n",
              "\n",
              "          const docLinkHtml = 'Like what you see? Visit the ' +\n",
              "            '<a target=\"_blank\" href=https://colab.research.google.com/notebooks/data_table.ipynb>data table notebook</a>'\n",
              "            + ' to learn more about interactive tables.';\n",
              "          element.innerHTML = '';\n",
              "          dataTable['output_type'] = 'display_data';\n",
              "          await google.colab.output.renderOutput(dataTable, element);\n",
              "          const docLink = document.createElement('div');\n",
              "          docLink.innerHTML = docLinkHtml;\n",
              "          element.appendChild(docLink);\n",
              "        }\n",
              "      </script>\n",
              "    </div>\n",
              "  </div>\n",
              "  "
            ],
            "text/plain": [
              "      id                                              tweet\n",
              "0  31963  #studiolife #aislife #requires #passion #dedic...\n",
              "1  31964   @user #white #supremacists want everyone to s...\n",
              "2  31965  safe ways to heal your #acne!!    #altwaystohe...\n",
              "3  31966  is the hp and the cursed child book up for res...\n",
              "4  31967    3rd #bihday to my amazing, hilarious #nephew..."
            ]
          },
          "execution_count": 18,
          "metadata": {},
          "output_type": "execute_result"
        }
      ],
      "source": [
        "test.head()"
      ]
    },
    {
      "cell_type": "code",
      "execution_count": null,
      "metadata": {
        "colab": {
          "base_uri": "https://localhost:8080/"
        },
        "id": "lkan5BwhZhr1",
        "outputId": "6ab9185f-2516-42f0-8460-38518641ae31"
      },
      "outputs": [
        {
          "output_type": "execute_result",
          "data": {
            "text/plain": [
              "id       False\n",
              "tweet    False\n",
              "dtype: bool"
            ]
          },
          "metadata": {},
          "execution_count": 6
        }
      ],
      "source": [
        "train.isnull().any()\n",
        "test.isnull().any()"
      ]
    },
    {
      "cell_type": "code",
      "execution_count": null,
      "metadata": {
        "colab": {
          "base_uri": "https://localhost:8080/",
          "height": 363
        },
        "id": "TUUDQeD2U6lE",
        "outputId": "834bd06a-b30c-41c4-b923-1daf4044b4b8"
      },
      "outputs": [
        {
          "data": {
            "text/html": [
              "\n",
              "  <div id=\"df-5215e97d-220f-4ab5-9ee0-f6532169a423\">\n",
              "    <div class=\"colab-df-container\">\n",
              "      <div>\n",
              "<style scoped>\n",
              "    .dataframe tbody tr th:only-of-type {\n",
              "        vertical-align: middle;\n",
              "    }\n",
              "\n",
              "    .dataframe tbody tr th {\n",
              "        vertical-align: top;\n",
              "    }\n",
              "\n",
              "    .dataframe thead th {\n",
              "        text-align: right;\n",
              "    }\n",
              "</style>\n",
              "<table border=\"1\" class=\"dataframe\">\n",
              "  <thead>\n",
              "    <tr style=\"text-align: right;\">\n",
              "      <th></th>\n",
              "      <th>id</th>\n",
              "      <th>label</th>\n",
              "      <th>tweet</th>\n",
              "    </tr>\n",
              "  </thead>\n",
              "  <tbody>\n",
              "    <tr>\n",
              "      <th>0</th>\n",
              "      <td>1</td>\n",
              "      <td>0</td>\n",
              "      <td>@user when a father is dysfunctional and is s...</td>\n",
              "    </tr>\n",
              "    <tr>\n",
              "      <th>1</th>\n",
              "      <td>2</td>\n",
              "      <td>0</td>\n",
              "      <td>@user @user thanks for #lyft credit i can't us...</td>\n",
              "    </tr>\n",
              "    <tr>\n",
              "      <th>2</th>\n",
              "      <td>3</td>\n",
              "      <td>0</td>\n",
              "      <td>bihday your majesty</td>\n",
              "    </tr>\n",
              "    <tr>\n",
              "      <th>3</th>\n",
              "      <td>4</td>\n",
              "      <td>0</td>\n",
              "      <td>#model   i love u take with u all the time in ...</td>\n",
              "    </tr>\n",
              "    <tr>\n",
              "      <th>4</th>\n",
              "      <td>5</td>\n",
              "      <td>0</td>\n",
              "      <td>factsguide: society now    #motivation</td>\n",
              "    </tr>\n",
              "    <tr>\n",
              "      <th>5</th>\n",
              "      <td>6</td>\n",
              "      <td>0</td>\n",
              "      <td>[2/2] huge fan fare and big talking before the...</td>\n",
              "    </tr>\n",
              "    <tr>\n",
              "      <th>6</th>\n",
              "      <td>7</td>\n",
              "      <td>0</td>\n",
              "      <td>@user camping tomorrow @user @user @user @use...</td>\n",
              "    </tr>\n",
              "    <tr>\n",
              "      <th>7</th>\n",
              "      <td>8</td>\n",
              "      <td>0</td>\n",
              "      <td>the next school year is the year for exams.ð...</td>\n",
              "    </tr>\n",
              "    <tr>\n",
              "      <th>8</th>\n",
              "      <td>9</td>\n",
              "      <td>0</td>\n",
              "      <td>we won!!! love the land!!! #allin #cavs #champ...</td>\n",
              "    </tr>\n",
              "    <tr>\n",
              "      <th>9</th>\n",
              "      <td>10</td>\n",
              "      <td>0</td>\n",
              "      <td>@user @user welcome here !  i'm   it's so #gr...</td>\n",
              "    </tr>\n",
              "  </tbody>\n",
              "</table>\n",
              "</div>\n",
              "      <button class=\"colab-df-convert\" onclick=\"convertToInteractive('df-5215e97d-220f-4ab5-9ee0-f6532169a423')\"\n",
              "              title=\"Convert this dataframe to an interactive table.\"\n",
              "              style=\"display:none;\">\n",
              "        \n",
              "  <svg xmlns=\"http://www.w3.org/2000/svg\" height=\"24px\"viewBox=\"0 0 24 24\"\n",
              "       width=\"24px\">\n",
              "    <path d=\"M0 0h24v24H0V0z\" fill=\"none\"/>\n",
              "    <path d=\"M18.56 5.44l.94 2.06.94-2.06 2.06-.94-2.06-.94-.94-2.06-.94 2.06-2.06.94zm-11 1L8.5 8.5l.94-2.06 2.06-.94-2.06-.94L8.5 2.5l-.94 2.06-2.06.94zm10 10l.94 2.06.94-2.06 2.06-.94-2.06-.94-.94-2.06-.94 2.06-2.06.94z\"/><path d=\"M17.41 7.96l-1.37-1.37c-.4-.4-.92-.59-1.43-.59-.52 0-1.04.2-1.43.59L10.3 9.45l-7.72 7.72c-.78.78-.78 2.05 0 2.83L4 21.41c.39.39.9.59 1.41.59.51 0 1.02-.2 1.41-.59l7.78-7.78 2.81-2.81c.8-.78.8-2.07 0-2.86zM5.41 20L4 18.59l7.72-7.72 1.47 1.35L5.41 20z\"/>\n",
              "  </svg>\n",
              "      </button>\n",
              "      \n",
              "  <style>\n",
              "    .colab-df-container {\n",
              "      display:flex;\n",
              "      flex-wrap:wrap;\n",
              "      gap: 12px;\n",
              "    }\n",
              "\n",
              "    .colab-df-convert {\n",
              "      background-color: #E8F0FE;\n",
              "      border: none;\n",
              "      border-radius: 50%;\n",
              "      cursor: pointer;\n",
              "      display: none;\n",
              "      fill: #1967D2;\n",
              "      height: 32px;\n",
              "      padding: 0 0 0 0;\n",
              "      width: 32px;\n",
              "    }\n",
              "\n",
              "    .colab-df-convert:hover {\n",
              "      background-color: #E2EBFA;\n",
              "      box-shadow: 0px 1px 2px rgba(60, 64, 67, 0.3), 0px 1px 3px 1px rgba(60, 64, 67, 0.15);\n",
              "      fill: #174EA6;\n",
              "    }\n",
              "\n",
              "    [theme=dark] .colab-df-convert {\n",
              "      background-color: #3B4455;\n",
              "      fill: #D2E3FC;\n",
              "    }\n",
              "\n",
              "    [theme=dark] .colab-df-convert:hover {\n",
              "      background-color: #434B5C;\n",
              "      box-shadow: 0px 1px 3px 1px rgba(0, 0, 0, 0.15);\n",
              "      filter: drop-shadow(0px 1px 2px rgba(0, 0, 0, 0.3));\n",
              "      fill: #FFFFFF;\n",
              "    }\n",
              "  </style>\n",
              "\n",
              "      <script>\n",
              "        const buttonEl =\n",
              "          document.querySelector('#df-5215e97d-220f-4ab5-9ee0-f6532169a423 button.colab-df-convert');\n",
              "        buttonEl.style.display =\n",
              "          google.colab.kernel.accessAllowed ? 'block' : 'none';\n",
              "\n",
              "        async function convertToInteractive(key) {\n",
              "          const element = document.querySelector('#df-5215e97d-220f-4ab5-9ee0-f6532169a423');\n",
              "          const dataTable =\n",
              "            await google.colab.kernel.invokeFunction('convertToInteractive',\n",
              "                                                     [key], {});\n",
              "          if (!dataTable) return;\n",
              "\n",
              "          const docLinkHtml = 'Like what you see? Visit the ' +\n",
              "            '<a target=\"_blank\" href=https://colab.research.google.com/notebooks/data_table.ipynb>data table notebook</a>'\n",
              "            + ' to learn more about interactive tables.';\n",
              "          element.innerHTML = '';\n",
              "          dataTable['output_type'] = 'display_data';\n",
              "          await google.colab.output.renderOutput(dataTable, element);\n",
              "          const docLink = document.createElement('div');\n",
              "          docLink.innerHTML = docLinkHtml;\n",
              "          element.appendChild(docLink);\n",
              "        }\n",
              "      </script>\n",
              "    </div>\n",
              "  </div>\n",
              "  "
            ],
            "text/plain": [
              "   id  label                                              tweet\n",
              "0   1      0   @user when a father is dysfunctional and is s...\n",
              "1   2      0  @user @user thanks for #lyft credit i can't us...\n",
              "2   3      0                                bihday your majesty\n",
              "3   4      0  #model   i love u take with u all the time in ...\n",
              "4   5      0             factsguide: society now    #motivation\n",
              "5   6      0  [2/2] huge fan fare and big talking before the...\n",
              "6   7      0   @user camping tomorrow @user @user @user @use...\n",
              "7   8      0  the next school year is the year for exams.ð...\n",
              "8   9      0  we won!!! love the land!!! #allin #cavs #champ...\n",
              "9  10      0   @user @user welcome here !  i'm   it's so #gr..."
            ]
          },
          "execution_count": 13,
          "metadata": {},
          "output_type": "execute_result"
        }
      ],
      "source": [
        "# checking out the negative comments from the train set\n",
        "\n",
        "train[train['label'] == 0].head(10)"
      ]
    },
    {
      "cell_type": "code",
      "execution_count": null,
      "metadata": {
        "colab": {
          "base_uri": "https://localhost:8080/",
          "height": 363
        },
        "id": "T9JmP27wVPiL",
        "outputId": "e2d2addb-99e5-4631-a150-923b3fa51de8"
      },
      "outputs": [
        {
          "output_type": "execute_result",
          "data": {
            "text/html": [
              "\n",
              "  <div id=\"df-08bdf38b-08f1-4689-a53e-08965a12e32b\">\n",
              "    <div class=\"colab-df-container\">\n",
              "      <div>\n",
              "<style scoped>\n",
              "    .dataframe tbody tr th:only-of-type {\n",
              "        vertical-align: middle;\n",
              "    }\n",
              "\n",
              "    .dataframe tbody tr th {\n",
              "        vertical-align: top;\n",
              "    }\n",
              "\n",
              "    .dataframe thead th {\n",
              "        text-align: right;\n",
              "    }\n",
              "</style>\n",
              "<table border=\"1\" class=\"dataframe\">\n",
              "  <thead>\n",
              "    <tr style=\"text-align: right;\">\n",
              "      <th></th>\n",
              "      <th>id</th>\n",
              "      <th>label</th>\n",
              "      <th>tweet</th>\n",
              "    </tr>\n",
              "  </thead>\n",
              "  <tbody>\n",
              "    <tr>\n",
              "      <th>13</th>\n",
              "      <td>14</td>\n",
              "      <td>1</td>\n",
              "      <td>@user #cnn calls #michigan middle school 'buil...</td>\n",
              "    </tr>\n",
              "    <tr>\n",
              "      <th>14</th>\n",
              "      <td>15</td>\n",
              "      <td>1</td>\n",
              "      <td>no comment!  in #australia   #opkillingbay #se...</td>\n",
              "    </tr>\n",
              "    <tr>\n",
              "      <th>17</th>\n",
              "      <td>18</td>\n",
              "      <td>1</td>\n",
              "      <td>retweet if you agree!</td>\n",
              "    </tr>\n",
              "    <tr>\n",
              "      <th>23</th>\n",
              "      <td>24</td>\n",
              "      <td>1</td>\n",
              "      <td>@user @user lumpy says i am a . prove it lumpy.</td>\n",
              "    </tr>\n",
              "    <tr>\n",
              "      <th>34</th>\n",
              "      <td>35</td>\n",
              "      <td>1</td>\n",
              "      <td>it's unbelievable that in the 21st century we'...</td>\n",
              "    </tr>\n",
              "    <tr>\n",
              "      <th>56</th>\n",
              "      <td>57</td>\n",
              "      <td>1</td>\n",
              "      <td>@user lets fight against  #love #peace</td>\n",
              "    </tr>\n",
              "    <tr>\n",
              "      <th>68</th>\n",
              "      <td>69</td>\n",
              "      <td>1</td>\n",
              "      <td>ð©the white establishment can't have blk fol...</td>\n",
              "    </tr>\n",
              "    <tr>\n",
              "      <th>77</th>\n",
              "      <td>78</td>\n",
              "      <td>1</td>\n",
              "      <td>@user hey, white people: you can call people '...</td>\n",
              "    </tr>\n",
              "    <tr>\n",
              "      <th>82</th>\n",
              "      <td>83</td>\n",
              "      <td>1</td>\n",
              "      <td>how the #altright uses  &amp;amp; insecurity to lu...</td>\n",
              "    </tr>\n",
              "    <tr>\n",
              "      <th>111</th>\n",
              "      <td>112</td>\n",
              "      <td>1</td>\n",
              "      <td>@user i'm not interested in a #linguistics tha...</td>\n",
              "    </tr>\n",
              "  </tbody>\n",
              "</table>\n",
              "</div>\n",
              "      <button class=\"colab-df-convert\" onclick=\"convertToInteractive('df-08bdf38b-08f1-4689-a53e-08965a12e32b')\"\n",
              "              title=\"Convert this dataframe to an interactive table.\"\n",
              "              style=\"display:none;\">\n",
              "        \n",
              "  <svg xmlns=\"http://www.w3.org/2000/svg\" height=\"24px\"viewBox=\"0 0 24 24\"\n",
              "       width=\"24px\">\n",
              "    <path d=\"M0 0h24v24H0V0z\" fill=\"none\"/>\n",
              "    <path d=\"M18.56 5.44l.94 2.06.94-2.06 2.06-.94-2.06-.94-.94-2.06-.94 2.06-2.06.94zm-11 1L8.5 8.5l.94-2.06 2.06-.94-2.06-.94L8.5 2.5l-.94 2.06-2.06.94zm10 10l.94 2.06.94-2.06 2.06-.94-2.06-.94-.94-2.06-.94 2.06-2.06.94z\"/><path d=\"M17.41 7.96l-1.37-1.37c-.4-.4-.92-.59-1.43-.59-.52 0-1.04.2-1.43.59L10.3 9.45l-7.72 7.72c-.78.78-.78 2.05 0 2.83L4 21.41c.39.39.9.59 1.41.59.51 0 1.02-.2 1.41-.59l7.78-7.78 2.81-2.81c.8-.78.8-2.07 0-2.86zM5.41 20L4 18.59l7.72-7.72 1.47 1.35L5.41 20z\"/>\n",
              "  </svg>\n",
              "      </button>\n",
              "      \n",
              "  <style>\n",
              "    .colab-df-container {\n",
              "      display:flex;\n",
              "      flex-wrap:wrap;\n",
              "      gap: 12px;\n",
              "    }\n",
              "\n",
              "    .colab-df-convert {\n",
              "      background-color: #E8F0FE;\n",
              "      border: none;\n",
              "      border-radius: 50%;\n",
              "      cursor: pointer;\n",
              "      display: none;\n",
              "      fill: #1967D2;\n",
              "      height: 32px;\n",
              "      padding: 0 0 0 0;\n",
              "      width: 32px;\n",
              "    }\n",
              "\n",
              "    .colab-df-convert:hover {\n",
              "      background-color: #E2EBFA;\n",
              "      box-shadow: 0px 1px 2px rgba(60, 64, 67, 0.3), 0px 1px 3px 1px rgba(60, 64, 67, 0.15);\n",
              "      fill: #174EA6;\n",
              "    }\n",
              "\n",
              "    [theme=dark] .colab-df-convert {\n",
              "      background-color: #3B4455;\n",
              "      fill: #D2E3FC;\n",
              "    }\n",
              "\n",
              "    [theme=dark] .colab-df-convert:hover {\n",
              "      background-color: #434B5C;\n",
              "      box-shadow: 0px 1px 3px 1px rgba(0, 0, 0, 0.15);\n",
              "      filter: drop-shadow(0px 1px 2px rgba(0, 0, 0, 0.3));\n",
              "      fill: #FFFFFF;\n",
              "    }\n",
              "  </style>\n",
              "\n",
              "      <script>\n",
              "        const buttonEl =\n",
              "          document.querySelector('#df-08bdf38b-08f1-4689-a53e-08965a12e32b button.colab-df-convert');\n",
              "        buttonEl.style.display =\n",
              "          google.colab.kernel.accessAllowed ? 'block' : 'none';\n",
              "\n",
              "        async function convertToInteractive(key) {\n",
              "          const element = document.querySelector('#df-08bdf38b-08f1-4689-a53e-08965a12e32b');\n",
              "          const dataTable =\n",
              "            await google.colab.kernel.invokeFunction('convertToInteractive',\n",
              "                                                     [key], {});\n",
              "          if (!dataTable) return;\n",
              "\n",
              "          const docLinkHtml = 'Like what you see? Visit the ' +\n",
              "            '<a target=\"_blank\" href=https://colab.research.google.com/notebooks/data_table.ipynb>data table notebook</a>'\n",
              "            + ' to learn more about interactive tables.';\n",
              "          element.innerHTML = '';\n",
              "          dataTable['output_type'] = 'display_data';\n",
              "          await google.colab.output.renderOutput(dataTable, element);\n",
              "          const docLink = document.createElement('div');\n",
              "          docLink.innerHTML = docLinkHtml;\n",
              "          element.appendChild(docLink);\n",
              "        }\n",
              "      </script>\n",
              "    </div>\n",
              "  </div>\n",
              "  "
            ],
            "text/plain": [
              "      id  label                                              tweet\n",
              "13    14      1  @user #cnn calls #michigan middle school 'buil...\n",
              "14    15      1  no comment!  in #australia   #opkillingbay #se...\n",
              "17    18      1                             retweet if you agree! \n",
              "23    24      1    @user @user lumpy says i am a . prove it lumpy.\n",
              "34    35      1  it's unbelievable that in the 21st century we'...\n",
              "56    57      1            @user lets fight against  #love #peace \n",
              "68    69      1  ð©the white establishment can't have blk fol...\n",
              "77    78      1  @user hey, white people: you can call people '...\n",
              "82    83      1  how the #altright uses  &amp; insecurity to lu...\n",
              "111  112      1  @user i'm not interested in a #linguistics tha..."
            ]
          },
          "metadata": {},
          "execution_count": 14
        }
      ],
      "source": [
        "# checking out the postive comments from the train set \n",
        "\n",
        "train[train['label'] == 1].head(10)"
      ]
    },
    {
      "cell_type": "markdown",
      "metadata": {
        "id": "GWnUyxl1cWWo"
      },
      "source": [
        "## VISUALIZATION"
      ]
    },
    {
      "cell_type": "code",
      "execution_count": null,
      "metadata": {
        "id": "4_A1sIZVVUW2"
      },
      "outputs": [],
      "source": [
        "train['label'].value_counts().plot.bar(color = 'pink', figsize = (6, 4))"
      ]
    },
    {
      "cell_type": "code",
      "execution_count": null,
      "metadata": {
        "id": "D-x8C8HOVtfv"
      },
      "outputs": [],
      "source": [
        "# checking the distribution of tweets in the data\n",
        "\n",
        "length_train = train['tweet'].str.len().plot.hist(color = 'pink', figsize = (6, 4))\n",
        "length_test = test['tweet'].str.len().plot.hist(color = 'orange', figsize = (6, 4))"
      ]
    },
    {
      "cell_type": "code",
      "execution_count": null,
      "metadata": {
        "id": "ymNrskBkXSVu"
      },
      "outputs": [],
      "source": [
        "# adding a column to represent the length of the tweet\n",
        "\n",
        "train['len'] = train['tweet'].str.len()\n",
        "test['len'] = test['tweet'].str.len()\n",
        "\n",
        "train.head(10)"
      ]
    },
    {
      "cell_type": "code",
      "execution_count": null,
      "metadata": {
        "id": "5PZ4IhWRXs9b"
      },
      "outputs": [],
      "source": [
        "\n",
        "train.groupby('label').describe()"
      ]
    },
    {
      "cell_type": "code",
      "execution_count": null,
      "metadata": {
        "id": "bapBOYorYbWO"
      },
      "outputs": [],
      "source": [
        "train.groupby('len').mean()['label'].plot.hist(color = 'black', figsize = (6, 4),)\n",
        "plt.title('variation of length')\n",
        "plt.xlabel('Length')\n",
        "plt.show()"
      ]
    },
    {
      "cell_type": "markdown",
      "metadata": {
        "id": "pnVK-dFJcWWt"
      },
      "source": [
        "## PREPROCESSING"
      ]
    },
    {
      "cell_type": "code",
      "execution_count": null,
      "metadata": {
        "id": "Z6uOJsIEpn9p"
      },
      "outputs": [],
      "source": [
        "from sklearn.feature_extraction.text import CountVectorizer\n",
        "\n",
        "\n",
        "cv = CountVectorizer(stop_words = 'english',max_features=20000)\n",
        "words = cv.fit_transform(train.tweet)\n",
        "sum_words = words.sum(axis=0)\n",
        "\n",
        "words_freq = [(word, sum_words[0, i]) for word, i in cv.vocabulary_.items()]\n",
        "words_freq = sorted(words_freq, key = lambda x: x[1], reverse = True)\n",
        "\n",
        "frequency = pd.DataFrame(words_freq, columns=['word', 'freq'])\n",
        "\n",
        "frequency.head(30).plot(x='word', y='freq', kind='bar', figsize=(15, 7), color = 'blue')\n",
        "plt.title(\"Most Frequently Occuring Words - Top 30\")\n",
        "# print(cv.vocabulary_)"
      ]
    },
    {
      "cell_type": "code",
      "execution_count": null,
      "metadata": {
        "id": "ui-M3VK6pUz9"
      },
      "outputs": [],
      "source": [
        "from wordcloud import WordCloud\n",
        "\n",
        "wordcloud = WordCloud(background_color = 'white', width = 1000, height = 1000).generate_from_frequencies(dict(words_freq))\n",
        "\n",
        "plt.figure(figsize=(10,8))\n",
        "plt.imshow(wordcloud)\n",
        "plt.title(\"WordCloud - Vocabulary from Reviews\", fontsize = 22)"
      ]
    },
    {
      "cell_type": "code",
      "execution_count": null,
      "metadata": {
        "id": "MZP-49IdrAuV"
      },
      "outputs": [],
      "source": [
        "normal_words =' '.join([text for text in train['tweet'][train['label'] == 0]])\n",
        "\n",
        "wordcloud = WordCloud(width=800, height=500, random_state = 0, max_font_size = 110).generate(normal_words)\n",
        "plt.figure(figsize=(10, 7))\n",
        "plt.imshow(wordcloud, interpolation=\"bilinear\")\n",
        "plt.axis('off')\n",
        "plt.title('The Neutral Words')\n",
        "plt.show()\n"
      ]
    },
    {
      "cell_type": "code",
      "execution_count": null,
      "metadata": {
        "id": "wx5uxJlbrz6n"
      },
      "outputs": [],
      "source": [
        "negative_words =' '.join([text for text in train['tweet'][train['label'] == 1]])\n",
        "\n",
        "wordcloud = WordCloud(background_color = 'cyan', width=800, height=500, random_state = 0, max_font_size = 110).generate(negative_words)\n",
        "plt.figure(figsize=(10, 7))\n",
        "plt.imshow(wordcloud, interpolation=\"bilinear\")\n",
        "plt.axis('off')\n",
        "plt.title('The Negative Words')\n",
        "plt.show()\n"
      ]
    },
    {
      "cell_type": "code",
      "execution_count": null,
      "metadata": {
        "id": "Q2wCJWEMssNA"
      },
      "outputs": [],
      "source": [
        "# collecting the hashtags\n",
        "\n",
        "def hashtag_extract(x):\n",
        "    hashtags = []\n",
        "    \n",
        "    for i in x:\n",
        "        ht = re.findall(r\"#(\\w+)\", i)\n",
        "        hashtags.append(ht)\n",
        "\n",
        "    return hashtags"
      ]
    },
    {
      "cell_type": "code",
      "execution_count": null,
      "metadata": {
        "id": "KbruK3b0s57R"
      },
      "outputs": [],
      "source": [
        "# extracting hashtags from non racist/sexist tweets\n",
        "HT_regular = hashtag_extract(train['tweet'][train['label'] == 0])\n",
        "\n",
        "# extracting hashtags from racist/sexist tweets\n",
        "HT_negative = hashtag_extract(train['tweet'][train['label'] == 1])\n",
        "\n",
        "# unnesting list\n",
        "HT_regular = sum(HT_regular,[])\n",
        "HT_negative = sum(HT_negative,[])"
      ]
    },
    {
      "cell_type": "code",
      "execution_count": null,
      "metadata": {
        "id": "iQiErOChtWXk"
      },
      "outputs": [],
      "source": [
        "a = nltk.FreqDist(HT_regular)\n",
        "d = pd.DataFrame({'Hashtag': list(a.keys()),\n",
        "                  'Count': list(a.values())})\n",
        "\n",
        "# selecting top 20 most frequent hashtags     \n",
        "d = d.nlargest(columns=\"Count\", n = 20) \n",
        "plt.figure(figsize=(16,5))\n",
        "ax = sns.barplot(data=d, x= \"Hashtag\", y = \"Count\")\n",
        "ax.set(ylabel = 'Count')\n",
        "plt.show()"
      ]
    },
    {
      "cell_type": "code",
      "execution_count": null,
      "metadata": {
        "id": "rUbDdJsnthG5"
      },
      "outputs": [],
      "source": [
        "a = nltk.FreqDist(HT_negative)\n",
        "d = pd.DataFrame({'Hashtag': list(a.keys()),\n",
        "                  'Count': list(a.values())})\n",
        "\n",
        "# selecting top 20 most frequent hashtags     \n",
        "d = d.nlargest(columns=\"Count\", n = 20) \n",
        "plt.figure(figsize=(16,5))\n",
        "ax = sns.barplot(data=d, x= \"Hashtag\", y = \"Count\")\n",
        "ax.set(ylabel = 'Count')\n",
        "plt.show()"
      ]
    },
    {
      "cell_type": "code",
      "execution_count": null,
      "metadata": {
        "id": "Ju4eDryEuosD"
      },
      "outputs": [],
      "source": [
        "# tokenizing the words present in the training set\n",
        "tokenized_tweet = train['tweet'].apply(lambda x: x.split()) \n",
        "\n",
        "# importing gensim\n",
        "import gensim\n",
        "\n",
        "# creating a word to vector model\n",
        "model_w2v = gensim.models.Word2Vec(\n",
        "            tokenized_tweet,\n",
        "            vector_size=200, # desired no. of features/independent variables \n",
        "            window=5, # context window size\n",
        "            min_count=4, \n",
        "            sg = 1, # 1 for skip-gram model\n",
        "            hs = 0,\n",
        "            negative = 10, # for negative sampling\n",
        "            workers= 2, # no.of cores\n",
        "            seed = 34)\n",
        "\n",
        "model_w2v.train(tokenized_tweet, total_examples= len(train['tweet']), epochs=20)\n"
      ]
    },
    {
      "cell_type": "code",
      "execution_count": null,
      "metadata": {
        "id": "xm2KBPCWwc2h"
      },
      "outputs": [],
      "source": [
        "model_w2v.wv.most_similar(positive = \"dinner\")"
      ]
    },
    {
      "cell_type": "code",
      "execution_count": null,
      "metadata": {
        "id": "Xoh2wszIwnVk"
      },
      "outputs": [],
      "source": [
        "model_w2v.wv.most_similar(positive = \"cancer\")"
      ]
    },
    {
      "cell_type": "code",
      "execution_count": null,
      "metadata": {
        "id": "_qawI06Jwt0N"
      },
      "outputs": [],
      "source": [
        "model_w2v.wv.most_similar(positive = \"apple\")"
      ]
    },
    {
      "cell_type": "code",
      "execution_count": null,
      "metadata": {
        "id": "TWx3pDebxNDY"
      },
      "outputs": [],
      "source": [
        "model_w2v.wv.most_similar(negative = \"hate\")"
      ]
    },
    {
      "cell_type": "markdown",
      "metadata": {
        "id": "oZ7kdDJWcWW3"
      },
      "source": [
        "## Test and Training set Making "
      ]
    },
    {
      "cell_type": "code",
      "execution_count": null,
      "metadata": {
        "colab": {
          "base_uri": "https://localhost:8080/"
        },
        "id": "X6FuGYBNcWW4",
        "outputId": "5b9599d9-e456-4e9f-bd10-648cb4ed4732"
      },
      "outputs": [
        {
          "output_type": "stream",
          "name": "stdout",
          "text": [
            "[nltk_data] Downloading package stopwords to /root/nltk_data...\n",
            "[nltk_data]   Unzipping corpora/stopwords.zip.\n"
          ]
        }
      ],
      "source": [
        "# removing unwanted patterns from the data\n",
        "\n",
        "import re\n",
        "import nltk\n",
        "\n",
        "nltk.download('stopwords')\n",
        "from nltk.corpus import stopwords\n",
        "from nltk.stem.porter import PorterStemmer\n"
      ]
    },
    {
      "cell_type": "code",
      "execution_count": null,
      "metadata": {
        "id": "6-dtAFuCcWW5"
      },
      "outputs": [],
      "source": [
        "train_corpus = []\n",
        "\n",
        "for i in range(0, 31962):\n",
        "  review = re.sub('[^a-zA-Z]', ' ', train['tweet'][i])\n",
        "  review = review.lower()\n",
        "  review = review.split()\n",
        "  \n",
        "  ps = PorterStemmer()\n",
        "  \n",
        "  # stemming\n",
        "  review = [ps.stem(word) for word in review if not word in set(stopwords.words('english'))]\n",
        "  \n",
        "  # joining them back with space\n",
        "  review = ' '.join(review)\n",
        "  train_corpus.append(review)"
      ]
    },
    {
      "cell_type": "code",
      "execution_count": null,
      "metadata": {
        "id": "KJRl7RIUcWW6",
        "colab": {
          "base_uri": "https://localhost:8080/",
          "height": 380
        },
        "outputId": "7a30c4da-6032-4396-88ff-60f61f4ffd19"
      },
      "outputs": [
        {
          "output_type": "error",
          "ename": "KeyboardInterrupt",
          "evalue": "ignored",
          "traceback": [
            "\u001b[0;31m---------------------------------------------------------------------------\u001b[0m",
            "\u001b[0;31mKeyboardInterrupt\u001b[0m                         Traceback (most recent call last)",
            "\u001b[0;32m<ipython-input-11-6e6b189c6e61>\u001b[0m in \u001b[0;36m<module>\u001b[0;34m()\u001b[0m\n\u001b[1;32m      9\u001b[0m \u001b[0;34m\u001b[0m\u001b[0m\n\u001b[1;32m     10\u001b[0m   \u001b[0;31m# stemming\u001b[0m\u001b[0;34m\u001b[0m\u001b[0;34m\u001b[0m\u001b[0;34m\u001b[0m\u001b[0m\n\u001b[0;32m---> 11\u001b[0;31m   \u001b[0mreview\u001b[0m \u001b[0;34m=\u001b[0m \u001b[0;34m[\u001b[0m\u001b[0mps\u001b[0m\u001b[0;34m.\u001b[0m\u001b[0mstem\u001b[0m\u001b[0;34m(\u001b[0m\u001b[0mword\u001b[0m\u001b[0;34m)\u001b[0m \u001b[0;32mfor\u001b[0m \u001b[0mword\u001b[0m \u001b[0;32min\u001b[0m \u001b[0mreview\u001b[0m \u001b[0;32mif\u001b[0m \u001b[0;32mnot\u001b[0m \u001b[0mword\u001b[0m \u001b[0;32min\u001b[0m \u001b[0mset\u001b[0m\u001b[0;34m(\u001b[0m\u001b[0mstopwords\u001b[0m\u001b[0;34m.\u001b[0m\u001b[0mwords\u001b[0m\u001b[0;34m(\u001b[0m\u001b[0;34m'english'\u001b[0m\u001b[0;34m)\u001b[0m\u001b[0;34m)\u001b[0m\u001b[0;34m]\u001b[0m\u001b[0;34m\u001b[0m\u001b[0;34m\u001b[0m\u001b[0m\n\u001b[0m\u001b[1;32m     12\u001b[0m \u001b[0;34m\u001b[0m\u001b[0m\n\u001b[1;32m     13\u001b[0m   \u001b[0;31m# joining them back with space\u001b[0m\u001b[0;34m\u001b[0m\u001b[0;34m\u001b[0m\u001b[0;34m\u001b[0m\u001b[0m\n",
            "\u001b[0;32m<ipython-input-11-6e6b189c6e61>\u001b[0m in \u001b[0;36m<listcomp>\u001b[0;34m(.0)\u001b[0m\n\u001b[1;32m      9\u001b[0m \u001b[0;34m\u001b[0m\u001b[0m\n\u001b[1;32m     10\u001b[0m   \u001b[0;31m# stemming\u001b[0m\u001b[0;34m\u001b[0m\u001b[0;34m\u001b[0m\u001b[0;34m\u001b[0m\u001b[0m\n\u001b[0;32m---> 11\u001b[0;31m   \u001b[0mreview\u001b[0m \u001b[0;34m=\u001b[0m \u001b[0;34m[\u001b[0m\u001b[0mps\u001b[0m\u001b[0;34m.\u001b[0m\u001b[0mstem\u001b[0m\u001b[0;34m(\u001b[0m\u001b[0mword\u001b[0m\u001b[0;34m)\u001b[0m \u001b[0;32mfor\u001b[0m \u001b[0mword\u001b[0m \u001b[0;32min\u001b[0m \u001b[0mreview\u001b[0m \u001b[0;32mif\u001b[0m \u001b[0;32mnot\u001b[0m \u001b[0mword\u001b[0m \u001b[0;32min\u001b[0m \u001b[0mset\u001b[0m\u001b[0;34m(\u001b[0m\u001b[0mstopwords\u001b[0m\u001b[0;34m.\u001b[0m\u001b[0mwords\u001b[0m\u001b[0;34m(\u001b[0m\u001b[0;34m'english'\u001b[0m\u001b[0;34m)\u001b[0m\u001b[0;34m)\u001b[0m\u001b[0;34m]\u001b[0m\u001b[0;34m\u001b[0m\u001b[0;34m\u001b[0m\u001b[0m\n\u001b[0m\u001b[1;32m     12\u001b[0m \u001b[0;34m\u001b[0m\u001b[0m\n\u001b[1;32m     13\u001b[0m   \u001b[0;31m# joining them back with space\u001b[0m\u001b[0;34m\u001b[0m\u001b[0;34m\u001b[0m\u001b[0;34m\u001b[0m\u001b[0m\n",
            "\u001b[0;32m/usr/local/lib/python3.7/dist-packages/nltk/stem/porter.py\u001b[0m in \u001b[0;36mstem\u001b[0;34m(self, word)\u001b[0m\n\u001b[1;32m    666\u001b[0m         \u001b[0mstem\u001b[0m \u001b[0;34m=\u001b[0m \u001b[0mself\u001b[0m\u001b[0;34m.\u001b[0m\u001b[0m_step1b\u001b[0m\u001b[0;34m(\u001b[0m\u001b[0mstem\u001b[0m\u001b[0;34m)\u001b[0m\u001b[0;34m\u001b[0m\u001b[0;34m\u001b[0m\u001b[0m\n\u001b[1;32m    667\u001b[0m         \u001b[0mstem\u001b[0m \u001b[0;34m=\u001b[0m \u001b[0mself\u001b[0m\u001b[0;34m.\u001b[0m\u001b[0m_step1c\u001b[0m\u001b[0;34m(\u001b[0m\u001b[0mstem\u001b[0m\u001b[0;34m)\u001b[0m\u001b[0;34m\u001b[0m\u001b[0;34m\u001b[0m\u001b[0m\n\u001b[0;32m--> 668\u001b[0;31m         \u001b[0mstem\u001b[0m \u001b[0;34m=\u001b[0m \u001b[0mself\u001b[0m\u001b[0;34m.\u001b[0m\u001b[0m_step2\u001b[0m\u001b[0;34m(\u001b[0m\u001b[0mstem\u001b[0m\u001b[0;34m)\u001b[0m\u001b[0;34m\u001b[0m\u001b[0;34m\u001b[0m\u001b[0m\n\u001b[0m\u001b[1;32m    669\u001b[0m         \u001b[0mstem\u001b[0m \u001b[0;34m=\u001b[0m \u001b[0mself\u001b[0m\u001b[0;34m.\u001b[0m\u001b[0m_step3\u001b[0m\u001b[0;34m(\u001b[0m\u001b[0mstem\u001b[0m\u001b[0;34m)\u001b[0m\u001b[0;34m\u001b[0m\u001b[0;34m\u001b[0m\u001b[0m\n\u001b[1;32m    670\u001b[0m         \u001b[0mstem\u001b[0m \u001b[0;34m=\u001b[0m \u001b[0mself\u001b[0m\u001b[0;34m.\u001b[0m\u001b[0m_step4\u001b[0m\u001b[0;34m(\u001b[0m\u001b[0mstem\u001b[0m\u001b[0;34m)\u001b[0m\u001b[0;34m\u001b[0m\u001b[0;34m\u001b[0m\u001b[0m\n",
            "\u001b[0;32m/usr/local/lib/python3.7/dist-packages/nltk/stem/porter.py\u001b[0m in \u001b[0;36m_step2\u001b[0;34m(self, word)\u001b[0m\n\u001b[1;32m    495\u001b[0m         ]\n\u001b[1;32m    496\u001b[0m \u001b[0;34m\u001b[0m\u001b[0m\n\u001b[0;32m--> 497\u001b[0;31m         \u001b[0;32mif\u001b[0m \u001b[0mself\u001b[0m\u001b[0;34m.\u001b[0m\u001b[0mmode\u001b[0m \u001b[0;34m==\u001b[0m \u001b[0mself\u001b[0m\u001b[0;34m.\u001b[0m\u001b[0mNLTK_EXTENSIONS\u001b[0m\u001b[0;34m:\u001b[0m\u001b[0;34m\u001b[0m\u001b[0;34m\u001b[0m\u001b[0m\n\u001b[0m\u001b[1;32m    498\u001b[0m             rules.append(\n\u001b[1;32m    499\u001b[0m                 \u001b[0;34m(\u001b[0m\u001b[0;34m'fulli'\u001b[0m\u001b[0;34m,\u001b[0m \u001b[0;34m'ful'\u001b[0m\u001b[0;34m,\u001b[0m \u001b[0mself\u001b[0m\u001b[0;34m.\u001b[0m\u001b[0m_has_positive_measure\u001b[0m\u001b[0;34m)\u001b[0m\u001b[0;34m\u001b[0m\u001b[0;34m\u001b[0m\u001b[0m\n",
            "\u001b[0;31mKeyboardInterrupt\u001b[0m: "
          ]
        }
      ],
      "source": [
        "test_corpus = []\n",
        "\n",
        "for i in range(0, 17197):\n",
        "  review = re.sub('[^a-zA-Z]', ' ', test['tweet'][i])\n",
        "  review = review.lower()\n",
        "  review = review.split()\n",
        "  \n",
        "  ps = PorterStemmer()\n",
        "  \n",
        "  # stemming\n",
        "  review = [ps.stem(word) for word in review if not word in set(stopwords.words('english'))]\n",
        "  \n",
        "  # joining them back with space\n",
        "  review = ' '.join(review)\n",
        "  test_corpus.append(review)"
      ]
    },
    {
      "cell_type": "code",
      "execution_count": null,
      "metadata": {
        "colab": {
          "base_uri": "https://localhost:8080/"
        },
        "id": "oACx4Nd0cWW7",
        "outputId": "82e53e9b-0fa1-49af-b8ad-bb0d284351b8"
      },
      "outputs": [
        {
          "output_type": "execute_result",
          "data": {
            "text/plain": [
              "(50000, 2)"
            ]
          },
          "metadata": {},
          "execution_count": 18
        }
      ],
      "source": [
        "IMDBtrain.shape"
      ]
    },
    {
      "cell_type": "code",
      "execution_count": null,
      "metadata": {
        "id": "AODq03xwcWW7"
      },
      "outputs": [],
      "source": [
        "IMDB_corpus = []\n",
        "\n",
        "for i in range(0, 50000):\n",
        "  review = re.sub('[^a-zA-Z]', ' ', IMDBtrain['review'][i])\n",
        "  review = review.lower()\n",
        "  review = review.split()\n",
        "  \n",
        "  ps = PorterStemmer()\n",
        "  \n",
        "  # stemming\n",
        "  review = [ps.stem(word) for word in review if not word in set(stopwords.words('english'))]\n",
        "  \n",
        "  # joining them back with space\n",
        "  review = ' '.join(review)\n",
        "  IMDB_corpus.append(review)"
      ]
    },
    {
      "cell_type": "code",
      "execution_count": null,
      "metadata": {
        "id": "JGFOkfIHcWW7"
      },
      "outputs": [],
      "source": [
        "ytlist=[\"good\",\"bad\",\"distrack\"]\n",
        "yt1=[]\n",
        "for i in range(0, len(ytlist)):\n",
        "  review = re.sub('[^a-zA-Z]', ' ', ytlist[i])\n",
        "  review = review.lower()\n",
        "  review = review.split()\n",
        "  \n",
        "  ps = PorterStemmer()\n",
        "  \n",
        "  # stemming\n",
        "  review = [ps.stem(word) for word in review if not word in set(stopwords.words('english'))]\n",
        "  \n",
        "  # joining them back with space\n",
        "  review = ' '.join(review)\n",
        "  yt1.append(review)"
      ]
    },
    {
      "cell_type": "code",
      "execution_count": null,
      "metadata": {
        "id": "iy3wNJzI4Dwl"
      },
      "outputs": [],
      "source": [
        "def preprocessing(ytlist):\n",
        "    yt1=[]\n",
        "    for i in range(0, len(ytlist)):\n",
        "        review = re.sub('[^a-zA-Z]', ' ', ytlist[i])\n",
        "        review = review.lower()\n",
        "        review = review.split()\n",
        "        ps = PorterStemmer()\n",
        "        review = [ps.stem(word) for word in review if not word in set(stopwords.words('english'))]\n",
        "        review = ' '.join(review)\n",
        "        yt1.append(review)\n",
        "    return yt1"
      ]
    },
    {
      "cell_type": "code",
      "execution_count": null,
      "metadata": {
        "id": "p1K_UUZ_4JRu"
      },
      "outputs": [],
      "source": [
        "train11=preprocessing(train1['sss'])\n",
        "train22=preprocessing(train2['sss'])\n",
        "train33=preprocessing(train3['sss'])\n",
        "train44=preprocessing(train4['sss'])"
      ]
    },
    {
      "cell_type": "code",
      "execution_count": null,
      "metadata": {
        "id": "Iq9Kzaj6cWW8",
        "colab": {
          "base_uri": "https://localhost:8080/"
        },
        "outputId": "22a9d33a-66a6-4ffe-f325-8f79b7a434c0"
      },
      "outputs": [
        {
          "output_type": "execute_result",
          "data": {
            "text/plain": [
              "<17447x10000 sparse matrix of type '<class 'numpy.int64'>'\n",
              "\twith 114746 stored elements in Compressed Sparse Row format>"
            ]
          },
          "metadata": {},
          "execution_count": 13
        }
      ],
      "source": [
        "from sklearn.feature_extraction.text import CountVectorizer\n",
        "cv = CountVectorizer(max_features = 10000)\n",
        "cv.fit_transform(train11+train22+train33+train44)"
      ]
    },
    {
      "cell_type": "code",
      "execution_count": null,
      "metadata": {
        "id": "bhpaJKrVcWW8",
        "colab": {
          "base_uri": "https://localhost:8080/"
        },
        "outputId": "d43440b1-5b19-4694-c569-0ae2bf42deb4"
      },
      "outputs": [
        {
          "output_type": "stream",
          "name": "stdout",
          "text": [
            "{'face': 2634, 'abomin': 12, 'abort': 13, 'abras': 15, 'abrupt': 17, 'abruptli': 18, 'absenc': 19, 'absent': 20, 'mind': 4765, 'absurd': 25, 'absurdli': 27, 'abus': 30, 'abysm': 31, 'abyss': 32, 'accident': 40, 'accus': 52, 'acerb': 54, 'ach': 55, 'acrid': 63, 'acrimoni': 64, 'adam': 78, 'addict': 81, 'admonish': 94, 'adulter': 107, 'adulteri': 108, 'adversari': 113, 'advers': 112, 'afflict': 126, 'affront': 130, 'afraid': 134, 'aggrav': 148, 'aggress': 149, 'aggriev': 150, 'agoni': 155, 'agon': 154, 'aground': 157, 'ail': 162, 'ailment': 163, 'aimless': 165, 'alarm': 177, 'alarmingli': 178, 'alien': 190, 'alleg': 193, 'allergi': 198, 'aloof': 210, 'ambigu': 230, 'ambival': 233, 'amiss': 246, 'anarch': 260, 'anarchist': 262, 'anarchi': 261, 'anem': 269, 'anger': 272, 'angri': 274, 'anguish': 276, 'annihil': 284, 'annoy': 285, 'annoyingli': 286, 'anomali': 287, 'antagon': 293, 'antagonist': 294, 'anti': 297, 'american': 238, 'isra': 3998, 'occup': 5173, 'semit': 6883, 'social': 7433, 'us': 9258, 'white': 9699, 'antiqu': 301, 'anxieti': 306, 'anxiou': 307, 'anxious': 308, 'apathet': 317, 'apocalyps': 322, 'apologist': 324, 'appal': 325, 'apprehens': 338, 'arbitrari': 348, 'arcan': 350, 'arduou': 356, 'argument': 362, 'arrog': 379, 'asham': 396, 'asinin': 400, 'aspers': 404, 'assail': 408, 'assassin': 409, 'assault': 410, 'astray': 427, 'atroci': 439, 'atroc': 438, 'attack': 441, 'audaci': 450, 'audac': 449, 'auster': 463, 'autocrat': 474, 'avalanch': 478, 'avaric': 481, 'avarici': 482, 'aveng': 483, 'avers': 485, 'awe': 495, 'aw': 489, 'awkward': 497, 'back': 503, 'log': 4445, 'wood': 9828, 'backach': 504, 'backbit': 505, 'backward': 511, 'backwood': 512, 'bad': 515, 'badli': 516, 'baffl': 517, 'bait': 521, 'balk': 526, 'banal': 536, 'banish': 541, 'bankrupt': 543, 'barbarian': 550, 'barbar': 548, 'bash': 574, 'bastard': 578, 'batter': 585, 'beg': 610, 'beguil': 614, 'belat': 623, 'belittl': 628, 'belliger': 630, 'bemoan': 636, 'bemus': 637, 'bent': 652, 'bereav': 653, 'bestial': 662, 'betray': 665, 'bewar': 670, 'bewild': 671, 'bewilderingli': 672, 'bewitch': 673, 'bia': 675, 'bias': 676, 'bicker': 680, 'bid': 682, 'rig': 6357, 'bigotri': 691, 'bitch': 710, 'bitchi': 711, 'bite': 712, 'bitter': 714, 'bitterli': 715, 'bizarr': 718, 'blab': 719, 'blah': 723, 'blame': 725, 'bland': 727, 'blasphem': 732, 'blast': 733, 'blatant': 734, 'blatantli': 735, 'bleak': 737, 'bleakli': 738, 'bleed': 740, 'blemish': 741, 'blind': 745, 'blister': 749, 'bloat': 752, 'blockag': 755, 'bloodsh': 760, 'bloodi': 759, 'blow': 763, 'blunder': 769, 'blunt': 770, 'blur': 771, 'blurri': 772, 'boast': 778, 'boggl': 787, 'bogu': 788, 'boil': 790, 'boister': 792, 'bomb': 799, 'bombard': 800, 'bombast': 801, 'bore': 818, 'boredom': 819, 'botch': 824, 'bother': 825, 'bothersom': 826, 'brainless': 851, 'brash': 854, 'brat': 856, 'bravado': 858, 'brazen': 866, 'brazenli': 867, 'breach': 869, 'break': 872, 'up': 9223, 'breakdown': 873, 'breakup': 875, 'bristl': 904, 'brittl': 908, 'broke': 918, 'broken': 919, 'heart': 3417, 'brood': 921, 'bruis': 934, 'brusqu': 936, 'brutal': 937, 'bug': 949, 'buggi': 950, 'bulki': 954, 'bull': 955, 'bulli': 957, 'bump': 961, 'bumpi': 963, 'bungl': 967, 'burden': 970, 'burdensom': 971, 'burn': 977, 'bust': 984, 'butcher': 985, 'buzz': 994, 'byzantin': 999, 'cackl': 1002, 'calam': 1014, 'calamit': 1015, 'calumni': 1025, 'cancer': 1043, 'cannib': 1051, 'caprici': 1062, 'careless': 1072, 'caricatur': 1075, 'carnag': 1079, 'cartoonish': 1087, 'cash': 1092, 'strap': 7816, 'castrat': 1097, 'casualti': 1100, 'cataclysm': 1102, 'catastroph': 1103, 'caustic': 1115, 'cautionari': 1117, 'cave': 1118, 'censur': 1126, 'chafe': 1138, 'challeng': 1145, 'chao': 1153, 'chaotic': 1154, 'chastis': 1175, 'chatter': 1177, 'cheap': 1179, 'cheapen': 1180, 'cheat': 1183, 'cheesi': 1191, 'chide': 1206, 'childish': 1211, 'chill': 1214, 'chilli': 1216, 'choke': 1228, 'choppi': 1232, 'chore': 1234, 'chronic': 1244, 'clamor': 1273, 'clash': 1279, 'clich': 1298, 'cliqu': 1310, 'clog': 1314, 'cloud': 1323, 'cloudi': 1324, 'clueless': 1331, 'clumsi': 1332, 'clunki': 1335, 'coars': 1339, 'cocki': 1345, 'cold': 1357, 'coldli': 1358, 'collaps': 1362, 'combust': 1379, 'comic': 1388, 'commiser': 1395, 'commonplac': 1398, 'commot': 1399, 'complac': 1416, 'complain': 1417, 'complaint': 1418, 'complex': 1422, 'complic': 1423, 'compuls': 1431, 'conced': 1436, 'conceit': 1437, 'concen': 1439, 'concern': 1443, 'concess': 1445, 'condemn': 1449, 'condescend': 1451, 'condescens': 1452, 'confess': 1456, 'confin': 1459, 'conflict': 1461, 'confound': 1464, 'confront': 1465, 'confus': 1466, 'congest': 1468, 'con': 1433, 'conserv': 1481, 'conspicu': 1487, 'conspiraci': 1489, 'conspir': 1488, 'conspiratori': 1490, 'contagi': 1499, 'contamin': 1501, 'contempt': 1504, 'contemptu': 1505, 'contend': 1506, 'content': 1507, 'contenti': 1508, 'contort': 1512, 'contradict': 1513, 'contradictori': 1514, 'contrari': 1516, 'contriv': 1519, 'controversi': 1521, 'convolut': 1531, 'corros': 1554, 'corrupt': 1555, 'costli': 1557, 'counter': 1565, 'product': 5796, 'counterproduct': 1568, 'cowardli': 1580, 'crack': 1585, 'crafti': 1589, 'cramp': 1593, 'cranki': 1596, 'crap': 1597, 'crappi': 1598, 'crash': 1599, 'crass': 1600, 'craven': 1603, 'craze': 1606, 'crazi': 1607, 'creak': 1608, 'credul': 1618, 'creep': 1620, 'creepi': 1621, 'crime': 1629, 'crimin': 1631, 'cring': 1632, 'crippl': 1633, 'crisi': 1635, 'critic': 1639, 'crook': 1642, 'crowd': 1647, 'crude': 1649, 'cruel': 1652, 'cruelli': 1653, 'cruelti': 1654, 'crumbl': 1655, 'crummi': 1656, 'crumpl': 1657, 'crush': 1658, 'cri': 1626, 'culprit': 1674, 'cumbersom': 1678, 'cunt': 1681, 'curs': 1693, 'cuss': 1697, 'cutthroat': 1703, 'cynic': 1707, 'damag': 1715, 'damn': 1716, 'damnabl': 1717, 'danger': 1724, 'dark': 1733, 'darken': 1734, 'darker': 1735, 'daunt': 1744, 'dawdl': 1747, 'daze': 1753, 'dead': 1756, 'deadli': 1758, 'deaf': 1760, 'dearth': 1768, 'death': 1769, 'debas': 1770, 'debat': 1771, 'debauch': 1772, 'debilit': 1773, 'debt': 1774, 'decad': 1776, 'decay': 1778, 'deceit': 1779, 'deceiv': 1780, 'decept': 1783, 'declin': 1788, 'decrepit': 1791, 'decrepitud': 1792, 'decri': 1793, 'defam': 1801, 'defect': 1803, 'defens': 1805, 'defianc': 1808, 'defiant': 1809, 'defiantli': 1810, 'defici': 1811, 'defil': 1812, 'deform': 1816, 'defunct': 1819, 'defi': 1807, 'degener': 1820, 'degrad': 1821, 'dehuman': 1823, 'deject': 1825, 'delay': 1827, 'delinqu': 1836, 'deliri': 1837, 'delirium': 1838, 'delud': 1842, 'delus': 1843, 'delusion': 1844, 'demean': 1847, 'demis': 1851, 'demolish': 1856, 'demon': 1857, 'demor': 1859, 'denial': 1861, 'deni': 1860, 'dens': 1866, 'dent': 1867, 'denunci': 1869, 'deplet': 1875, 'deplor': 1876, 'deprav': 1878, 'deprec': 1879, 'depress': 1880, 'depressingli': 1881, 'depriv': 1882, 'derid': 1887, 'deris': 1888, 'desecr': 1895, 'desert': 1896, 'desicc': 1898, 'desol': 1901, 'despair': 1902, 'despairingli': 1903, 'desper': 1904, 'despic': 1905, 'despis': 1906, 'despoil': 1908, 'despond': 1909, 'despot': 1910, 'destitut': 1914, 'destroy': 1915, 'destruct': 1916, 'desultori': 1917, 'deterior': 1921, 'detest': 1923, 'detract': 1924, 'detriment': 1925, 'devast': 1927, 'devastatingli': 1928, 'deviat': 1931, 'devil': 1933, 'devilish': 1934, 'devilishli': 1935, 'deviou': 1936, 'devious': 1937, 'devoid': 1940, 'diabol': 1947, 'diatrib': 1953, 'dick': 1956, 'dictat': 1959, 'die': 1962, 'hard': 3362, 'difficult': 1965, 'difficulti': 1966, 'dilemma': 1974, 'dim': 1977, 'dimmer': 1982, 'ding': 1984, 'dire': 1988, 'dirt': 1994, 'dirtbag': 1995, 'dirti': 1996, 'disabl': 1997, 'disadvantag': 1998, 'disaffect': 1999, 'disagre': 2000, 'disapoint': 2001, 'disappoint': 2003, 'disappointingli': 2004, 'disapprov': 2005, 'disarm': 2006, 'disast': 2008, 'disastr': 2009, 'disavow': 2010, 'disbelief': 2011, 'disbeliev': 2012, 'discomfort': 2016, 'disconcert': 2017, 'disconcertingli': 2018, 'disconsol': 2020, 'discont': 2021, 'discontinu': 2022, 'discord': 2023, 'discourag': 2024, 'discourt': 2026, 'discrimin': 2030, 'disdain': 2032, 'disgrac': 2034, 'disgruntl': 2035, 'disgust': 2037, 'dishearten': 2039, 'dishonest': 2040, 'dishonesti': 2041, 'dishonor': 2042, 'disillus': 2043, 'disillusion': 2044, 'disinclin': 2045, 'disingenu': 2046, 'disintegr': 2047, 'disinterest': 2048, 'dislik': 2050, 'disloc': 2051, 'disloy': 2052, 'dismal': 2053, 'dismay': 2054, 'dismiss': 2055, 'disobedi': 2057, 'disord': 2058, 'disori': 2059, 'disparag': 2061, 'dispens': 2063, 'dispirit': 2064, 'displac': 2065, 'displeas': 2067, 'disput': 2070, 'disquiet': 2071, 'disquietingli': 2072, 'disregard': 2073, 'disreput': 2074, 'disrespect': 2075, 'disrupt': 2076, 'diss': 2077, 'dissappoint': 2078, 'dissatisfi': 2079, 'dissembl': 2081, 'dissent': 2082, 'disservic': 2083, 'dissid': 2084, 'dissolut': 2085, 'disson': 2086, 'distast': 2089, 'distort': 2094, 'distract': 2095, 'distraught': 2096, 'distress': 2097, 'distressingli': 2098, 'distrust': 2099, 'disturb': 2100, 'disturbingli': 2101, 'diverg': 2107, 'divis': 2113, 'dizzi': 2114, 'dodder': 2123, 'dog': 2126, 'dogmat': 2129, 'doldrum': 2131, 'domin': 2135, 'doom': 2144, 'doomsday': 2145, 'dope': 2148, 'doubt': 2154, 'douchebag': 2156, 'downbeat': 2163, 'downer': 2164, 'downfal': 2165, 'downhil': 2166, 'downsid': 2169, 'downturn': 2171, 'drab': 2176, 'drag': 2178, 'drain': 2182, 'drastic': 2187, 'drawback': 2189, 'dread': 2191, 'dreari': 2195, 'drip': 2205, 'drippi': 2206, 'drone': 2213, 'droop': 2215, 'drop': 2216, 'out': 5266, 'dropout': 2217, 'drown': 2219, 'drunk': 2225, 'drunken': 2226, 'dubiou': 2229, 'dud': 2231, 'dull': 2235, 'dullard': 2236, 'dumb': 2239, 'dumbfound': 2241, 'dump': 2243, 'dunc': 2244, 'dungeon': 2245, 'dupe': 2246, 'dust': 2249, 'dusti': 2250, 'dwindl': 2259, 'eccentr': 2286, 'egocentr': 2312, 'egotist': 2313, 'egregi': 2315, 'elect': 2329, 'rigger': 6358, 'elimin': 2339, 'emaci': 2356, 'embarrass': 2358, 'embarrassingli': 2359, 'embroil': 2364, 'emerg': 2365, 'emphat': 2375, 'empti': 2380, 'encroach': 2389, 'endang': 2391, 'enemi': 2399, 'enerv': 2403, 'engulf': 2412, 'enrag': 2422, 'entangl': 2429, 'entrap': 2443, 'enviou': 2448, 'envious': 2449, 'eras': 2467, 'erod': 2470, 'err': 2473, 'errant': 2474, 'errat': 2475, 'erron': 2477, 'error': 2478, 'erupt': 2479, 'escapad': 2482, 'eschew': 2484, 'estrang': 2498, 'evad': 2512, 'evas': 2517, 'evil': 2534, 'exager': 2542, 'exagger': 2543, 'exasper': 2547, 'exasperatingli': 2548, 'excess': 2554, 'exclus': 2558, 'excruci': 2559, 'excruciatingli': 2560, 'excus': 2562, 'execr': 2563, 'exhaust': 2567, 'exil': 2571, 'expens': 2582, 'expir': 2589, 'explod': 2593, 'exploit': 2594, 'explos': 2596, 'expropri': 2603, 'expuls': 2604, 'extermin': 2610, 'extort': 2612, 'extravag': 2616, 'extravagantli': 2617, 'extrem': 2619, 'extremist': 2620, 'fabric': 2631, 'faceti': 2636, 'fail': 2644, 'failur': 2645, 'faint': 2646, 'fake': 2652, 'fall': 2653, 'fallaci': 2654, 'fallen': 2655, 'fals': 2658, 'falsehood': 2659, 'falter': 2660, 'famin': 2664, 'fanat': 2668, 'fanci': 2670, 'far': 2676, 'fetch': 2748, 'farc': 2677, 'farcic': 2678, 'yet': 9938, 'provoc': 5849, 'fascism': 2684, 'fascist': 2685, 'fastidi': 2691, 'fat': 2692, 'cat': 1101, 'fatal': 2693, 'fatalist': 2694, 'fatcat': 2695, 'fate': 2696, 'fatigu': 2698, 'fault': 2700, 'faulti': 2701, 'fear': 2708, 'feebl': 2720, 'fell': 2726, 'felon': 2729, 'feroci': 2739, 'feroc': 2738, 'fetid': 2749, 'fever': 2751, 'fiasco': 2754, 'fiction': 2755, 'fictiti': 2756, 'fidget': 2759, 'fiend': 2761, 'fiendish': 2762, 'fierc': 2764, 'filth': 2779, 'fist': 2797, 'flabbergast': 2804, 'flag': 2807, 'flagrantli': 2808, 'flair': 2810, 'flake': 2811, 'flaki': 2812, 'flare': 2815, 'flareup': 2816, 'flat': 2821, 'flaunt': 2826, 'flaw': 2830, 'flee': 2832, 'fleet': 2833, 'flicker': 2841, 'flimsi': 2843, 'flirt': 2848, 'floor': 2850, 'flounder': 2854, 'fool': 2877, 'foolish': 2878, 'forbid': 2883, 'forbidden': 2884, 'forc': 2885, 'forebod': 2887, 'forg': 2892, 'forget': 2893, 'forsaken': 2907, 'foul': 2917, 'fragil': 2923, 'fragment': 2924, 'frantic': 2938, 'fraught': 2942, 'frazzl': 2943, 'freak': 2944, 'freakish': 2946, 'freez': 2954, 'frenet': 2958, 'frenzi': 2959, 'fret': 2966, 'friction': 2971, 'fri': 2970, 'friggin': 2978, 'fright': 2979, 'frighten': 2980, 'frighteningli': 2981, 'frost': 2989, 'frown': 2991, 'frozen': 2992, 'frustrat': 2994, 'frustratingli': 2995, 'fuck': 2997, 'fudg': 2998, 'fugit': 3000, 'full': 3004, 'blown': 764, 'fumbl': 3007, 'fume': 3008, 'fundament': 3011, 'funki': 3014, 'funni': 3015, 'furiou': 3019, 'furious': 3020, 'furi': 3018, 'fuss': 3022, 'fussi': 3023, 'fusti': 3024, 'futil': 3025, 'fuzzi': 3028, 'gaff': 3031, 'gainsay': 3037, 'gall': 3039, 'gangster': 3048, 'gape': 3051, 'garbag': 3052, 'garish': 3058, 'gasp': 3060, 'gaudi': 3062, 'gawk': 3064, 'gawki': 3065, 'genocid': 3081, 'get': 3095, 'rich': 6339, 'ghastli': 3096, 'ghetto': 3098, 'ghost': 3099, 'gibberish': 3103, 'giddi': 3106, 'gimmick': 3110, 'gimmicki': 3111, 'glare': 3121, 'glib': 3126, 'glibli': 3127, 'glitch': 3133, 'gloom': 3137, 'gloomi': 3138, 'glum': 3149, 'goad': 3152, 'god': 3154, 'goofi': 3180, 'gossip': 3189, 'graceless': 3199, 'graini': 3209, 'grappl': 3219, 'grate': 3221, 'grave': 3226, 'greasi': 3232, 'greed': 3237, 'greedi': 3238, 'grief': 3247, 'grievanc': 3249, 'griev': 3248, 'grievou': 3250, 'grim': 3253, 'grimac': 3254, 'grind': 3258, 'gripe': 3261, 'grisli': 3262, 'gritti': 3264, 'gross': 3268, 'grossli': 3269, 'grotesqu': 3270, 'grouchi': 3271, 'grudg': 3281, 'gruesom': 3282, 'grumbl': 3283, 'grumpi': 3284, 'guilt': 3295, 'guilti': 3296, 'gullibl': 3300, 'gutless': 3311, 'gutter': 3313, 'hack': 3319, 'halfheart': 3325, 'hallucin': 3331, 'hamper': 3336, 'handicap': 3341, 'hang': 3346, 'haphazard': 3354, 'hapless': 3355, 'harangu': 3359, 'harass': 3360, 'harbor': 3361, 'hit': 3503, 'line': 4408, 'liner': 4410, 'harden': 3363, 'hardheart': 3365, 'hardlin': 3368, 'hardship': 3369, 'harm': 3373, 'harri': 3377, 'harrow': 3379, 'harsh': 3380, 'hassl': 3387, 'hastili': 3388, 'hate': 3390, 'hater': 3391, 'hatr': 3393, 'haughti': 3394, 'haunt': 3396, 'havoc': 3397, 'haywir': 3403, 'hazard': 3404, 'hazi': 3405, 'head': 3406, 'headach': 3407, 'heartbreak': 3420, 'heartbreakingli': 3421, 'heartless': 3425, 'heavi': 3431, 'hand': 3337, 'heck': 3434, 'heckl': 3435, 'hectic': 3436, 'hedonist': 3437, 'heedless': 3438, 'hefti': 3441, 'heinou': 3445, 'hell': 3448, 'helpless': 3454, 'heresi': 3459, 'heret': 3460, 'hideou': 3476, 'hideous': 3477, 'high': 3478, 'price': 5759, 'hinder': 3488, 'hiss': 3497, 'ho': 3507, 'hum': 3585, 'hobbl': 3509, 'hog': 3512, 'hollow': 3522, 'hooligan': 3540, 'hopeless': 3544, 'hopelessli': 3545, 'hord': 3547, 'horrend': 3552, 'horribl': 3553, 'horrid': 3554, 'horrif': 3555, 'horrifi': 3556, 'hostag': 3561, 'hostil': 3562, 'hothead': 3567, 'hothous': 3568, 'huckster': 3580, 'humid': 3591, 'humili': 3593, 'hurt': 3605, 'hustler': 3609, 'hype': 3613, 'hypocrisi': 3618, 'hypocrit': 3619, 'hysteria': 3621, 'hyster': 3620, 'idioci': 3634, 'idiot': 3636, 'idl': 3637, 'ignomini': 3642, 'ignor': 3643, 'ill': 3647, 'advis': 116, 'conceiv': 1438, 'defin': 1813, 'design': 1899, 'favor': 2703, 'form': 2901, 'manner': 4599, 'natur': 5004, 'sort': 7521, 'temper': 8236, 'treat': 8610, 'treatment': 8612, 'usag': 9260, 'use': 9261, 'illeg': 3648, 'illicit': 3649, 'illiter': 3650, 'illog': 3651, 'illus': 3653, 'imaginari': 3658, 'imbecil': 3661, 'immatur': 3665, 'immin': 3671, 'immoder': 3672, 'immor': 3673, 'impair': 3676, 'impass': 3679, 'impati': 3680, 'imped': 3682, 'imperfect': 3684, 'imperi': 3685, 'imperson': 3686, 'impetu': 3687, 'implaus': 3689, 'implic': 3691, 'implod': 3693, 'impolit': 3694, 'importun': 3697, 'impos': 3698, 'imposs': 3699, 'impoverish': 3702, 'imprecis': 3703, 'imprison': 3705, 'improb': 3706, 'improperli': 3707, 'imprud': 3710, 'impud': 3711, 'impuls': 3712, 'impur': 3713, 'inabl': 3715, 'inaccuraci': 3717, 'inaccur': 3716, 'inact': 3718, 'inadequ': 3719, 'inadver': 3720, 'inadvis': 3722, 'inan': 3723, 'inappropri': 3724, 'inarticul': 3725, 'incap': 3728, 'incendiari': 3730, 'incess': 3731, 'incessantli': 3732, 'incit': 3735, 'incoher': 3739, 'incompar': 3740, 'incompat': 3741, 'incompet': 3742, 'incomplet': 3743, 'incomprehens': 3744, 'inconceiv': 3745, 'incongru': 3747, 'inconsequ': 3748, 'inconsequenti': 3749, 'inconsider': 3750, 'inconsist': 3751, 'inconsol': 3752, 'inconveni': 3753, 'incorrig': 3755, 'incredul': 3759, 'indec': 3761, 'indecis': 3763, 'indel': 3764, 'indetermin': 3766, 'indiffer': 3773, 'indign': 3775, 'indiscrimin': 3776, 'indoctrin': 3779, 'indulg': 3783, 'ineffect': 3785, 'ineffectu': 3786, 'inefficaci': 3787, 'ineffici': 3788, 'ineleg': 3789, 'ineloqu': 3790, 'inept': 3791, 'ineptitud': 3792, 'ineptli': 3793, 'inequ': 3794, 'inequit': 3795, 'inescap': 3798, 'inevit': 3800, 'inexcus': 3801, 'inexor': 3802, 'inexperi': 3803, 'inexperienc': 3804, 'inextric': 3807, 'infam': 3809, 'infami': 3810, 'infect': 3813, 'inferior': 3815, 'infest': 3816, 'infidel': 3817, 'infiltr': 3818, 'infirm': 3820, 'inflam': 3821, 'inflammatori': 3822, 'inflat': 3823, 'inflict': 3824, 'infring': 3830, 'infuri': 3831, 'infuriatingli': 3832, 'inhibit': 3841, 'inhospit': 3842, 'inhuman': 3843, 'inim': 3844, 'injur': 3848, 'injuri': 3849, 'injustic': 3850, 'innuendo': 3856, 'inordin': 3858, 'insan': 3861, 'insati': 3862, 'insecur': 3863, 'insensit': 3864, 'insidi': 3866, 'insignific': 3868, 'insincer': 3869, 'insinu': 3870, 'insol': 3873, 'insouci': 3875, 'instabl': 3877, 'instig': 3883, 'insubstanti': 3889, 'insuffer': 3890, 'insuffici': 3891, 'insular': 3892, 'insult': 3893, 'insultingli': 3894, 'insupport': 3895, 'insurmount': 3897, 'insurrect': 3898, 'intefer': 3901, 'intens': 3907, 'interfer': 3914, 'intermitt': 3920, 'interrupt': 3926, 'intimid': 3931, 'intoler': 3932, 'intox': 3933, 'intract': 3934, 'intransig': 3935, 'intrus': 3944, 'inund': 3947, 'invad': 3948, 'invalid': 3949, 'invas': 3951, 'invidi': 3955, 'invis': 3959, 'irat': 3967, 'irk': 3971, 'irksom': 3972, 'iron': 3973, 'ironi': 3974, 'irrat': 3975, 'irration': 3976, 'irreconcil': 3977, 'irrecover': 3978, 'irredeem': 3979, 'irregular': 3980, 'irrelev': 3981, 'irrepar': 3982, 'irreplac': 3983, 'irrepress': 3984, 'irrespons': 3986, 'irrevers': 3988, 'irrit': 3990, 'isol': 3997, 'issu': 4000, 'itch': 4003, 'jade': 4018, 'jag': 4019, 'jam': 4022, 'jar': 4030, 'jaundic': 4034, 'jealou': 4040, 'jealous': 4041, 'jealousi': 4042, 'jeer': 4044, 'jeopardi': 4051, 'jerk': 4053, 'jerki': 4054, 'jitter': 4070, 'job': 4074, 'kill': 4171, 'joke': 4083, 'joker': 4084, 'jolt': 4089, 'judder': 4109, 'junk': 4128, 'junki': 4129, 'jutter': 4133, 'killer': 4172, 'knife': 4198, 'knock': 4199, 'knot': 4203, 'kooki': 4209, 'lack': 4233, 'lackadais': 4234, 'lackey': 4235, 'lacklust': 4236, 'lacon': 4237, 'lag': 4242, 'laid': 4244, 'lambast': 4248, 'lame': 4249, 'duck': 2230, 'lament': 4250, 'languid': 4259, 'languish': 4260, 'languor': 4261, 'laps': 4264, 'lascivi': 4273, 'last': 4275, 'ditch': 2102, 'laughabl': 4288, 'lawbreak': 4298, 'lawless': 4299, 'layoff': 4304, 'happi': 3357, 'lazi': 4305, 'leak': 4312, 'leakag': 4313, 'leaki': 4314, 'lecher': 4325, 'leer': 4329, 'leeri': 4330, 'left': 4331, 'lean': 4315, 'lemon': 4342, 'lengthi': 4346, 'less': 4351, 'develop': 1929, 'lesser': 4353, 'known': 4206, 'lethal': 4357, 'letharg': 4358, 'lewd': 4364, 'liabil': 4368, 'liabl': 4369, 'liar': 4371, 'licenti': 4378, 'lie': 4380, 'life': 4382, 'threaten': 8361, 'lifeless': 4383, 'limit': 4406, 'limp': 4407, 'listless': 4420, 'littl': 4428, 'loath': 4437, 'loathsom': 4438, 'lone': 4453, 'loneli': 4454, 'long': 4455, 'time': 8421, 'wind': 9759, 'loophol': 4463, 'loos': 4465, 'lose': 4470, 'loser': 4471, 'loss': 4472, 'lost': 4473, 'loud': 4475, 'louder': 4476, 'lousi': 4478, 'loveless': 4482, 'low': 4485, 'rate': 5996, 'lowli': 4488, 'ludicr': 4501, 'lugubri': 4502, 'lukewarm': 4503, 'lull': 4504, 'lumpi': 4509, 'lunat': 4511, 'lurch': 4513, 'lure': 4514, 'lurid': 4515, 'lurk': 4517, 'macabr': 4529, 'mad': 4534, 'madden': 4536, 'maddeningli': 4537, 'madman': 4539, 'maladjust': 4568, 'malais': 4569, 'malcont': 4571, 'maledict': 4573, 'malevol': 4574, 'malic': 4575, 'malici': 4576, 'malign': 4577, 'mangl': 4588, 'mania': 4592, 'maniac': 4593, 'manic': 4594, 'manipul': 4597, 'mar': 4603, 'margin': 4608, 'martyrdom': 4624, 'seek': 6850, 'massacr': 4634, 'matt': 4645, 'mawkish': 4652, 'meager': 4667, 'meaningless': 4672, 'mean': 4669, 'meddl': 4679, 'mediocr': 4683, 'melancholi': 4692, 'melodramat': 4697, 'meltdown': 4699, 'menac': 4707, 'mercilessli': 4714, 'mess': 4723, 'messi': 4726, 'mindless': 4766, 'mire': 4781, 'misalign': 4782, 'misbecom': 4784, 'misbegotten': 4785, 'miscalcul': 4786, 'miscellan': 4788, 'mischief': 4789, 'mischiev': 4790, 'misconcept': 4792, 'miscreant': 4793, 'misdirect': 4795, 'miser': 4796, 'miseri': 4797, 'misfit': 4799, 'misfortun': 4800, 'misgiv': 4801, 'misguid': 4802, 'mishandl': 4803, 'misinform': 4805, 'misjudg': 4806, 'mislead': 4807, 'mispronounc': 4812, 'misread': 4813, 'miss': 4814, 'mist': 4818, 'mistak': 4819, 'mistaken': 4820, 'mistakenli': 4821, 'mistress': 4823, 'mistrust': 4824, 'misunderstand': 4825, 'misunderstood': 4826, 'misus': 4827, 'moan': 4832, 'mock': 4834, 'mockeri': 4835, 'molest': 4850, 'monoton': 4864, 'monotoni': 4865, 'monster': 4867, 'monstros': 4868, 'monstrou': 4869, 'monstrous': 4870, 'moodi': 4877, 'moot': 4881, 'mope': 4883, 'morbid': 4886, 'mordant': 4887, 'mordantli': 4888, 'moron': 4894, 'mortifi': 4901, 'motionless': 4910, 'mourn': 4916, 'muddl': 4933, 'muddi': 4932, 'mudsling': 4934, 'multi': 4937, 'mundan': 4944, 'murder': 4945, 'murki': 4947, 'muscl': 4949, 'flex': 2837, 'mushi': 4953, 'musti': 4960, 'mysteri': 4967, 'mystifi': 4969, 'myth': 4970, 'nag': 4976, 'naiv': 4980, 'narrow': 4997, 'nasti': 4999, 'naughti': 5007, 'nauseat': 5008, 'nauseatingli': 5009, 'na': 4973, 'nebul': 5021, 'needless': 5028, 'needlessli': 5029, 'needi': 5027, 'nefari': 5030, 'negat': 5032, 'neg': 5031, 'neglect': 5033, 'neglig': 5034, 'nemesi': 5041, 'nervou': 5050, 'nervous': 5051, 'neurot': 5056, 'niggl': 5082, 'nightmar': 5084, 'nightmarish': 5085, 'nitpick': 5092, 'nois': 5099, 'noisi': 5100, 'non': 5103, 'confid': 1458, 'nonexist': 5107, 'nonsens': 5109, 'notori': 5129, 'noxiou': 5139, 'numb': 5144, 'object': 5152, 'objection': 5153, 'obliter': 5156, 'oblivi': 5157, 'obnoxi': 5158, 'obscen': 5159, 'obscur': 5160, 'obsess': 5162, 'obsolet': 5163, 'obstacl': 5164, 'obstin': 5165, 'obstruct': 5166, 'obtus': 5167, 'occlud': 5172, 'odd': 5178, 'oddest': 5180, 'odditi': 5181, 'oddli': 5182, 'odor': 5184, 'offend': 5189, 'offens': 5190, 'offici': 5193, 'omin': 5210, 'omiss': 5211, 'omit': 5212, 'one': 5214, 'side': 7124, 'oner': 5215, 'opinion': 5230, 'opportunist': 5232, 'oppos': 5233, 'opposit': 5234, 'oppress': 5235, 'ordeal': 5247, 'orphan': 5256, 'outburst': 5267, 'outcast': 5268, 'outrag': 5278, 'outsid': 5282, 'act': 66, 'balanc': 523, 'valuat': 9302, 'overact': 5286, 'overbear': 5288, 'overblown': 5289, 'overdo': 5293, 'overdon': 5294, 'overdu': 5296, 'overkil': 5300, 'overload': 5302, 'overlook': 5304, 'overplay': 5305, 'overpow': 5306, 'overreach': 5308, 'overrun': 5309, 'overshadow': 5311, 'oversight': 5312, 'oversimplif': 5313, 'oversimplifi': 5314, 'overs': 5310, 'overst': 5315, 'overstat': 5316, 'overthrow': 5319, 'overweight': 5324, 'overwhelm': 5325, 'overwhelmingli': 5326, 'overzeal': 5329, 'pain': 5346, 'pale': 5353, 'pan': 5360, 'pandemonium': 5362, 'pander': 5363, 'panic': 5364, 'panick': 5365, 'paradox': 5378, 'paralyz': 5380, 'paranoia': 5382, 'paranoid': 5383, 'parodi': 5391, 'partial': 5395, 'partisan': 5401, 'pass': 5406, 'passiv': 5411, 'pathet': 5421, 'patron': 5428, 'pauciti': 5429, 'pauper': 5434, 'payback': 5441, 'peculiar': 5448, 'peculiarli': 5449, 'peel': 5455, 'peev': 5457, 'peevish': 5458, 'penalti': 5465, 'perfunctori': 5486, 'peril': 5488, 'perplex': 5496, 'persecut': 5498, 'pertinaci': 5510, 'perturb': 5511, 'pervas': 5512, 'pervers': 5513, 'pervert': 5514, 'pessim': 5517, 'pessimist': 5518, 'petrifi': 5522, 'petti': 5523, 'phoni': 5537, 'picket': 5549, 'picki': 5550, 'pig': 5558, 'pillag': 5562, 'pimpl': 5564, 'pinch': 5566, 'piqu': 5573, 'piti': 5579, 'plagu': 5585, 'playth': 5601, 'plea': 5603, 'plight': 5612, 'plot': 5615, 'ploy': 5618, 'plunder': 5626, 'pointless': 5639, 'poison': 5641, 'pokey': 5644, 'poki': 5645, 'polem': 5647, 'pollut': 5652, 'pompou': 5656, 'poor': 5661, 'poorli': 5662, 'postur': 5688, 'poverti': 5699, 'pratfal': 5708, 'prattl': 5709, 'precari': 5714, 'precipit': 5718, 'predica': 5723, 'prejudic': 5730, 'preposter': 5736, 'presumptu': 5745, 'pretenc': 5747, 'pretend': 5748, 'pretens': 5749, 'pretenti': 5750, 'prickl': 5761, 'pride': 5762, 'primit': 5770, 'prison': 5777, 'problem': 5785, 'problemat': 5787, 'procrastin': 5793, 'profan': 5797, 'prohibit': 5811, 'propaganda': 5824, 'protest': 5841, 'protract': 5842, 'provok': 5850, 'pugnaci': 5874, 'punch': 5884, 'punish': 5889, 'punit': 5890, 'punk': 5891, 'puppet': 5892, 'puzzl': 5906, 'puzzlement': 5907, 'qualm': 5915, 'quandari': 5916, 'quarrel': 5917, 'quash': 5919, 'question': 5926, 'quibbl': 5928, 'racism': 5949, 'racist': 5950, 'raci': 5947, 'radic': 5954, 'rage': 5958, 'rag': 5956, 'rail': 5960, 'rake': 5966, 'rampant': 5971, 'ramshackl': 5973, 'rancor': 5976, 'rant': 5982, 'rape': 5984, 'rascal': 5993, 'rash': 5994, 'rattl': 6000, 'ravag': 6004, 'rave': 6005, 'reactionari': 6016, 'rebelli': 6033, 'recess': 6040, 'reckless': 6043, 'recoil': 6048, 'redund': 6071, 'refus': 6087, 'refut': 6088, 'regress': 6099, 'regret': 6100, 'regrett': 6101, 'reject': 6115, 'relaps': 6122, 'relentless': 6130, 'relentlessli': 6131, 'reluct': 6143, 'reluctantli': 6144, 'remors': 6157, 'remorseless': 6158, 'remorselessli': 6159, 'renounc': 6172, 'renunci': 6176, 'repel': 6186, 'repetit': 6188, 'reprehens': 6194, 'repress': 6198, 'reprimand': 6200, 'reproach': 6201, 'reprov': 6203, 'reprovingli': 6204, 'repudi': 6207, 'repugn': 6208, 'repugnantli': 6209, 'repuls': 6210, 'resent': 6220, 'resign': 6225, 'resist': 6227, 'restless': 6245, 'restrict': 6249, 'resurg': 6256, 'retali': 6262, 'retaliatori': 6263, 'retard': 6264, 'retarded': 6265, 'retic': 6269, 'retract': 6275, 'retreat': 6278, 'reveng': 6290, 'revert': 6295, 'revil': 6298, 'revok': 6305, 'revolt': 6306, 'revoltingli': 6307, 'revuls': 6312, 'rhapsod': 6322, 'rhetor': 6323, 'ricer': 6338, 'ridicul': 6351, 'rife': 6353, 'rift': 6356, 'rigid': 6364, 'rile': 6367, 'rip': 6374, 'ripoff': 6377, 'risk': 6381, 'riski': 6382, 'rival': 6388, 'rivalri': 6389, 'roadblock': 6396, 'rocki': 6411, 'rogu': 6420, 'rollercoast': 6432, 'rot': 6467, 'rotten': 6473, 'rough': 6475, 'rremedi': 6492, 'rubbish': 6494, 'rude': 6499, 'rue': 6502, 'ruffian': 6504, 'ruffl': 6505, 'ruin': 6510, 'ruinou': 6511, 'rumbl': 6513, 'rumor': 6515, 'rumour': 6516, 'rumpl': 6517, 'run': 6518, 'runaway': 6519, 'ruptur': 6524, 'rust': 6533, 'rusti': 6534, 'rut': 6536, 'ruthless': 6537, 'ruthlessli': 6538, 'sabotag': 6550, 'sack': 6553, 'sacrif': 6555, 'sad': 6557, 'sadden': 6559, 'sadli': 6565, 'sag': 6568, 'saggi': 6572, 'salaci': 6583, 'sanctimoni': 6610, 'sap': 6627, 'sarcasm': 6634, 'sarcast': 6635, 'sardon': 6637, 'sass': 6639, 'satir': 6645, 'savag': 6660, 'savageri': 6661, 'scali': 6678, 'scam': 6679, 'scandal': 6681, 'scandel': 6682, 'scant': 6684, 'scapegoat': 6685, 'scar': 6686, 'scarc': 6687, 'scarciti': 6688, 'scare': 6689, 'scarier': 6693, 'scariest': 6694, 'scarili': 6696, 'scari': 6692, 'scath': 6699, 'scathingli': 6700, 'sceptic': 6709, 'scoff': 6755, 'scoffingli': 6756, 'scold': 6757, 'scoldingli': 6758, 'scorch': 6766, 'scorchingli': 6768, 'scorn': 6770, 'scoundrel': 6777, 'scourg': 6778, 'scowl': 6780, 'scrambl': 6781, 'scrap': 6782, 'scratch': 6786, 'scratchi': 6787, 'scream': 6789, 'screech': 6791, 'screw': 6796, 'screwi': 6798, 'scuff': 6809, 'scum': 6810, 'scummi': 6811, 'second': 6833, 'class': 1280, 'tier': 8410, 'secret': 6836, 'sedentari': 6844, 'seedi': 6849, 'seeth': 6856, 'self': 6870, 'defeat': 1802, 'interest': 3912, 'serv': 6931, 'selfinterest': 6871, 'selfish': 6872, 'selfishli': 6873, 'semi': 6881, 'senil': 6890, 'sensation': 6895, 'senseless': 6896, 'senselessli': 6897, 'serious': 6926, 'sermon': 6927, 'servitud': 6934, 'set': 6936, 'setback': 6937, 'sever': 6947, 'sh': 6959, 'shabbi': 6961, 'shadowi': 6966, 'shadi': 6964, 'shake': 6973, 'shaki': 6978, 'shallow': 6980, 'sham': 6982, 'shambl': 6983, 'shame': 6984, 'shameless': 6985, 'shamelessli': 6986, 'shark': 6998, 'sharpli': 7004, 'shatter': 7006, 'shemal': 7024, 'shimmer': 7033, 'shimmi': 7035, 'shipwreck': 7042, 'shirk': 7044, 'shirker': 7045, 'shit': 7048, 'shiver': 7049, 'shock': 7052, 'shockingli': 7054, 'shoddi': 7056, 'short': 7067, 'live': 4430, 'shortag': 7068, 'shortchang': 7069, 'shortcom': 7070, 'shortsight': 7074, 'shortsighted': 7075, 'showdown': 7084, 'shrew': 7095, 'shriek': 7098, 'shrill': 7100, 'shrilli': 7101, 'shrivel': 7102, 'shroud': 7103, 'shrug': 7104, 'shun': 7110, 'sick': 7119, 'sicken': 7120, 'sickeningli': 7121, 'sickli': 7122, 'sidetrack': 7130, 'sieg': 7133, 'sillili': 7153, 'silli': 7149, 'simplist': 7168, 'sin': 7172, 'sinist': 7184, 'sinisterli': 7185, 'sink': 7186, 'skeleton': 7212, 'skeptic': 7213, 'sketchi': 7216, 'skimpi': 7225, 'skinni': 7228, 'skittish': 7234, 'skittishli': 7235, 'skulk': 7237, 'slack': 7245, 'slander': 7251, 'slap': 7253, 'slash': 7257, 'slaughter': 7260, 'slave': 7261, 'sleazi': 7266, 'slime': 7289, 'slog': 7299, 'sloooooooooooooow': 7301, 'sloooow': 7302, 'slooow': 7303, 'sloow': 7304, 'sloppili': 7308, 'sloppi': 7307, 'sloth': 7310, 'slow': 7313, 'move': 4919, 'slower': 7314, 'slowest': 7315, 'slowli': 7316, 'sloww': 7318, 'slowww': 7319, 'slowwww': 7320, 'slug': 7321, 'sluggish': 7323, 'slump': 7329, 'slur': 7330, 'slut': 7331, 'sli': 7279, 'smack': 7333, 'smallish': 7338, 'smash': 7344, 'smear': 7346, 'smell': 7348, 'smelli': 7349, 'smelt': 7350, 'smoke': 7356, 'smokescreen': 7358, 'smolder': 7361, 'smother': 7368, 'smoulder': 7369, 'smudg': 7370, 'smug': 7371, 'smugli': 7373, 'smut': 7374, 'smuttier': 7376, 'smuttiest': 7377, 'smutti': 7375, 'snag': 7379, 'snappish': 7384, 'snappishli': 7385, 'snare': 7387, 'snarki': 7388, 'snarl': 7389, 'sneak': 7392, 'sneakili': 7394, 'sneaki': 7393, 'sneer': 7395, 'sneeringli': 7396, 'snob': 7403, 'snobbish': 7406, 'snobbi': 7405, 'snobish': 7407, 'snub': 7416, 'cal': 1013, 'soapi': 7423, 'sob': 7426, 'sober': 7427, 'solemn': 7461, 'solicitud': 7465, 'somber': 7479, 'sore': 7513, 'sorrow': 7520, 'sorri': 7518, 'sour': 7532, 'sourli': 7534, 'spade': 7543, 'spank': 7553, 'spendi': 7590, 'spew': 7592, 'spill': 7603, 'spiritless': 7610, 'spite': 7613, 'splatter': 7615, 'split': 7620, 'spoil': 7621, 'spoilag': 7622, 'spook': 7625, 'spookili': 7627, 'spooki': 7626, 'spoon': 7628, 'fed': 2719, 'feed': 2721, 'spoonf': 7629, 'sporad': 7630, 'spotti': 7637, 'spuriou': 7658, 'spurn': 7659, 'sputter': 7661, 'squabbl': 7663, 'squander': 7667, 'squash': 7669, 'squeak': 7670, 'squeaki': 7671, 'squeal': 7672, 'squirm': 7676, 'stab': 7682, 'stagnant': 7694, 'stagnat': 7695, 'staid': 7696, 'stain': 7697, 'stale': 7702, 'stalem': 7703, 'stall': 7706, 'stammer': 7710, 'stamped': 7713, 'standstil': 7720, 'stark': 7729, 'starkli': 7730, 'startl': 7735, 'startlingli': 7736, 'starvat': 7738, 'starv': 7737, 'static': 7745, 'steal': 7756, 'steep': 7759, 'stench': 7763, 'stereotyp': 7766, 'stern': 7769, 'stew': 7773, 'sticki': 7776, 'stiff': 7778, 'stifl': 7779, 'stiflingli': 7780, 'sting': 7785, 'stink': 7786, 'stodgi': 7791, 'stoog': 7797, 'stormi': 7804, 'strain': 7810, 'strang': 7812, 'stranger': 7813, 'strangest': 7814, 'strangl': 7815, 'strenuou': 7825, 'stress': 7827, 'stricken': 7829, 'strict': 7830, 'strictli': 7831, 'strident': 7832, 'strike': 7833, 'stringent': 7836, 'struck': 7844, 'struggl': 7846, 'strut': 7848, 'stubborn': 7850, 'stubbornli': 7851, 'stuck': 7852, 'stuffi': 7860, 'stumbl': 7863, 'stump': 7864, 'stun': 7865, 'stunt': 7867, 'stupid': 7870, 'stupidest': 7871, 'stupidli': 7872, 'stupifi': 7873, 'stupor': 7874, 'stutter': 7877, 'stymi': 7883, 'sub': 7887, 'par': 5373, 'subdu': 7890, 'subject': 7892, 'subjug': 7893, 'subordin': 7897, 'subpoena': 7899, 'subservi': 7901, 'substandard': 7904, 'subvers': 7916, 'succumb': 7922, 'suck': 7923, 'sucker': 7924, 'sue': 7928, 'su': 7884, 'suffer': 7929, 'suffoc': 7932, 'sugar': 7934, 'coat': 1342, 'sugarco': 7935, 'suicid': 7939, 'sulk': 7942, 'sunder': 7954, 'sunk': 7956, 'sunken': 7957, 'superfici': 7967, 'superflu': 7969, 'superstit': 7979, 'superstiti': 7980, 'suppress': 7986, 'surrend': 8011, 'suscept': 8018, 'suspect': 8020, 'suspicion': 8025, 'suspici': 8024, 'swagger': 8030, 'swamp': 8032, 'sweati': 8045, 'swell': 8053, 'swindl': 8061, 'swipe': 8064, 'swollen': 8068, 'symptom': 8087, 'syndrom': 8092, 'taboo': 8104, 'tacki': 8106, 'taint': 8116, 'tamper': 8136, 'tangl': 8142, 'tank': 8144, 'tantrum': 8149, 'tardi': 8159, 'tarnish': 8163, 'tatter': 8175, 'taunt': 8178, 'tauntingli': 8179, 'taut': 8180, 'tawdri': 8183, 'tax': 8184, 'teas': 8200, 'teasingli': 8201, 'tediou': 8212, 'tedious': 8213, 'temer': 8235, 'tempest': 8238, 'temptat': 8244, 'tender': 8252, 'tens': 8258, 'tension': 8259, 'tent': 8260, 'tenuou': 8262, 'tenuous': 8263, 'tepid': 8265, 'terribl': 8273, 'terror': 8278, 'testili': 8284, 'testi': 8282, 'tetchili': 8289, 'tetchi': 8288, 'thankless': 8300, 'thicker': 8326, 'thirst': 8337, 'thorni': 8345, 'thoughtless': 8353, 'thoughtlessli': 8354, 'thrash': 8357, 'threat': 8360, 'threesom': 8364, 'throb': 8374, 'throttl': 8376, 'thug': 8386, 'thumb': 8389, 'thwart': 8395, 'consum': 1496, 'timid': 8428, 'timidli': 8429, 'tingl': 8432, 'tire': 8442, 'tiresom': 8444, 'tiringli': 8445, 'toil': 8466, 'toll': 8473, 'top': 8500, 'toppl': 8505, 'torment': 8507, 'torrent': 8517, 'tortuou': 8518, 'tortur': 8519, 'totalitarian': 8524, 'touchi': 8527, 'tough': 8530, 'tout': 8536, 'toxic': 8542, 'traduc': 8553, 'tragedi': 8555, 'tragic': 8556, 'traitor': 8563, 'tramp': 8566, 'trampl': 8567, 'transgress': 8578, 'trap': 8588, 'trape': 8589, 'trash': 8591, 'trashi': 8592, 'trauma': 8593, 'traumat': 8594, 'travesti': 8599, 'treacher': 8603, 'treacheri': 8604, 'treason': 8608, 'trick': 8629, 'trickeri': 8630, 'tricki': 8631, 'trivial': 8650, 'troubl': 8662, 'troublemak': 8663, 'troublesom': 8664, 'troublingli': 8665, 'truant': 8669, 'tumbl': 8703, 'tumultu': 8707, 'turbul': 8717, 'turmoil': 8723, 'twist': 8750, 'two': 8754, 'tyrann': 8761, 'tyranni': 8762, 'tyrant': 8763, 'ugh': 8768, 'uglier': 8770, 'ugliest': 8771, 'ugli': 8769, 'ulterior': 8776, 'ultimatum': 8778, 'ultra': 8779, 'un': 8784, 'viewabl': 9421, 'unabl': 8788, 'unaccept': 8789, 'unaccess': 8790, 'unaccustom': 8792, 'unachiev': 8793, 'unafford': 8797, 'unapp': 8803, 'unattract': 8808, 'unauthent': 8809, 'unavail': 8810, 'unavoid': 8811, 'unbear': 8814, 'unbeliev': 8816, 'uncar': 8826, 'uncertain': 8828, 'uncivil': 8835, 'unclean': 8838, 'unclear': 8839, 'uncollect': 8841, 'uncomfort': 8843, 'uncomfi': 8842, 'uncompetit': 8848, 'uncompromis': 8850, 'uncompromisingli': 8851, 'unconfirm': 8855, 'unconstitut': 8858, 'uncontrol': 8859, 'unconvinc': 8861, 'unconvincingli': 8862, 'uncoop': 8864, 'uncouth': 8866, 'uncr': 8868, 'undecid': 8874, 'undefin': 8875, 'undepend': 8878, 'undercut': 8887, 'underdog': 8889, 'underestim': 8892, 'underl': 8897, 'undermin': 8901, 'underpaid': 8904, 'underpow': 8907, 'unders': 8910, 'undesir': 8928, 'undetermin': 8929, 'undid': 8932, 'undignifi': 8933, 'undissolv': 8938, 'undocu': 8941, 'undon': 8943, 'undu': 8948, 'uneas': 8950, 'uneasili': 8952, 'uneasi': 8951, 'uneconom': 8953, 'unemploy': 8958, 'unequ': 8965, 'uneth': 8969, 'uneven': 8971, 'unev': 8970, 'unexpect': 8975, 'unexpectedli': 8976, 'unexplain': 8977, 'unfairli': 8979, 'unfaith': 8980, 'unfamiliar': 8982, 'unfavor': 8984, 'unfeel': 8986, 'unfinish': 8989, 'unfit': 8990, 'unforeseen': 8999, 'unforgiv': 9001, 'unfortun': 9004, 'unfound': 9005, 'unfriendli': 9007, 'unfulfil': 9008, 'unfund': 9009, 'ungovern': 9014, 'ungrat': 9015, 'unhappili': 9018, 'unhappi': 9017, 'unhealthi': 9019, 'unhelp': 9020, 'unilater': 9029, 'unimagin': 9030, 'unimport': 9032, 'uninform': 9036, 'uninsur': 9040, 'unintellig': 9041, 'unintelligil': 9042, 'unipolar': 9048, 'unjust': 9055, 'unjustifi': 9056, 'unjustli': 9057, 'unkind': 9058, 'unkindli': 9059, 'unknown': 9061, 'unlament': 9062, 'unlaw': 9064, 'unleash': 9065, 'unlicens': 9067, 'unlik': 9068, 'unlucki': 9073, 'unmov': 9081, 'unnatur': 9083, 'unnecessari': 9084, 'unneed': 9085, 'unnerv': 9086, 'unnervingli': 9087, 'unnot': 9088, 'unobserv': 9090, 'unorthodox': 9094, 'unorthodoxi': 9095, 'unpleas': 9100, 'unpleasantri': 9102, 'unpopular': 9104, 'unpredict': 9106, 'unprepar': 9107, 'unproduct': 9109, 'unprofit': 9110, 'unprov': 9111, 'unproven': 9112, 'unqualifi': 9114, 'unravel': 9116, 'unreach': 9117, 'unread': 9118, 'unrealist': 9120, 'unreason': 9121, 'unrel': 9124, 'unrelentingli': 9125, 'unreli': 9126, 'unresolv': 9134, 'unrespons': 9135, 'unrest': 9136, 'unruli': 9141, 'unsaf': 9142, 'unsatisfactori': 9145, 'unsavori': 9148, 'unscrupul': 9151, 'unsecur': 9152, 'unseemli': 9153, 'unsettl': 9158, 'unsettlingli': 9159, 'unskil': 9161, 'unsophist': 9164, 'unsound': 9165, 'unspeak': 9166, 'unspecifi': 9167, 'unstabl': 9169, 'unsteadili': 9171, 'unsteadi': 9170, 'unsuccess': 9175, 'unsupport': 9177, 'unsur': 9178, 'unsuspect': 9182, 'unsustain': 9184, 'unten': 9187, 'untest': 9188, 'unthink': 9189, 'untim': 9192, 'untouch': 9194, 'untru': 9196, 'untrustworthi': 9197, 'untruth': 9198, 'unus': 9202, 'unusu': 9203, 'unview': 9205, 'unwant': 9206, 'unwarr': 9208, 'unwatch': 9209, 'unwelcom': 9212, 'unwel': 9211, 'unwieldi': 9213, 'unwil': 9214, 'unwillingli': 9216, 'unwilling': 9215, 'unwis': 9217, 'unwork': 9219, 'unworthi': 9220, 'unyield': 9222, 'upbraid': 9225, 'upheav': 9231, 'upris': 9242, 'uproar': 9243, 'uproari': 9244, 'uproot': 9245, 'upset': 9247, 'upsettingli': 9248, 'urgent': 9255, 'useless': 9263, 'usurp': 9268, 'utterli': 9275, 'vagrant': 9283, 'vagu': 9284, 'vain': 9286, 'vainli': 9288, 'vaniti': 9308, 'vehement': 9334, 'vengeanc': 9347, 'veng': 9346, 'venom': 9349, 'vent': 9350, 'vestig': 9385, 'vex': 9388, 'vexat': 9389, 'vexingli': 9390, 'vibrat': 9400, 'vice': 9402, 'viciou': 9404, 'vicious': 9405, 'victim': 9406, 'vile': 9428, 'vilifi': 9429, 'villain': 9432, 'villian': 9434, 'villifi': 9435, 'vindict': 9439, 'violat': 9445, 'violent': 9447, 'viper': 9450, 'virul': 9459, 'viru': 9458, 'vocifer': 9481, 'volatil': 9484, 'vomit': 9489, 'vulgar': 9502, 'vulner': 9503, 'wack': 9505, 'wail': 9516, 'wallow': 9530, 'wane': 9538, 'wanton': 9545, 'war': 9546, 'like': 4396, 'warili': 9551, 'wari': 9550, 'warlik': 9552, 'warn': 9560, 'warp': 9562, 'wash': 9569, 'wast': 9574, 'water': 9578, 'wayward': 9593, 'weak': 9596, 'weaken': 9597, 'weaker': 9598, 'weari': 9608, 'wearisom': 9609, 'wedg': 9619, 'weed': 9622, 'weep': 9625, 'weird': 9635, 'weirdli': 9637, 'wheedl': 9670, 'whimper': 9683, 'whine': 9686, 'whini': 9688, 'whip': 9689, 'whore': 9714, 'wick': 9716, 'wickedli': 9718, 'wicked': 9717, 'wild': 9735, 'wildli': 9740, 'wile': 9742, 'wilt': 9751, 'wili': 9743, 'wimpi': 9755, 'winc': 9757, 'wobbl': 9809, 'woe': 9810, 'woebegon': 9811, 'woeful': 9812, 'woefulli': 9813, 'woman': 9818, 'worn': 9856, 'worri': 9857, 'worriedli': 9858, 'worrier': 9859, 'worrisom': 9860, 'worryingli': 9861, 'wors': 9862, 'worsen': 9863, 'worst': 9865, 'worthless': 9868, 'worthlessli': 9869, 'wound': 9872, 'wrangl': 9876, 'wrath': 9878, 'wreak': 9879, 'wreck': 9880, 'wrest': 9883, 'wrestl': 9884, 'wretch': 9886, 'wretchedli': 9888, 'wretched': 9887, 'wrinkl': 9890, 'wrip': 9891, 'writh': 9895, 'wrong': 9897, 'wrongli': 9898, 'wrought': 9900, 'yawn': 9925, 'zap': 9963, 'zealot': 9968, 'zealou': 9969, 'zealous': 9970, 'zombi': 9994, 'juvenil': 4134, 'teenag': 8217, 'boy': 843, 'could': 1562, 'possibl': 5683, 'find': 2782, 'larg': 4266, 'depth': 1883, 'sophist': 7505, 'would': 9871, 'make': 4564, 'watch': 9576, 'graphic': 3218, 'bearabl': 594, 'discard': 2013, 'potenti': 5694, 'patholog': 5423, 'studi': 7855, 'instead': 3882, 'skew': 7218, 'melodrama': 4696, 'circumstanti': 1266, 'situat': 7202, 'visual': 9467, 'flashi': 2820, 'narr': 4995, 'opaqu': 5224, 'emot': 2368, 'vapid': 9309, 'exercis': 2566, 'style': 7878, 'stori': 7802, 'also': 213, 'unorigin': 9093, 'come': 1380, 'alreadi': 212, 'recycl': 6061, 'care': 1069, 'count': 1564, 'thing': 8330, 'give': 3114, 'movi': 4921, 'point': 5638, 'take': 8119, 'entir': 2439, 'concept': 1441, 'push': 5903, 'audienc': 453, 'meat': 4676, 'grinder': 3259, 'much': 4928, 'actor': 69, 'script': 6801, 'rel': 6121, 'gore': 3182, 'free': 2949, 'allus': 202, 'serial': 6923, 'attempt': 443, 'human': 3586, 'sentiment': 6904, 'never': 5058, 'ring': 6368, 'true': 8673, 'perform': 5485, 'often': 5197, 'engag': 2405, 'collect': 1365, 'improvis': 3709, 'number': 5145, 'probabl': 5783, 'work': 9843, 'better': 668, 'hour': 3571, 'tv': 8734, 'documentari': 2121, 'compel': 1410, 'cut': 1699, 'room': 6450, 'somewher': 7488, 'footag': 2880, 'might': 4750, 'made': 4538, 'trenchant': 8620, 'cultur': 1677, 'misfir': 4798, 'ensembl': 2425, 'player': 5600, 'gain': 3036, 'notic': 5127, 'guy': 3314, 'ritchi': 6383, 'lock': 4442, 'stock': 7790, 'barrel': 564, 'snatch': 7390, 'becom': 603, 'household': 3573, 'name': 4985, 'basi': 575, 'first': 2793, 'star': 7726, 'vehicl': 9335, 'differ': 1964, 'courag': 1573, 'go': 3151, 'noth': 5126, 'seem': 6851, 'analyz': 259, 'even': 2520, 'joe': 4075, 'viterelli': 9470, 'de': 1755, 'niro': 5091, 'right': 6359, 'master': 4637, 'screenwrit': 6795, 'john': 4077, 'yale': 9917, 'previous': 5757, 'gave': 3063, 'skull': 7238, 'year': 9931, 'rollerbal': 6430, 'enough': 2421, 'said': 6573, 'except': 2553, 'film': 2776, 'overboard': 5290, 'common': 1397, 'sens': 6892, 'fli': 2839, 'window': 9762, 'along': 208, 'hail': 3321, 'bullet': 956, 'none': 5105, 'ever': 2524, 'sascha': 6638, 'minut': 4776, 'decent': 1782, 'materi': 4641, 'execut': 2564, 'pedestrian': 5451, 'posit': 5681, 'comment': 1391, 'rob': 6399, 'schneider': 6730, 'actual': 73, 'turn': 8724, 'pretti': 5751, 'convinc': 1529, 'girl': 3112, 'remak': 6148, 'imit': 3663, 'show': 7081, 'studio': 7856, 'firmli': 2792, 'believ': 627, 'peopl': 5473, 'abil': 9, 'think': 8331, 'forgiv': 2895, 'action': 67, 'comedi': 1383, 'premis': 5732, 'comparison': 1406, 'realiti': 6025, 'commentari': 1392, 'knowledg': 4205, 'excit': 2556, 'exotic': 2576, 'sound': 7527, 'typic': 8759, 'viewer': 9422, 'rest': 6242, 'coma': 1376, 'parti': 5394, 'scene': 6705, 'deliv': 1839, 'kick': 4163, 'toilet': 8467, 'night': 5083, 'tequila': 8266, 'bender': 641, 'know': 4204, 'seen': 6853, 'jackass': 4011, 'rise': 6380, 'easi': 2277, 'potshot': 5695, 'moral': 4884, 'charact': 1157, 'someth': 7485, 'borrow': 821, 'construct': 1495, 'feel': 2722, 'love': 4480, 'well': 9643, 'integr': 3902, 'homag': 3527, 'mere': 4715, 'wan': 9536, 'thinli': 8333, 'sketch': 7214, 'infantil': 3811, 'amateurish': 226, 'yep': 9935, 'wake': 9518, 'reno': 6170, 'sleep': 7270, 'middl': 4745, 'demm': 1852, 'experi': 2583, 'harvest': 3384, 'moment': 4853, 'gem': 3074, 'field': 2760, 'roughag': 6476, 'pile': 5559, 'payami': 5440, 'tri': 8624, 'rais': 5965, 'seriou': 6925, 'iran': 3964, 'process': 5791, 'result': 6252, 'subtl': 7910, 'polit': 5651, 'broadcast': 912, 'surpris': 8007, 'heavyweight': 3433, 'joel': 4076, 'silver': 7154, 'robert': 6401, 'zemecki': 9974, 'produc': 5795, 'assum': 419, 'director': 1991, 'pictur': 5553, 'ladi': 4241, 'underwear': 8922, 'anoth': 290, 'mid': 4744, 'sport': 7631, 'laugh': 4287, 'smile': 7351, 'surviv': 8015, 'pleas': 5604, 'someon': 7483, 'stop': 7799, 'eric': 2468, 'schaeffer': 6712, 'deriv': 1889, 'screenplay': 6794, 'rather': 5997, 'involv': 3961, 'mood': 4876, 'fun': 3009, 'want': 9544, 'catch': 1104, 'matine': 4643, 'curl': 1689, 'may': 4655, 'uniqu': 9049, 'men': 4706, 'broom': 924, 'distinctli': 2092, 'ordinari': 5249, 'though': 8351, 'opera': 5228, 'place': 5582, 'mostli': 4904, 'indoor': 3781, 'jacquot': 4017, 'evok': 2536, 'around': 374, 'fact': 2640, 'nerd': 5045, 'revisit': 6302, 'effort': 2306, 'sincer': 7175, 'honest': 3531, 'hardli': 3367, 'watchabl': 9577, 'regurgit': 6103, 'mani': 4591, 'previou': 5756, 'success': 7919, 'new': 5061, 'swing': 8062, 'thrown': 8381, 'flashbulb': 2819, 'edit': 2299, 'cover': 1578, 'continu': 1511, 'undisput': 8937, 'nearli': 5017, 'close': 1317, 'bout': 838, 'win': 9756, 'start': 7733, 'finish': 2787, 'wet': 9661, 'civil': 1269, 'ballist': 532, 'eck': 2288, 'vs': 9499, 'amus': 253, 'thirteen': 8339, 'old': 5204, 'book': 809, 'report': 6192, 'theme': 8309, 'everyth': 2531, 'conscious': 1478, 'poetic': 5634, 'nelson': 5040, 'achiev': 56, 'match': 4639, 'ambit': 231, 'seagal': 6818, 'appear': 330, 'orang': 5243, 'stand': 7715, 'theater': 8303, 'shout': 7078, 'hey': 3470, 'aid': 161, 'lead': 4309, 'imagin': 3657, 'version': 9378, 'ali': 187, 'replac': 6190, 'romanc': 6436, 'novel': 5134, 'platitud': 5594, 'stabil': 7683, 'notwithstand': 5130, 'pat': 5416, 'fairi': 2648, 'tale': 8124, 'conclus': 1447, 'titl': 8452, 'cameo': 1030, 'romant': 6438, 'fan': 2667, 'assuredli': 422, 'bone': 805, 'tickl': 8402, 'other': 5261, 'humor': 3594, 'dollar': 2133, 'best': 661, 'spent': 7591, 'elsewher': 2349, 'bailli': 520, 'rom': 6434, 'com': 1375, 'provid': 5847, 'audrey': 455, 'tautou': 8181, 'destin': 1912, 'spiritu': 7611, 'quest': 5925, 'sugari': 7936, 'half': 3324, 'school': 6735, 'special': 7567, 'understand': 8913, 'stretch': 7828, 'chemistri': 1197, 'freeman': 2952, 'judd': 4108, 'howev': 3576, 'almost': 205, 'worth': 9866, 'see': 6847, 'ultim': 8777, 'examin': 2545, 'countri': 1571, 'bear': 593, 'young': 9950, 'entertain': 2432, 'either': 2321, 'cumul': 1679, 'effect': 2304, 'trifl': 8635, 'trot': 8660, 'video': 9411, 'took': 8494, 'famili': 2662, 'vacat': 9279, 'end': 2390, 'leav': 4322, 'connect': 1472, 'reach': 6013, 'mattei': 4646, 'underdevelop': 8888, 'conveni': 1523, 'belt': 635, 'person': 5502, 'parad': 5376, 'camp': 1034, 'drowsi': 2220, 'drama': 2183, 'infatu': 3812, 'final': 2780, 'shot': 7076, 'rabbit': 5944, 'proof': 5822, 'fenc': 2736, 'author': 471, 'look': 4460, 'sharp': 6999, 'origin': 5254, 'despit': 1907, 'virtu': 9452, 'blade': 722, 'ii': 3644, 'play': 5597, 'trailer': 8559, 'coher': 1353, 'rhythm': 6327, 'mayb': 4656, 'leblanc': 4324, 'thought': 8352, 'basebal': 572, 'monkey': 4862, 'expect': 2579, 'bar': 545, 'sixth': 7205, 'grade': 3203, 'height': 3443, 'barri': 565, 'sonnenfeld': 7495, 'owe': 5330, 'frank': 2933, 'pug': 5873, 'big': 686, 'biggest': 689, 'roger': 6419, 'avari': 480, 'glori': 3139, 'bare': 555, 'anyth': 312, 'riddl': 6348, 'unansw': 8801, 'requir': 6214, 'gargantuan': 3056, 'leap': 4316, 'faith': 2651, 'plod': 5613, 'approach': 339, 'usher': 9266, 'sit': 7198, 'ask': 401, 'earnest': 2272, 'sinis': 7183, 'brain': 848, 'five': 2799, 'goe': 3158, 'way': 9590, 'introduc': 3941, 'younger': 9951, 'older': 5205, 'reason': 6030, 'offer': 5191, 'advanc': 109, 'screen': 6793, 'adventur': 111, 'pluto': 5628, 'nash': 4998, 'stinker': 7787, 'without': 9798, 'built': 953, 'memori': 4705, 'dimension': 1980, 'put': 5904, 'battl': 586, 'will': 9744, 'buy': 992, 'intellig': 3905, 'entic': 2438, 'prospect': 5836, 'lot': 4474, 'campu': 1039, 'fade': 2643, 'amid': 243, 'deliber': 1831, 'render': 6165, 'trace': 8545, 'dramat': 2184, 'reel': 6074, 'alert': 182, 'significantli': 7143, 'charm': 1169, 'listen': 4419, 'four': 2921, 'tast': 8170, 'recount': 6055, 'halloween': 3330, 'trip': 8640, 'hous': 3572, 'messag': 4724, 'desir': 1900, 'idea': 3628, 'three': 8362, 'actress': 71, 'deserv': 1897, 'medit': 4684, 'gone': 3170, 'seed': 6848, 'hotel': 3566, 'sensibl': 6898, 'character': 1158, 'robot': 6405, 'bestow': 663, 'hoffman': 3511, 'brother': 927, 'waldo': 9520, 'salt': 6592, 'award': 493, 'sundanc': 7952, 'festiv': 2747, 'honor': 3536, 'pull': 5876, 'recommend': 6049, 'dentist': 1868, 'wait': 9517, 'complet': 1420, 'sooth': 7502, 'cushion': 1696, 'predict': 5724, 'sex': 6951, 'respons': 6241, 'alon': 207, 'toddler': 8462, 'boob': 807, 'huge': 3583, 'topic': 8501, 'surfacey': 7998, 'insight': 3867, 'instanc': 3879, 'good': 3174, 'happen': 3356, 'portrait': 5677, 'perfect': 5483, 'certainli': 1134, 'succeed': 7918, 'code': 1349, 'talker': 8128, 'tribut': 8628, 'skip': 7229, 'philip': 5530, 'glass': 3122, 'soundtrack': 7529, 'man': 4584, 'motion': 4909, 'dignifi': 1971, 'meet': 4686, 'rustic': 6535, 'pee': 5453, 'tree': 8613, 'laughter': 4289, 'mechan': 4678, 'kinda': 4178, 'museum': 4951, 'exhibit': 2568, 'view': 9420, 'contemporari': 1503, 'interpret': 3925, 'joan': 4073, 'present': 5739, 'standard': 7716, 'allow': 200, 'plenti': 5610, 'nuditi': 5143, 'quirki': 5941, 'brit': 905, 'dime': 1978, 'subplot': 7898, 'gag': 3032, 'mix': 4828, 'bag': 518, 'iranian': 3965, 'everi': 2525, 'day': 1750, 'byatt': 995, 'purpos': 5900, 'hollywood': 3523, 'ron': 6447, 'team': 8195, 'behind': 620, 'mermaid': 4718, 'sparkl': 7557, 'retina': 6270, 'candi': 1044, 'abl': 10, 'muster': 4959, 'reson': 6231, 'vacuum': 9281, 'space': 7539, 'sandler': 6616, 'need': 5026, 'butt': 987, 'highli': 3482, 'ambiti': 232, 'project': 5812, 'egoyan': 2314, 'next': 5067, 'offbeat': 5188, 'touch': 8526, 'knockaround': 4200, 'rare': 5991, 'fresh': 2961, 'gun': 3303, 'cast': 1095, 'tame': 8134, 'pay': 5439, 'queen': 5923, 'thoroughli': 8349, 'modern': 4842, 'mental': 4709, 'say': 6673, 'ice': 3623, 'age': 143, 'fairli': 2649, 'substanc': 7903, 'tell': 8234, 'untold': 9193, 'choos': 1230, 'familiar': 2663, 'boilerpl': 791, 'subtleti': 7913, 'target': 8161, 'realiz': 6026, 'exact': 2540, 'hundr': 3597, 'termin': 8269, 'episod': 2456, 'beauti': 599, 'admittedli': 93, 'specif': 7569, 'lo': 4435, 'earn': 2271, 'share': 6997, 'holiday': 3519, 'box': 842, 'offic': 5192, 'pie': 5554, 'although': 217, 'perfectli': 5484, 'clear': 1292, 'rymer': 6544, 'trust': 8682, 'conjur': 1471, 'proper': 5826, 'respect': 6236, 'follow': 2872, 'whole': 9703, 'undead': 8873, 'genr': 3082, 'vampir': 9304, 'pic': 5546, 'shrieki': 7099, 'soprano': 7509, 'incred': 3758, 'date': 1742, 'unfunni': 9010, 'demonstr': 1858, 'maker': 4565, 'sequel': 6912, 'wow': 9874, 'hook': 3538, 'overlong': 5303, 'credit': 1617, 'writer': 9894, 'watstein': 9584, 'nettelbeck': 5053, 'women': 9820, 'least': 4320, 'ham': 3333, 'physic': 5542, 'cours': 1574, 'certain': 1133, 'poignanc': 5636, 'light': 4388, 'recent': 6038, 'boyd': 844, 'els': 2348, 'consequ': 1480, 'curiou': 1687, 'note': 5124, 'similarli': 7157, 'easili': 2279, 'budget': 945, 'ejemplo': 2322, 'una': 8785, 'cinta': 1258, 'en': 2381, 'que': 5921, 'el': 2323, 'talento': 8126, 'reparto': 6183, 'interesant': 3911, 'resultado': 6253, 'pue': 5869, 'es': 2480, 'por': 5668, 'momento': 4855, 'regist': 6098, 'blip': 747, 'radar': 5952, 'trope': 8657, 'van': 9305, 'wilder': 9738, 'whatsoev': 9669, 'filmmak': 2778, 'chop': 1231, 'seri': 6922, 'trek': 8615, 'suggest': 7938, 'th': 8297, 'reunion': 6285, 'eight': 2317, 'member': 4701, 'drink': 2204, 'retool': 6274, 'matrix': 4644, 'kind': 4177, 'awar': 492, 'erot': 2471, 'thriller': 8370, 'neither': 5039, 'thrill': 8369, 'bartlebi': 569, 'extra': 2613, 'dri': 2201, 'twice': 8743, 'perpetu': 5495, 'margarita': 4607, 'valu': 9300, 'money': 4860, 'escap': 2481, 'claus': 1285, 'avoid': 488, 'trite': 8645, 'rehash': 6104, 'capabl': 1057, 'caught': 1113, 'headi': 3408, 'whirl': 9693, 'inspir': 3876, 'intent': 3908, 'spell': 7584, 'bit': 709, 'mesmer': 4722, 'peg': 5459, 'groov': 3267, 'york': 9947, 'simplifi': 7167, 'pleasantli': 5606, 'fluff': 2859, 'pack': 5338, 'spoof': 7624, 'sequenc': 6913, 'funniest': 3017, 'spi': 7593, 'franchis': 2930, 'mike': 4753, 'myer': 4964, 'chase': 1173, 'black': 720, 'red': 6062, 'genial': 3078, 'root': 6453, 'throughout': 8377, 'dearli': 1767, 'hope': 3543, 'promis': 5816, 'fulli': 3006, 'summertim': 7947, 'digniti': 1972, 'hero': 3464, 'motiv': 4911, 'blanket': 730, 'statement': 7742, 'store': 7801, 'rumin': 6514, 'sudden': 7925, 'wisdom': 9779, 'game': 3043, 'remain': 6146, 'gap': 3050, 'clean': 1289, 'dahmer': 1713, 'jeremi': 4052, 'renner': 6169, 'amount': 250, 'textbook': 8294, 'psycholog': 5861, 'bridg': 890, 'feather': 2715, 'definit': 1814, 'hors': 3558, 'cinemat': 1254, 'sandbox': 6613, 'ooz': 5222, 'pore': 5669, 'solari': 7457, 'shapeless': 6993, 'reli': 6133, 'direct': 1989, 'georg': 3088, 'hickenloop': 3473, 'snap': 7382, 'wiseacr': 9781, 'crackl': 1587, 'bitten': 713, 'hypnot': 3617, 'saga': 6569, 'terrif': 8275, 'read': 6017, 'dicey': 1955, 'geniu': 3080, 'especi': 2486, 'spear': 7565, 'music': 4954, 'favourit': 2706, 'ad': 76, 'bled': 739, 'ground': 3272, 'drang': 2186, 'soldier': 7459, 'rememb': 6152, 'occasion': 5171, 'simpli': 7165, 'gentl': 3085, 'doubl': 2153, 'featur': 2717, 'mainstream': 4558, 'foreign': 2888, 'mush': 4952, 'greek': 3239, 'wed': 9618, 'wonder': 9821, 'journalist': 4099, 'insid': 3865, 'tech': 8204, 'station': 7746, 'gamut': 3045, 'cheesiest': 1192, 'hawk': 3399, 'ford': 2886, 'exactli': 2541, 'kao': 4143, 'calcul': 1016, 'swill': 8057, 'energi': 2402, 'describ': 1893, 'ballast': 529, 'harrison': 3378, 'oliv': 5207, 'parker': 5388, 'labor': 4227, 'import': 3695, 'discov': 2027, 'seinfeld': 6862, 'real': 6021, 'enjoy': 2416, 'predecessor': 5722, 'keep': 4154, 'walsh': 9532, 'quit': 5942, 'negoti': 5035, 'janic': 4025, 'behavior': 619, 'compens': 1413, 'sheer': 7016, 'intrigu': 3938, 'found': 2918, 'grow': 3276, 'detach': 1918, 'vincent': 9438, 'becam': 600, 'abhorr': 7, 'inexplic': 3805, 'histori': 3500, 'permeat': 5490, 'todd': 8461, 'solondz': 7474, 'skirmish': 7231, 'power': 5701, 'wage': 9511, 'among': 248, 'predat': 5721, 'settl': 6940, 'undistinguish': 8939, 'artifici': 389, 'suspens': 8023, 'tread': 8607, 'territori': 8277, 'passabl': 5407, 'rent': 6174, 'parabl': 5375, 'sophomor': 7506, 'ensnar': 2426, 'depend': 1873, 'naturalist': 5005, 'lit': 4421, 'truli': 8677, 'cleverli': 1297, 'craft': 1588, 'mockumentari': 4836, 'bog': 785, 'humour': 3596, 'stuff': 7859, 'achingli': 57, 'enthral': 2434, 'dialogu': 1949, 'tommi': 8483, 'peep': 5456, 'surround': 8012, 'mop': 4882, 'rifkin': 6355, 'hubert': 3579, 'selbi': 6865, 'jr': 4105, 'ounc': 5265, 'poetri': 5635, 'fluffi': 2860, 'dispos': 2068, 'luckiest': 4499, 'seat': 6829, 'talk': 8127, 'chiller': 1215, 'soon': 7499, 'sign': 7138, 'exit': 2574, 'hold': 3515, 'appeal': 328, 'sadism': 6563, 'beat': 597, 'pulp': 5877, 'dub': 2228, 'length': 4345, 'road': 6395, 'mama': 4582, 'vertic': 9380, 'surf': 7996, 'memor': 4704, 'harvard': 3383, 'clever': 1296, 'wit': 9792, 'bigelow': 687, 'handl': 3343, 'nuclear': 5142, 'evenli': 2521, 'milk': 4760, 'build': 951, 'toward': 8538, 'quickli': 5931, 'undeni': 8877, 'cram': 1592, 'refer': 6077, 'wear': 9606, 'thin': 8329, 'kevin': 4159, 'smith': 7354, 'suburban': 7915, 'jersey': 4056, 'strip': 7837, 'clariti': 1278, 'demand': 1846, 'santa': 6626, 'st': 7681, 'centuri': 1131, 'highlight': 3483, 'scientif': 6752, 'spectacular': 7574, 'speak': 7564, 'cinema': 1253, 'pit': 5576, 'clue': 1330, 'park': 5387, 'affair': 120, 'divin': 2112, 'ya': 9913, 'sisterhood': 7196, 'help': 3453, 'green': 3240, 'tomato': 8477, 'cloy': 1327, 'voic': 9482, 'horror': 3557, 'hing': 3490, 'subgenr': 7891, 'enabl': 2382, 'ebulli': 2285, 'affect': 121, 'industri': 3784, 'model': 4839, 'copi': 1539, 'matter': 4647, 'gener': 3076, 'showtim': 7090, 'eventu': 2523, 'telegraph': 8227, 'mute': 4961, 'influenc': 3825, 'rohypnol': 6423, 'air': 167, 'hal': 3323, 'hartley': 3382, 'wannab': 9543, 'vital': 9469, 'ingredi': 3837, 'hilari': 3486, 'ver': 9356, 'wiel': 9726, 'jim': 4068, 'sustain': 8026, 'stanford': 7722, 'seduc': 6845, 'oscar': 5259, 'founder': 2920, 'empathi': 2371, 'milieu': 4758, 'disney': 2056, 'formula': 2906, 'anim': 277, 'usual': 9267, 'gaghan': 3033, 'base': 571, 'theori': 8312, 'sleight': 7276, 'murphi': 4948, 'cop': 1537, 'surefir': 7993, 'prevent': 5754, 'fire': 2788, 'cylind': 1706, 'unsatisfi': 9147, 'rees': 6076, 'butter': 988, 'ingrati': 3836, 'commend': 1390, 'determin': 1922, 'text': 8293, 'adopt': 97, 'somewhat': 7487, 'tone': 8487, 'core': 1544, 'inject': 3847, 'proceed': 5790, 'unashamedli': 8805, 'pro': 5782, 'serbian': 6918, 'thesi': 8321, 'maryam': 4626, 'intellectu': 3904, 'impact': 3675, 'yarn': 9923, 'shakespear': 6975, 'eloqu': 2347, 'languag': 4258, 'updat': 9227, 'machin': 4531, 'rework': 6315, 'sonni': 7496, 'tuxedo': 8733, 'chan': 1149, 'bisset': 708, 'save': 6662, 'austin': 464, 'goldmemb': 3165, 'cotton': 1560, 'sweet': 8048, 'sinc': 7174, 'mile': 4756, 'sure': 7992, 'remark': 6149, 'anybodi': 309, 'independ': 3765, 'fine': 2783, 'record': 6054, 'convers': 1525, 'wal': 9519, 'mart': 4620, 'weighti': 9630, 'youngster': 9952, 'plummet': 5625, 'graveyard': 3227, 'race': 5945, 'rescu': 6217, 'sometim': 7486, 'seal': 6819, 'remot': 6160, 'shelf': 7020, 'longer': 4456, 'advic': 115, 'dot': 2151, 'altern': 216, 'raucou': 6001, 'sappi': 6628, 'ethnic': 2506, 'sitcom': 7199, 'wise': 9780, 'send': 6886, 'clumsili': 1333, 'told': 8470, 'compar': 1405, 'televis': 8233, 'wrap': 9877, 'classic': 1282, 'mother': 4905, 'daughter': 1743, 'paper': 5371, 'shini': 7039, 'bow': 839, 'bang': 539, 'front': 2987, 'misplac': 4811, 'search': 6826, 'perdit': 5482, 'excel': 2552, 'slappingli': 7255, 'cult': 1675, 'powerpuff': 5702, 'kept': 4158, 'return': 6284, 'cartoon': 1086, 'japan': 4028, 'seizur': 6864, 'opportun': 5231, 'combin': 1378, 'term': 8268, 'themat': 8308, 'strength': 7824, 'fantasi': 2672, 'mention': 4710, 'undeserv': 8927, 'induc': 3782, 'mild': 4754, 'meander': 4670, 'teen': 8216, 'flick': 2840, 'atmospher': 435, 'impress': 3704, 'gut': 3310, 'dig': 1967, 'societi': 7435, 'realli': 6027, 'major': 4563, 'leagu': 4311, 'astonish': 423, 'word': 9838, 'plain': 5586, 'inde': 3760, 'type': 8758, 'deuc': 1926, 'lili': 4399, 'chou': 1238, 'variabl': 9314, 'cinematographi': 1256, 'foot': 2879, 'enchant': 2385, 'quirk': 5940, 'foibl': 2869, 'jell': 4048, 'valiantli': 9295, 'mug': 4935, 'snow': 7413, 'spark': 7556, 'leaden': 4310, 'dian': 1950, 'lane': 4256, 'adrian': 101, 'lyne': 4526, 'storytel': 7806, 'slight': 7285, 'swimfan': 8059, 'villai': 9431, 'wertmul': 9655, 'husband': 3606, 'wife': 9730, 'derek': 1886, 'bolero': 795, 'spend': 7589, 'buck': 942, 'vidgam': 9416, 'lobbi': 4439, 'french': 2957, 'unfocus': 8996, 'basic': 576, 'downright': 2168, 'pool': 5660, 'salut': 6594, 'commerci': 1394, 'otherwis': 5262, 'comput': 1432, 'handsom': 3344, 'variou': 9318, 'sidekick': 7126, 'add': 80, 'leviti': 4363, 'overal': 5287, 'saccharin': 6552, 'caus': 1114, 'massiv': 4635, 'arrest': 377, 'taken': 8120, 'dose': 2150, 'perhap': 5487, 'nostalgia': 5120, 'grew': 3245, 'case': 1091, 'eager': 2264, 'mr': 4924, 'prolif': 5813, 'debut': 1775, 'comfort': 1387, 'enigma': 2414, 'histor': 3499, 'talent': 8125, 'yield': 9941, 'throw': 8378, 'kilter': 4175, 'unengag': 8963, 'inher': 3840, 'sourc': 7533, 'schlocki': 6725, 'hybrid': 3612, 'compani': 1403, 'eddi': 2295, 'shtick': 7105, 'equal': 2460, 'hackney': 3320, 'shadow': 6965, 'elli': 2345, 'preachi': 5713, 'fabl': 2630, 'unfold': 8997, 'zeal': 9966, 'spread': 7643, 'palestinian': 5354, 'longley': 4458, 'meaning': 4671, 'context': 1510, 'woo': 9827, 'privat': 5779, 'ryan': 6540, 'steven': 7771, 'spielberg': 7598, 'got': 3190, 'jone': 4092, 'distinct': 2091, 'presenc': 5738, 'capit': 1060, 'gift': 3107, 'similar': 7156, 'geriatr': 3091, 'peter': 5521, 'cow': 1579, 'answer': 291, 'swedish': 8046, 'hint': 3491, 'joy': 4102, 'prefer': 5728, 'focu': 2866, 'martin': 4623, 'bed': 604, 'urin': 9256, 'plant': 5591, 'birthday': 706, 'soap': 7420, 'insist': 3872, 'piano': 5545, 'score': 6769, 'capac': 1058, 'churn': 1249, 'thunderstorm': 8393, 'underscor': 8911, 'klein': 4193, 'saddest': 6560, 'speedi': 7582, 'swan': 8033, 'dive': 2106, 'land': 4253, 'squar': 7668, 'dreck': 2196, 'straight': 7808, 'visibl': 9461, 'boom': 810, 'level': 4361, 'compet': 1414, 'buff': 948, 'beyond': 674, 'redempt': 6064, 'anyon': 311, 'rush': 6527, 'christma': 1242, 'suit': 7940, 'travel': 8596, 'agenc': 144, 'ride': 6349, 'bike': 692, 'topless': 8503, 'roll': 6428, 'mud': 4931, 'worthwhil': 9870, 'glimps': 3130, 'commun': 1400, 'guid': 3292, 'given': 3115, 'consid': 1482, 'piec': 5555, 'begin': 612, 'resembl': 6219, 'grasp': 3220, 'workshop': 9851, 'jettison': 4061, 'walk': 9521, 'shrewd': 7096, 'activ': 68, 'tear': 8197, 'carvey': 1090, 'trademark': 8551, 'mildli': 4755, 'ponder': 5657, 'justic': 4130, 'triangl': 8626, 'panorama': 5367, 'roil': 6424, 'patho': 5422, 'eye': 2625, 'gay': 3066, 'nich': 5072, 'brown': 931, 'snappi': 7383, 'prose': 5835, 'spar': 7554, 'cerebr': 1132, 'likabl': 4395, 'element': 2334, 'nebrida': 5020, 'small': 7335, 'pot': 5689, 'maci': 4533, 'thanksgiv': 8301, 'duti': 2252, 'rope': 6455, 'float': 2849, 'away': 494, 'oedekerk': 5186, 'genuin': 3087, 'resort': 6232, 'slasher': 7258, 'revelatori': 6289, 'psych': 5856, 'violenc': 9446, 'appreci': 337, 'scatter': 6702, 'minor': 4774, 'command': 1389, 'sole': 7460, 'gorgeou': 3184, 'vintag': 9444, 'minim': 4771, 'satisfi': 6650, 'remind': 6154, 'spot': 7634, 'earli': 2268, 'soulless': 7526, 'rerun': 6216, 'heartili': 3424, 'mayhem': 4657, 'cage': 1009, 'marin': 4610, 'aim': 164, 'crawl': 1604, 'snail': 7380, 'pace': 5336, 'lawrenc': 4300, 'tirad': 8441, 'postcard': 5685, 'glorifi': 3141, 'hong': 3535, 'kong': 4208, 'windtalk': 9764, 'compendium': 1412, 'across': 65, 'fifteen': 2766, 'rock': 6408, 'coffe': 1351, 'tabl': 8102, 'anywher': 314, 'load': 4436, 'squeez': 7674, 'arc': 349, 'holocaust': 3525, 'individu': 3778, 'forgett': 2894, 'public': 5865, 'kung': 4219, 'pow': 5700, 'benchmark': 639, 'misti': 4822, 'southern': 7536, 'sanguin': 6622, 'drench': 2198, 'pure': 5894, 'wendigo': 9651, 'art': 381, 'fortifi': 2911, 'turgid': 8720, 'part': 5393, 'weight': 9629, 'switch': 8066, 'myopic': 4965, 'gear': 3070, 'yiddish': 9940, 'chuck': 1246, 'grenad': 3244, 'occur': 5175, 'indic': 3771, 'suspend': 8022, 'belief': 626, 'holm': 3524, 'total': 8523, 'washout': 9572, 'rental': 6175, 'resolut': 6229, 'unamus': 8800, 'unreward': 9138, 'everybodi': 2527, 'david': 1746, 'goliath': 3167, 'smoochi': 7362, 'train': 8560, 'irwin': 3992, 'adequ': 85, 'accumul': 49, 'crucial': 1648, 'third': 8336, 'cedar': 1120, 'submerg': 7896, 'hoari': 3508, 'dicken': 1957, 'nichola': 5073, 'nicklebi': 5078, 'underdon': 8890, 'potato': 5690, 'portray': 5678, 'convincingli': 1530, 'background': 508, 'kitchen': 4189, 'illustr': 3654, 'sum': 7945, 'today': 8460, 'friday': 2973, 'cabl': 1001, 'busi': 983, 'snoozer': 7410, 'deal': 1762, 'pokemon': 5643, 'wish': 9786, 'celebi': 1121, 'saw': 6672, 'observ': 5161, 'enter': 2430, 'moor': 4880, 'charmer': 1170, 'labut': 4230, 'era': 2466, 'chang': 1151, 'male': 4572, 'academ': 34, 'lower': 4487, 'choic': 1227, 'exquisit': 2605, 'shred': 7092, 'notion': 5128, 'delet': 1829, 'nation': 5001, 'dysfunct': 2263, 'equilibrium': 2462, 'doofu': 2143, 'scroog': 6804, 'placement': 5583, 'comed': 1382, 'song': 7493, 'strong': 7840, 'fart': 2682, 'unsurprisingli': 9181, 'caretak': 1073, 'teacher': 8194, 'athlet': 432, 'sight': 7137, 'scoobi': 6760, 'smart': 7339, 'increasingli': 3757, 'event': 2522, 'neil': 5038, 'burger': 973, 'foster': 2916, 'pad': 5340, 'allen': 197, 'belli': 629, 'resid': 6223, 'mtv': 4926, 'cocktail': 1346, 'averag': 484, 'benefit': 644, 'suppli': 7982, 'epp': 2459, 'flatli': 2822, 'heroin': 3466, 'soft': 7446, 'porn': 5671, 'brian': 888, 'palma': 5357, 'pastich': 5414, 'innocu': 3854, 'jean': 4043, 'claud': 1284, 'woodi': 9831, 'write': 9893, 'qualiti': 5914, 'citi': 1267, 'sea': 6816, 'stay': 7752, 'mcdormand': 4661, 'plotless': 5616, 'justifi': 4131, 'exist': 2572, 'relev': 6132, 'latino': 4282, 'hip': 3493, 'hop': 3542, 'paxton': 5438, 'directori': 1992, 'unlock': 9072, 'substanti': 7906, 'spin': 7604, 'apart': 316, 'chair': 1143, 'shenanigan': 7025, 'distinguish': 2093, 'promisingli': 5817, 'let': 4355, 'immedi': 3666, 'treacli': 8606, 'prep': 5734, 'professor': 5800, 'children': 1213, 'lofti': 4444, 'open': 5225, 'metropolitan': 4733, 'area': 357, 'reward': 6313, 'categor': 1106, 'pleasur': 5609, 'wrote': 9899, 'ship': 7041, 'attract': 447, 'fit': 2798, 'threw': 8366, 'medic': 4681, 'equip': 2463, 'particularli': 5399, 'urg': 9253, 'grab': 3197, 'aisl': 170, 'walker': 9523, 'toss': 8521, 'clockstopp': 1313, 'decid': 1784, 'still': 7781, 'hungri': 3598, 'british': 906, 'mine': 4768, 'monti': 4873, 'throwaway': 8379, 'rainbow': 5963, 'button': 991, 'segment': 6857, 'ye': 9929, 'zero': 9977, 'adult': 106, 'enamor': 2384, 'antonio': 304, 'bandera': 538, 'luci': 4494, 'liu': 4429, 'dress': 2199, 'prey': 5758, 'joint': 4082, 'promot': 5818, 'basketbal': 577, 'associ': 418, 'rap': 5983, 'adolesc': 96, 'poster': 5686, 'lil': 4398, 'peralta': 5478, 'inform': 3828, 'hindsight': 3489, 'amazingli': 229, 'dopey': 2149, 'solid': 7466, 'espionag': 2488, 'releas': 6127, 'late': 4276, 'cloak': 1311, 'feminist': 2734, 'equat': 2461, 'career': 1071, 'kid': 4164, 'underwhelm': 8923, 'whatev': 9668, 'fill': 2774, 'unifi': 9027, 'phenomenon': 5527, 'peak': 5446, 'ago': 153, 'sexi': 6952, 'role': 6427, 'elizabeth': 2341, 'flop': 2851, 'thornberri': 8344, 'wedgi': 9620, 'heaven': 3430, 'fair': 2647, 'soderbergh': 7444, 'unimpress': 9033, 'lover': 4483, 'morn': 4893, 'world': 9852, 'puppi': 5893, 'leg': 4333, 'butterfli': 989, 'pop': 5664, 'tom': 8475, 'dey': 1945, 'knack': 4195, 'idiosyncrat': 3635, 'shanghai': 6989, 'uninspir': 9039, 'shoot': 7061, 'blank': 729, 'angel': 270, 'thank': 8299, 'easier': 2278, 'jaglom': 4021, 'consciou': 1477, 'gratingli': 3223, 'quarter': 5918, 'giant': 3102, 'fece': 2718, 'intern': 3921, 'invent': 3952, 'luca': 4493, 'closer': 1318, 'sci': 6750, 'fi': 2753, 'accompani': 45, 'lint': 4413, 'navel': 5010, 'riot': 6373, 'cloth': 1322, 'hot': 3563, 'chick': 1204, 'kingdom': 4182, 'creepiest': 1622, 'convent': 1524, 'supernatur': 7977, 'humbl': 3589, 'teach': 8193, 'redeem': 6063, 'superior': 7972, 'friend': 2975, 'bond': 804, 'tootsi': 8499, 'pooti': 5663, 'tang': 8139, 'punchlin': 5886, 'davi': 1745, 'gender': 3075, 'surprisingli': 8008, 'former': 2904, 'yawner': 9926, 'humorless': 3595, 'journey': 4100, 'philosoph': 5533, 'void': 9483, 'iraqi': 3966, 'factori': 2642, 'pois': 5640, 'receiv': 6037, 'respon': 6239, 'vel': 9338, 'pelo': 5462, 'stico': 7777, 'roteirista': 6469, 'jay': 4037, 'cox': 1582, 'consegu': 1479, 'sequer': 6914, 'os': 5258, 'ssimo': 7680, 'em': 2355, 'da': 1708, 'tarantino': 8156, 'subsid': 7902, 'coupl': 1572, 'processor': 5792, 'wore': 9842, 'welcom': 9641, 'cutesi': 1701, 'relianc': 6135, 'endear': 2392, 'underachiev': 8880, 'climax': 1305, 'arriv': 378, 'tape': 8151, 'market': 4614, 'mckay': 4665, 'passag': 5408, 'appar': 326, 'devic': 1932, 'servic': 6933, 'inoffens': 3857, 'drift': 2203, 'aimlessli': 166, 'lodg': 4443, 'categori': 1107, 'unembarrass': 8956, 'unmemor': 9075, 'genit': 3079, 'weigh': 9628, 'brisk': 903, 'antwon': 305, 'fisher': 2795, 'written': 9896, 'duval': 2253, 'elderli': 2328, 'maudlin': 4650, 'fight': 2769, 'grace': 3198, 'skid': 7221, 'row': 6487, 'histrion': 3502, 'vein': 9337, 'brillianc': 896, 'kapur': 4144, 'mason': 4631, 'decis': 1786, 'pluck': 5620, 'circuit': 1263, 'creator': 1614, 'whose': 9715, 'charismat': 1164, 'jacki': 4013, 'frame': 2927, 'unintent': 9044, 'wend': 9649, 'epiphani': 2455, 'sandra': 6618, 'bullock': 958, 'hugh': 3584, 'grant': 3217, 'threadbar': 8359, 'call': 1020, 'extent': 2608, 'warm': 9554, 'rethink': 6268, 'attitud': 446, 'confluenc': 1462, 'creativ': 1613, 'dullest': 2237, 'kiddi': 4165, 'dare': 1731, 'bowel': 840, 'movement': 4920, 'caddyshack': 1005, 'cross': 1644, 'loyal': 4489, 'order': 5248, 'mick': 4743, 'jagger': 4020, 'shyamalan': 7113, 'mystic': 4968, 'unbreak': 8821, 'hokey': 3513, 'gussi': 3308, 'whether': 9680, 'suppos': 7984, 'weakli': 9600, 'everyon': 2530, 'mojo': 4847, 'proport': 5832, 'mission': 4815, 'smuggl': 7372, 'drug': 2221, 'danish': 1727, 'alter': 215, 'bard': 553, 'inquiri': 3859, 'randal': 5977, 'wallac': 9525, 'togeth': 8465, 'sensit': 6899, 'town': 8540, 'authent': 470, 'manufactur': 4601, 'learn': 4318, 'strateg': 7817, 'sheet': 7018, 'madonna': 4540, 'helluva': 3450, 'singer': 7178, 'swept': 8054, 'past': 5412, 'expand': 2577, 'theatric': 8305, 'million': 4764, 'bardem': 554, 'vera': 9357, 'swooni': 8070, 'pitch': 5577, 'simpl': 7161, 'parent': 5385, 'press': 5742, 'bradi': 847, 'feat': 2714, 'topnotch': 8504, 'shove': 7079, 'allegedli': 194, 'emperor': 2372, 'club': 1329, 'blood': 758, 'nowher': 5138, 'cheapo': 1182, 'saturday': 6654, 'sword': 8072, 'sorceri': 7511, 'round': 6479, 'japanes': 4029, 'widowmak': 9725, 'envelop': 2445, 'meant': 4673, 'univers': 9053, 'loyalti': 4490, 'dedic': 1794, 'goal': 3153, 'versu': 9379, 'martial': 4622, 'empir': 2376, 'virtual': 9453, 'bound': 831, 'theatr': 8304, 'tube': 8696, 'possess': 5682, 'jonathan': 4091, 'anomi': 288, 'rubber': 6493, 'routin': 6485, 'insipid': 3871, 'triumphant': 8648, 'revel': 6287, 'swank': 8034, 'disguis': 2036, 'ha': 3317, 'circu': 1262, 'besid': 658, 'zippi': 9990, 'flux': 2865, 'accent': 36, 'sampl': 6604, 'pueril': 5870, 'witless': 9800, 'endur': 2398, 'workout': 9849, 'puls': 5879, 'waterlog': 9582, 'plumb': 5623, 'unchart': 8832, 'sexual': 6958, 'banter': 544, 'mcconaughey': 4659, 'zone': 9995, 'bale': 525, 'reduc': 6069, 'mainli': 4557, 'eyelid': 2628, 'innov': 3855, 'academi': 35, 'stuf': 7858, 'pair': 5350, 'clayburgh': 1288, 'tambor': 8133, 'practic': 5704, 'altogeth': 219, 'numbingli': 5146, 'britney': 907, 'imag': 3655, 'abbrevi': 4, 'obvious': 5169, 'whitak': 9698, 'artist': 390, 'great': 3233, 'grandson': 3216, 'broomfield': 925, 'unveil': 9204, 'endless': 2395, 'camera': 1031, 'windshield': 9763, 'car': 1066, 'daytim': 1752, 'soaper': 7422, 'reflect': 6081, 'showcas': 7083, 'scenic': 6707, 'splendor': 7618, 'mountain': 4915, 'legendari': 4337, 'michel': 4742, 'serrault': 6929, 'oh': 5198, 'howler': 3578, 'whir': 9692, 'click': 1299, 'contain': 1500, 'must': 4958, 'recit': 6042, 'storylin': 7805, 'filler': 2775, 'wave': 9587, 'deliveri': 1840, 'portion': 5676, 'blue': 766, 'prolong': 5814, 'barn': 560, 'wesley': 9656, 'snipe': 7401, 'icon': 3626, 'dozen': 2174, 'lampoon': 4251, 'sensual': 6900, 'cannot': 1053, 'reek': 6073, 'outweigh': 5285, 'nifti': 5081, 'cleti': 1295, 'endeavor': 2393, 'somebodi': 7480, 'devot': 1942, 'makeup': 4566, 'dvd': 2255, 'subtitl': 7909, 'italian': 4001, 'food': 2876, 'pleasant': 5605, 'dish': 2038, 'jazz': 4038, 'chicago': 1203, 'zellweg': 9973, 'lip': 4416, 'spindli': 7605, 'ingenu': 3835, 'nomin': 5102, 'logic': 4446, 'kurt': 4222, 'wimmer': 9753, 'variat': 9316, 'dispar': 2060, 'kirshner': 4186, 'contest': 1509, 'unsympathet': 9185, 'bacon': 514, 'theron': 8320, 'borderlin': 817, 'sam': 6599, 'susan': 8017, 'sarandon': 6632, 'goldi': 3164, 'hawn': 3400, 'repres': 6195, 'latest': 4279, 'ungainli': 9013, 'elbow': 2327, 'stick': 7775, 'knee': 4196, 'obviou': 5168, 'tripl': 8642, 'aris': 363, 'hear': 3414, 'malkovich': 4578, 'pronounc': 5821, 'transvestit': 8587, 'symbol': 8081, 'fifti': 2768, 'pileup': 5560, 'overus': 5322, 'entri': 2444, 'twenti': 8740, 'brosnan': 926, 'bunch': 964, 'hart': 3381, 'bill': 694, 'willi': 9746, 'enlighten': 2417, 'billi': 695, 'ray': 6008, 'terri': 8272, 'done': 2137, 'deepli': 1800, 'heard': 3415, 'solidli': 7468, 'demograph': 1855, 'immers': 3669, 'lust': 4520, 'attent': 445, 'voyeurist': 9498, 'spectacl': 7573, 'forgotten': 2899, 'bodi': 782, 'technic': 8206, 'profici': 5801, 'hole': 3517, 'mummi': 4942, 'masterpiec': 4638, 'scorpion': 6771, 'king': 4181, 'border': 816, 'confession': 1457, 'eat': 2284, 'ahead': 159, 'sided': 7125, 'roster': 6466, 'kathryn': 4149, 'review': 6296, 'consol': 1486, 'dragonfli': 2181, 'convict': 1528, 'spring': 7648, 'nohe': 5097, 'intro': 3940, 'spectat': 7576, 'particip': 5396, 'reveri': 6293, 'unparallel': 9097, 'ident': 3632, 'hokum': 3514, 'asleep': 402, 'restor': 6246, 'harmon': 3375, 'promin': 5815, 'praiseworthi': 5706, 'stir': 7788, 'blend': 742, 'encount': 2387, 'purportedli': 5899, 'verg': 9367, 'partli': 5402, 'schmaltzi': 6727, 'ong': 5216, 'ah': 158, 'weightless': 9631, 'detail': 1919, 'melt': 4698, 'optim': 5238, 'kiss': 4187, 'frankli': 2936, 'clunker': 1334, 'fixat': 2801, 'competit': 1415, 'flame': 2814, 'link': 4412, 'standup': 7721, 'wilson': 9750, 'rang': 5979, 'jet': 4060, 'li': 4367, 'rollerblad': 6431, 'dia': 1946, 'ter': 8267, 'sa': 6547, 'aquel': 346, 'est': 2494, 'tamb': 8131, 'halftim': 3326, 'altman': 218, 'happili': 3358, 'truth': 8686, 'mafia': 4542, 'toolbag': 8496, 'assign': 416, 'western': 9659, 'farrelli': 2681, 'femal': 2731, 'macdowel': 4530, 'ventur': 9352, 'reveal': 6286, 'circa': 1260, 'seller': 6876, 'kenneth': 4157, 'william': 9747, 'et': 2500, 'al': 172, 'talki': 8129, 'kuri': 4221, 'period': 5489, 'sand': 6611, 'musset': 4957, 'particular': 5398, 'raunchi': 6003, 'sexist': 6954, 'spirit': 7609, 'robin': 6403, 'tunney': 8715, 'harder': 3364, 'tot': 8522, 'till': 8419, 'chekhov': 1194, 'cherri': 1200, 'orchard': 5245, 'uppiti': 9241, 'danc': 1723, 'unremark': 9129, 'buddi': 944, 'nod': 5096, 'gel': 3073, 'stephen': 7765, 'near': 5016, 'english': 2410, 'ran': 5974, 'appropri': 340, 'locat': 4441, 'awkwardli': 498, 'probe': 5784, 'penetr': 5470, 'candid': 1045, 'stage': 7688, 'marqui': 4616, 'sade': 6562, 'christian': 1241, 'jonah': 4090, 'comprehend': 1427, 'piffl': 5557, 'condit': 1453, 'zoe': 9993, 'obligatori': 5155, 'stupefi': 7868, 'childhood': 1210, 'awaken': 491, 'asid': 399, 'explicit': 2592, 'minimum': 4773, 'comedian': 1385, 'accept': 37, 'shift': 7030, 'emphasi': 2374, 'latter': 4283, 'archiv': 353, 'print': 5775, 'contrast': 1517, 'frequent': 2960, 'syrup': 8096, 'fizz': 2802, 'felt': 2730, 'drawn': 2190, 'twaddl': 8735, 'shoe': 7057, 'diari': 1952, 'cagney': 1010, 'bottom': 827, 'enact': 2383, 'fascin': 2683, 'eisenstein': 2320, 'consider': 1483, 'brio': 902, 'slo': 7296, 'mo': 4831, 'pyrotechn': 5908, 'aesthet': 118, 'chri': 1240, 'columbu': 1373, 'hat': 3389, 'rowl': 6489, 'sara': 6630, 'mall': 4579, 'adapt': 79, 'roland': 6426, 'scarlet': 6697, 'letter': 4359, 'soup': 7530, 'can': 1040, 'labour': 4229, 'fritter': 2985, 'trim': 8637, 'poke': 5642, 'fruit': 2993, 'main': 4556, 'pray': 5710, 'quick': 5929, 'rice': 6337, 'bring': 900, 'edg': 2296, 'deep': 1797, 'south': 7535, 'tasteless': 8171, 'groan': 3265, 'improv': 3708, 'exampl': 2546, 'preced': 5715, 'undercov': 8885, 'strongli': 7843, 'profound': 5804, 'stomach': 7794, 'appetit': 332, 'corn': 1545, 'central': 1130, 'lucki': 4498, 'section': 6839, 'romp': 6446, 'thieveri': 8328, 'packag': 5339, 'lesson': 4354, 'nobodi': 5095, 'brilliantli': 898, 'prime': 5768, 'slightest': 7286, 'gymnast': 3316, 'inauthent': 3726, 'upscal': 9246, 'lifestyl': 4385, 'urban': 9252, 'ben': 638, 'affleck': 125, 'hitchcockian': 3505, 'corni': 1548, 'leon': 4348, 'pave': 5436, 'drivel': 2208, 'enhanc': 2413, 'drool': 2214, 'supposedli': 7985, 'thud': 8385, 'ch': 1136, 'teau': 8203, 'overcom': 5291, 'meyj': 4737, 'focus': 2867, 'max': 4653, 'fluent': 2858, 'nijinski': 5086, 'crudup': 1651, 'midst': 4748, 'existenti': 2573, 'explor': 2595, 'whimsic': 9685, 'folk': 2870, 'affirm': 124, 'architectur': 352, 'funnier': 3016, 'potter': 5696, 'chamber': 1146, 'marvel': 4625, 'tiniest': 8434, 'paid': 5345, 'noir': 5098, 'upbeat': 9224, 'affluent': 128, 'damsel': 1720, 'phone': 5536, 'seven': 6944, 'blockbust': 756, 'midnight': 4747, 'constantli': 1492, 'eighth': 2318, 'doze': 2173, 'befuddl': 609, 'overh': 5299, 'student': 7854, 'ms': 4925, 'sugarman': 7937, 'collater': 1363, 'schwarzenegg': 6746, 'figur': 2771, 'sympathi': 8086, 'belong': 633, 'facial': 2637, 'express': 2601, 'passion': 5410, 'almodovar': 204, 'fantasma': 2674, 'gunplay': 3305, 'metal': 4727, 'smashup': 7345, 'flaccid': 2806, 'heat': 3428, 'reaction': 6015, 'opt': 5237, 'breezi': 885, 'toler': 8471, 'penchant': 5467, 'cue': 1668, 'summer': 7946, 'uninterest': 9045, 'jennif': 4049, 'hewitt': 3469, 'retold': 6273, 'retread': 6277, 'bake': 522, 'setup': 6942, 'costum': 1559, 'castl': 1096, 'releg': 6128, 'corner': 1547, 'somehow': 7482, 'flatter': 2824, 'display': 2066, 'cower': 1581, 'feet': 2723, 'scruffi': 6806, 'abel': 6, 'ferrara': 2740, 'beaten': 598, 'ear': 2267, 'cain': 1011, 'stainton': 7699, 'tongu': 8489, 'cheek': 1186, 'wacki': 9506, 'season': 6828, 'cheer': 1188, 'smoothli': 7366, 'hill': 3487, 'howard': 3575, 'via': 9394, 'surrealist': 8010, 'flourish': 2855, 'overwrought': 5328, 'swear': 8043, 'step': 7764, 'bu': 939, 'uel': 8767, 'retrospect': 6283, 'cute': 1700, 'reviv': 6304, 'youth': 9953, 'ann': 280, 'sophi': 7504, 'birot': 704, 'research': 6218, 'cheaper': 1181, 'op': 5223, 'narrat': 4996, 'hitler': 3506, 'trifecta': 8634, 'manag': 4586, 'singl': 7180, 'jumbl': 4122, 'assembl': 412, 'nba': 5013, 'properti': 5828, 'borstal': 822, 'soggi': 7453, 'aspect': 403, 'esqu': 2490, 'child': 1209, 'irish': 3970, 'whodunit': 9702, 'larger': 4268, 'murk': 4946, 'valley': 9298, 'doll': 2132, 'sledgehamm': 7267, 'breath': 877, 'magnolia': 4551, 'barney': 561, 'crushingli': 1659, 'cool': 1535, 'sayl': 6674, 'strand': 7811, 'superb': 7964, 'repellantli': 6187, 'control': 1520, 'admit': 92, 'runteldat': 6522, 'check': 1184, 'nerv': 5048, 'femin': 2732, 'earlier': 2269, 'frontal': 2988, 'bright': 894, 'tuck': 8697, 'everlast': 2526, 'tradit': 8552, 'rose': 6459, 'fish': 2794, 'assur': 421, 'pocket': 5631, 'readi': 6018, 'resurrect': 6257, 'cattaneo': 1112, 'elicit': 2338, 'deja': 1824, 'vu': 9500, 'overproduc': 5307, 'absolut': 21, 'wooden': 9830, 'electr': 2330, 'pencil': 5468, 'sharpen': 7000, 'mothman': 4907, 'propheci': 5829, 'deed': 1795, 'lifetim': 4386, 'network': 5054, 'alway': 221, 'brilliant': 897, 'dragon': 2180, 'midway': 4749, 'jason': 4033, 'rye': 6543, 'clearli': 1294, 'witti': 9802, 'expos': 2598, 'vid': 9409, 'umpteenth': 8783, 'dip': 1986, 'jerri': 4055, 'bruckheim': 933, 'putrid': 5905, 'tomcat': 8479, 'thrust': 8383, 'media': 4680, 'circl': 1261, 'dogtown': 2130, 'pantheon': 5369, 'wreckag': 9881, 'includ': 3737, 'battlefield': 587, 'earth': 2275, 'showgirl': 7086, 'oili': 5200, 'arm': 369, 'dealer': 1763, 'squad': 7664, 'requisit': 6215, 'captain': 1063, 'aggrand': 147, 'drive': 2207, 'chiefli': 1208, 'greatest': 3235, 'sake': 6581, 'chainsaw': 1142, 'finger': 2786, 'tweener': 8738, 'slick': 7281, 'moder': 4841, 'genteel': 3083, 'unsurpris': 9180, 'instantli': 3881, 'extravaganza': 2618, 'upstag': 9250, 'zooland': 9996, 'liza': 4433, 'tackl': 8107, 'teeth': 8222, 'mcculloch': 4660, 'preciou': 5716, 'lumber': 4505, 'wheezi': 9673, 'innoc': 3853, 'campi': 1038, 'sordid': 7512, 'function': 3010, 'serb': 6917, 'wing': 9767, 'qualifi': 5913, 'suprem': 7987, 'unentertain': 8964, 'piss': 5575, 'celluloid': 1125, 'litmu': 4426, 'test': 8280, 'pedigre': 5452, 'admir': 90, 'sensat': 6894, 'metaphor': 4728, 'sheridan': 7027, 'account': 48, 'curious': 1688, 'grit': 3263, 'flabbi': 2805, 'toback': 8457, 'smarter': 7340, 'moviego': 4922, 'clad': 1271, 'reggio': 6094, 'trist': 8644, 'tener': 8254, 'la': 4224, 'heather': 3429, 'stallon': 7708, 'regard': 6092, 'statu': 7748, 'america': 237, 'tug': 8700, 'stuart': 7849, 'cell': 1124, 'gunfir': 3304, 'bargain': 557, 'basement': 573, 'penanc': 5466, 'hide': 3475, 'shape': 6992, 'xxx': 9912, 'impecc': 3681, 'charg': 1162, 'respond': 6240, 'willing': 9748, 'magnific': 4550, 'clint': 1308, 'eastwood': 2282, 'effici': 2305, 'minimalist': 4772, 'heist': 3446, 'brooklyn': 923, 'hood': 3537, 'popular': 5667, 'vin': 9437, 'diesel': 1963, 'seth': 6938, 'pepper': 5476, 'childlik': 1212, 'liter': 4423, 'home': 3528, 'gorgeous': 3185, 'vat': 9323, 'twitchi': 8753, 'boorish': 812, 'delight': 1835, 'essenc': 2492, 'magic': 4545, 'soar': 7424, 'realm': 6028, 'nine': 5089, 'tenth': 8261, 'hallmark': 3329, 'absorb': 22, 'divert': 2109, 'spider': 7596, 'morph': 4896, 'carl': 1076, 'franklin': 2937, 'crisp': 1636, 'econom': 2291, 'mend': 4708, 'hank': 3348, 'stilt': 7783, 'tabloid': 8103, 'michael': 4741, 'neighbor': 5036, 'unendur': 8962, 'bold': 793, 'brightli': 895, 'color': 1370, 'dream': 2192, 'uplift': 9236, 'florid': 2852, 'surfac': 7997, 'flash': 2817, 'dawson': 1749, 'tail': 8114, 'indi': 3767, 'squaddi': 7665, 'column': 1374, 'torn': 8509, 'jacket': 4012, 'vision': 9462, 'relay': 6126, 'swim': 8058, 'skewer': 7219, 'alik': 191, 'infus': 3833, 'scorses': 6772, 'street': 7823, 'ash': 395, 'wednesday': 9621, 'essenti': 2493, 'halfway': 3327, 'necessarili': 5024, 'waydowntown': 9591, 'nice': 5070, 'collis': 1369, 'current': 1692, 'underway': 8921, 'dad': 1710, 'shadyac': 6967, 'perpetr': 5494, 'patch': 5417, 'photograph': 5539, 'stanc': 7714, 'stoop': 7798, 'pant': 5368, 'cloyingli': 1328, 'evelyn': 2519, 'amiabl': 241, 'string': 7835, 'variant': 9315, 'benigni': 647, 'persona': 5503, 'sandlerian': 6617, 'backhand': 509, 'ode': 5183, 'camaraderi': 1028, 'pen': 5463, 'friendship': 2977, 'mexican': 4734, 'brawn': 863, 'wattag': 9586, 'repeatedli': 6185, 'flashback': 2818, 'highest': 3481, 'degre': 1822, 'mark': 4612, 'playbook': 5598, 'support': 7983, 'fling': 2845, 'ricochet': 6345, 'ryoko': 6545, 'jew': 4062, 'cathol': 1111, 'tailor': 8115, 'modest': 4843, 'overli': 5301, 'constant': 1491, 'suddenli': 7926, 'transpos': 8586, 'progress': 5810, 'stylish': 7879, 'skill': 7223, 'employ': 2377, 'famou': 2665, 'breathless': 878, 'anticip': 299, 'letdown': 4356, 'slip': 7291, 'quinn': 5937, 'leather': 4321, 'tunnel': 8714, 'astound': 425, 'luv': 4523, 'renown': 6173, 'untal': 9186, 'enterpris': 2431, 'brow': 930, 'vibe': 9396, 'druggi': 2222, 'orgi': 5252, 'ten': 8246, 'onto': 5219, 'merchant': 4712, 'herzog': 3468, 'simpler': 7163, 'credibl': 1616, 'draw': 2188, 'domest': 2134, 'biopic': 702, 'goyer': 3196, 'unaccount': 8791, 'pinocchio': 5569, 'weather': 9611, 'breckin': 882, 'meyer': 4736, 'bygon': 996, 'porridg': 5673, 'lump': 4507, 'kline': 4194, 'fashion': 2686, 'veer': 9329, 'ticket': 8401, 'realism': 6023, 'survey': 8014, 'came': 1029, 'anyway': 313, 'naipaul': 4978, 'acquaint': 61, 'fast': 2688, 'retain': 6261, 'crocodil': 1641, 'hunter': 3601, 'measur': 4675, 'platter': 5595, 'swallow': 8031, 'affabl': 119, 'undernourish': 8903, 'collabor': 1360, 'congeni': 1467, 'dynamit': 2262, 'evan': 2514, 'simpson': 7169, 'chuckl': 1247, 'burr': 979, 'steer': 7760, 'satisfact': 6647, 'schoolgirl': 6738, 'curios': 1685, 'digit': 1970, 'unblink': 8818, 'deem': 1796, 'necessari': 5023, 'document': 2120, 'psycho': 5859, 'transpar': 8583, 'rewrit': 6316, 'garner': 3059, 'pg': 5524, 'slide': 7284, 'assert': 413, 'co': 1337, 'commit': 1396, 'literari': 4424, 'plate': 5593, 'afloat': 133, 'nineti': 5090, 'misdemeanor': 4794, 'poo': 5659, 'guess': 3289, 'tykwer': 8757, 'kieslowski': 4170, 'pun': 5883, 'suffic': 7930, 'slightli': 7287, 'sinuous': 7189, 'dylan': 2260, 'airless': 169, 'julia': 4118, 'sell': 6875, 'monger': 4861, 'lopez': 4466, 'publicist': 5866, 'roach': 6394, 'taxicab': 8186, 'corps': 1550, 'slice': 7280, 'london': 4452, 'unturn': 9201, 'sprinkl': 7652, 'everywher': 2532, 'bibl': 678, 'group': 3274, 'discuss': 2031, 'chicken': 1205, 'preach': 5712, 'convert': 1526, 'tiger': 8412, 'path': 5420, 'center': 1128, 'chronicl': 1245, 'grub': 3280, 'yorker': 9948, 'suffici': 7931, 'heft': 3440, 'aaliyah': 0, 'toothless': 8498, 'mari': 4609, 'bread': 870, 'vista': 9466, 'paul': 5430, 'pender': 5469, 'stagi': 7693, 'stack': 7686, 'devolv': 1941, 'soccer': 7431, 'rothman': 6471, 'futur': 3026, 'schneidermeist': 6731, 'akin': 171, 'frankenstein': 2934, 'mishmash': 4804, 'careen': 1070, 'slapstick': 7256, 'lift': 4387, 'quiet': 5933, 'brendan': 886, 'fraser': 2939, 'caper': 1059, 'vapor': 9310, 'bling': 746, 'kidnap': 4168, 'unpleasantli': 9101, 'claustrophob': 1286, 'wang': 9539, 'impost': 3700, 'unless': 9066, 'folli': 2871, 'endlessli': 2396, 'kidlet': 4166, 'brainer': 849, 'rekindl': 6120, 'stronger': 7841, 'shreve': 7094, 'dual': 2227, 'graze': 3230, 'widget': 9723, 'crank': 1595, 'cliff': 1301, 'experiment': 2586, 'plan': 5588, 'post': 5684, 'rote': 6468, 'impli': 3690, 'veloc': 9341, 'ought': 5264, 'inner': 3852, 'within': 9797, 'regain': 6089, 'arnold': 373, 'physiqu': 5543, 'ahola': 160, 'transform': 8576, 'viscer': 9460, 'tumblewe': 8704, 'collinwood': 1368, 'loopi': 4464, 'session': 6935, 'captiv': 1064, 'rowdi': 6488, 'stagey': 7690, 'devito': 1938, 'auteuil': 468, 'ambl': 234, 'von': 9490, 'sychowski': 8076, 'surreal': 8009, 'inter': 3909, 'speci': 7566, 'vh': 9392, 'artific': 388, 'septemb': 6909, 'pizazz': 5581, 'winner': 9771, 'aspir': 406, 'bartlett': 570, 'cipher': 1259, 'gibney': 3104, 'jarecki': 4031, 'precoci': 5720, 'frida': 2972, 'prurient': 5853, 'winger': 9768, 'pari': 5386, 'depict': 1874, 'sorriest': 7519, 'cq': 1584, 'fondli': 2874, 'roman': 6435, 'coppola': 1540, 'brief': 892, 'feardotcom': 2709, 'astut': 430, 'climact': 1303, 'belov': 634, 'shall': 6979, 'invit': 3960, 'spontan': 7623, 'laser': 4274, 'litter': 4427, 'mib': 4740, 'restroom': 6250, 'arti': 385, 'theoriz': 8314, 'german': 3092, 'expressionist': 2602, 'accord': 47, 'guardian': 3288, 'nick': 5075, 'phrase': 5541, 'jackson': 4014, 'grin': 3257, 'kilt': 4174, 'carri': 1085, 'golf': 3166, 'shoulder': 7077, 'ruh': 6509, 'roh': 6421, 'rometh': 6443, 'rictur': 6346, 'salient': 6588, 'simultan': 7171, 'buri': 974, 'sentenc': 6903, 'capra': 1061, 'cooper': 1536, 'ze': 9965, 'educ': 2300, 'ararat': 347, 'went': 9652, 'jovial': 4101, 'join': 4081, 'scienc': 6751, 'rambl': 5970, 'unintend': 9043, 'faster': 2689, 'tremend': 8618, 'allur': 201, 'withhold': 9796, 'punchi': 5885, 'schmaltz': 6726, 'assess': 414, 'engin': 2408, 'onscreen': 5218, 'addit': 82, 'overcook': 5292, 'chees': 1190, 'outtak': 5284, 'utter': 9274, 'uhhh': 8774, 'worthi': 9867, 'gong': 3171, 'australian': 466, 'counterpart': 1567, 'amari': 223, 'lilia': 4400, 'divid': 2111, 'soul': 7525, 'leaven': 4323, 'absurdist': 26, 'west': 9657, 'relic': 6136, 'plausibl': 5596, 'descend': 1891, 'hanek': 3345, 'sadist': 6564, 'tendenc': 8250, 'mouth': 4918, 'oop': 5221, 'songbird': 7494, 'instal': 3878, 'ley': 4366, 'climb': 1306, 'ladder': 4239, 'oper': 5227, 'juli': 4117, 'taymor': 8189, 'titu': 8453, 'drumlin': 2224, 'albeit': 179, 'afford': 129, 'glean': 3123, 'ram': 5969, 'dass': 1741, 'organ': 5250, 'garbl': 3053, 'crystal': 1662, 'sleepwalk': 7274, 'concert': 1444, 'toy': 8543, 'paean': 5342, 'empower': 2379, 'smoother': 7364, 'traffic': 8554, 'racial': 5948, 'corpor': 1549, 'mill': 4761, 'decidedli': 1785, 'size': 7207, 'concoct': 1448, 'glorif': 3140, 'whitewash': 9700, 'dustin': 2251, 'flesh': 2836, 'expo': 2597, 'skin': 7226, 'emphas': 2373, 'immacul': 3664, 'compos': 1425, 'quietli': 5935, 'paint': 5348, 'coke': 1356, 'sitcomishli': 7200, 'poignant': 5637, 'hospit': 3559, 'moviemak': 4923, 'undertaken': 8916, 'beck': 601, 'framework': 2928, 'upon': 9239, 'broad': 911, 'lee': 4328, 'sentimentalist': 6905, 'worship': 9864, 'random': 5978, 'we': 9595, 'schlock': 6724, 'sunshin': 7961, 'state': 7740, 'landscap': 4255, 'sociolog': 7437, 'barbershop': 552, 'cube': 1666, 'fix': 2800, 'inadvert': 3721, 'sidesplit': 7128, 'admiss': 91, 'factor': 2641, 'dana': 1721, 'transport': 8585, 'uzumaki': 9277, 'parallel': 5379, 'prostitut': 5838, 'muse': 4950, 'creat': 1611, 'tempt': 8243, 'label': 4226, 'marcu': 4606, 'mixtur': 4829, 'tend': 8249, 'hammer': 3334, 'animatron': 278, 'tick': 8400, 'stillborn': 7782, 'hunk': 3599, 'disjoint': 2049, 'flow': 2856, 'joli': 4087, 'yellow': 9934, 'bolster': 798, 'pete': 5520, 'purposeless': 5901, 'franco': 2932, 'dean': 1765, 'thirti': 8340, 'incarn': 3729, 'synthet': 8095, 'descript': 1894, 'sacrific': 6556, 'concentr': 1440, 'interplay': 3924, 'impostor': 3701, 'anonym': 289, 'elabor': 2324, 'surveil': 8013, 'technolog': 8209, 'pick': 5548, 'durabl': 2247, 'spice': 7594, 'rat': 5995, 'thesp': 8322, 'slum': 7325, 'ralph': 5968, 'fienn': 2763, 'joyless': 4103, 'exceedingli': 2551, 'daydream': 1751, 'beard': 595, 'eileen': 2319, 'charmless': 1172, 'vacant': 9278, 'notabl': 5122, 'bluescreen': 767, 'super': 7962, 'splash': 7614, 'sharper': 7001, 'cleaner': 1290, 'len': 4343, 'morrissett': 4899, 'task': 8169, 'le': 4308, 'nouvel': 5132, 'luc': 4492, 'godard': 3155, 'spous': 7638, 'phantom': 5525, 'logist': 4447, 'polic': 5648, 'orient': 5253, 'tnt': 8455, 'flail': 2809, 'bodili': 784, 'substitut': 7907, 'ish': 3994, 'triumph': 8646, 'extraordinari': 2614, 'coal': 1338, 'ravish': 6006, 'wide': 9719, 'satyr': 6655, 'congratulatori': 1470, 'nonetheless': 5106, 'nicest': 5071, 'freddi': 2948, 'tara': 8155, 'reid': 6106, 'colleg': 1366, 'six': 7204, 'hawaiian': 3398, 'tropic': 8659, 'pageant': 5344, 'ensu': 2427, 'normal': 5113, 'rohmer': 6422, 'month': 4872, 'preview': 5755, 'preemptiv': 5727, 'departur': 1872, 'engend': 2407, 'malon': 4580, 'tasti': 8172, 'gallo': 3040, 'blair': 724, 'witch': 9793, 'diaz': 1954, 'accomplish': 46, 'retro': 6281, 'gang': 3047, 'machismo': 4532, 'trade': 8550, 'erotic': 2472, 'sillifi': 7152, 'pap': 5370, 'heroic': 3465, 'schizophrenia': 6722, 'waterboy': 9579, 'bypass': 998, 'aficionado': 132, 'calori': 1024, 'tini': 8433, 'nari': 4994, 'sleeper': 7271, 'prove': 5844, 'rigidli': 6365, 'permit': 5492, 'dimens': 1979, 'bmw': 775, 'autobiograph': 473, 'turd': 8718, 'truck': 8670, 'glover': 3146, 'river': 6390, 'translat': 8580, 'italic': 4002, 'shatner': 7005, 'evid': 2533, 'hash': 3385, 'jump': 4124, 'yu': 9954, 'camouflag': 1033, 'ga': 3029, 'schumach': 6744, 'amateur': 225, 'religi': 6139, 'pregnant': 5729, 'chanc': 1150, 'costner': 1558, 'righteou': 6361, 'chai': 1139, 'structur': 7845, 'backdrop': 507, 'consist': 1485, 'grimli': 3256, 'attach': 440, 'panoram': 5366, 'sweep': 8047, 'congratul': 1469, 'spawn': 7563, 'lizard': 4434, 'chip': 1224, 'protagonist': 5839, 'trooper': 8656, 'amalgam': 222, 'riff': 6354, 'zucker': 9998, 'terrorist': 8279, 'queasi': 5922, 'compass': 1407, 'pb': 5444, 'program': 5809, 'restag': 6243, 'bathtub': 584, 'quicki': 5930, 'slickli': 7283, 'grey': 3246, 'antisept': 302, 'african': 136, 'tripe': 8641, 'groundbreak': 3273, 'explan': 2591, 'stylist': 7881, 'vicari': 9401, 'elegantli': 2332, 'labyrinthin': 4231, 'paramount': 5381, 'european': 2511, 'pickup': 5551, 'wiser': 9785, 'tact': 8108, 'sewer': 6950, 'skeev': 7211, 'shower': 7085, 'tinsel': 8437, 'shortest': 7072, 'amateurishli': 227, 'zhang': 9980, 'fort': 2909, 'whimsi': 9684, 'inert': 3796, 'loveabl': 4481, 'news': 5065, 'distanc': 2087, 'goodfella': 3176, 'skippabl': 7230, 'mob': 4833, 'mode': 4838, 'straddl': 7807, 'dweller': 2258, 'edward': 2301, 'sidewalk': 7131, 'athletic': 433, 'stasi': 7739, 'scale': 6677, 'wwii': 9904, 'patchi': 5418, 'ploddingli': 5614, 'stoke': 7792, 'superstar': 7978, 'skirt': 7232, 'solut': 7476, 'ed': 2294, 'lang': 4257, 'philosophi': 5534, 'wankeri': 9541, 'amaz': 228, 'ringu': 6370, 'reput': 6211, 'engagingli': 2406, 'slob': 7297, 'reduct': 6070, 'damon': 1718, 'runyon': 6523, 'witherspoon': 9795, 'legal': 4335, 'blond': 757, 'alabama': 174, 'greas': 3231, 'rule': 6512, 'amidst': 244, 'sympath': 8084, 'nutti': 5150, 'hurley': 3603, 'bath': 581, 'giggl': 3108, 'travail': 8595, 'access': 38, 'screed': 6792, 'branagh': 852, 'energet': 2401, 'playwright': 5602, 'overstuf': 5317, 'dramedi': 2185, 'uwe': 9276, 'boll': 796, 'intric': 3937, 'phoenix': 5535, 'charisma': 1163, 'esther': 2497, 'initi': 3846, 'underbelli': 8883, 'fame': 2661, 'chines': 1223, 'homosexu': 3529, 'relationship': 6124, 'matur': 4649, 'lan': 4252, 'tart': 8164, 'narc': 4990, 'uniti': 9051, 'cacoyanni': 1003, 'cake': 1012, 'gentil': 3084, 'endors': 2397, 'gere': 3090, 'merit': 4717, 'palpabl': 5358, 'plu': 5619, 'scribe': 6800, 'wade': 9508, 'workmanlik': 9848, 'cycl': 1705, 'recogn': 6046, 'boozi': 815, 'spain': 7546, 'tumult': 8706, 'conform': 1463, 'scarfac': 6691, 'verdict': 9364, 'moralist': 4885, 'elev': 2336, 'harmless': 3374, 'troup': 8667, 'invest': 3953, 'undergradu': 8895, 'subtext': 7908, 'discoveri': 2028, 'wizard': 9805, 'fifth': 2767, 'dilut': 1976, 'stalk': 7704, 'crawli': 1605, 'reign': 6107, 'predominantli': 5726, 'unnam': 9082, 'hush': 3607, 'deeper': 1798, 'thoma': 8341, 'aliv': 192, 'ethan': 2503, 'chelsea': 1195, 'wall': 9524, 'landmark': 4254, 'poem': 5632, 'experienc': 2584, 'inexpress': 3806, 'honestli': 3533, 'rorschach': 6456, 'critiqu': 1640, 'clare': 1276, 'peplo': 5475, 'irrever': 3987, 'xerox': 9907, 'rancid': 5975, 'norton': 5116, 'procedur': 5789, 'wander': 9537, 'hopkin': 3546, 'jame': 4023, 'fallon': 2657, 'shainberg': 6972, 'ocean': 5176, 'expediti': 2581, 'kumbl': 4218, 'favorit': 2704, 'del': 1826, 'toro': 8512, 'maintain': 4559, 'reassur': 6031, 'pose': 5680, 'vittorio': 9471, 'sica': 7118, 'proud': 5843, 'merg': 4716, 'jolli': 4088, 'unpersuas': 9098, 'footnot': 2882, 'evolv': 2538, 'option': 5240, 'moretti': 4890, 'profess': 5798, 'medicin': 4682, 'ayurveda': 500, 'trajectori': 8564, 'arni': 372, 'unfathom': 8983, 'boat': 779, 'exhilar': 2569, 'relat': 6123, 'creation': 1612, 'outlin': 5275, 'effortlessli': 2308, 'pulchritud': 5875, 'frat': 2940, 'wisecrack': 9782, 'outright': 5279, 'bodic': 783, 'ripper': 6378, 'artsi': 392, 'testament': 8281, 'runner': 6521, 'page': 5343, 'duke': 2234, 'pseudo': 5855, 'burkina': 976, 'faso': 2687, 'fessenden': 2745, 'nurtur': 5149, 'rung': 6520, 'jack': 4010, 'fincher': 2781, 'celebr': 1122, 'dickensian': 1958, 'decenc': 1781, 'modem': 4840, 'disconnect': 2019, 'flatul': 2825, 'dialog': 1948, 'crossroad': 1646, 'shorter': 7071, 'cassavet': 1094, 'afternoon': 138, 'didact': 1960, 'underneath': 8902, 'accur': 50, 'block': 754, 'overwritten': 5327, 'surfeit': 7999, 'techno': 8208, 'winter': 9774, 'seemingli': 6852, 'entranc': 2442, 'ventual': 9351, 'flush': 2863, 'heroism': 3467, 'popcorn': 5665, 'unend': 8961, 'beach': 590, 'camerawork': 1032, 'awesom': 496, 'sceneri': 6706, 'sunburn': 7951, 'ricci': 6336, 'thekid': 8307, 'mom': 4852, 'clip': 1309, 'epic': 2452, 'scottish': 6776, 'jaunt': 4035, 'taylor': 8188, 'fertil': 2742, 'vainglori': 9287, 'intermin': 3918, 'villeneuv': 9433, 'bibi': 677, 'angst': 275, 'gaze': 3069, 'tux': 8732, 'knockoff': 4201, 'dazzl': 1754, 'proverbi': 5846, 'thon': 8342, 'slacker': 7246, 'piquant': 5574, 'heighten': 3444, 'heel': 3439, 'not': 5121, 'importantli': 3696, 'tighten': 8414, 'tattoo': 8176, 'kilmer': 4173, 'salton': 6593, 'currenc': 1691, 'misogynist': 4810, 'scenario': 6704, 'saddl': 6561, 'misogyni': 4809, 'egg': 2310, 'timer': 8426, 'convey': 1527, 'venic': 9348, 'etc': 2501, 'valuabl': 9301, 'benign': 646, 'khouri': 4161, 'sold': 7458, 'moonlight': 4879, 'replet': 6191, 'acclaim': 41, 'hover': 3574, 'acut': 75, 'corpu': 1551, 'drek': 2197, 'shiner': 7038, 'fortun': 2913, 'outcom': 5269, 'pilot': 5563, 'buyer': 993, 'sabrina': 6551, 'purport': 5898, 'ostens': 5260, 'unclassifi': 8837, 'tonal': 8486, 'heartstr': 3426, 'untug': 9199, 'liber': 4372, 'unplund': 9103, 'succe': 7917, 'instil': 3884, 'door': 2146, 'forster': 2908, 'meara': 4674, 'levi': 4362, 'reginald': 6096, 'veljohnson': 9339, 'hilar': 3485, 'turkey': 8722, 'roberto': 6402, 'zillionth': 9985, 'airhead': 168, 'zaidan': 9961, 'leguizamo': 4339, 'plug': 5622, 'tedium': 8214, 'gold': 3161, 'valueless': 9303, 'underwritten': 8926, 'starter': 7734, 'slim': 7288, 'facil': 2638, 'techniqu': 8207, 'california': 1019, 'equival': 2464, 'dinner': 1985, 'host': 3560, 'babi': 501, 'birth': 705, 'salvag': 6596, 'uncharismat': 8831, 'chest': 1201, 'champion': 1147, 'guffaw': 3291, 'upper': 9240, 'prosaic': 5834, 'referenc': 6078, 'savviest': 6671, 'deftli': 1818, 'captur': 1065, 'embrac': 2363, 'fuhrman': 3001, 'rebellion': 6034, 'silenc': 7147, 'ragbag': 5957, 'whaley': 9666, 'uncommonli': 8846, 'chain': 1141, 'confirm': 1460, 'discern': 2014, 'holden': 3516, 'synthesi': 8094, 'seldom': 6868, 'ball': 528, 'bee': 607, 'stream': 7821, 'spectacularli': 7575, 'misconceiv': 4791, 'cinephil': 1257, 'hone': 3530, 'puccini': 5868, 'chabrol': 1137, 'unearth': 8949, 'estrogen': 2499, 'evapor': 2516, 'urgenc': 9254, 'wealth': 9601, 'astonishingli': 424, 'facilit': 2639, 'extend': 2606, 'cooki': 1534, 'cutter': 1702, 'occas': 5170, 'yammer': 9918, 'miller': 4763, 'pumpkin': 5882, 'fratern': 2941, 'exceed': 2550, 'larson': 4272, 'broder': 916, 'toni': 8490, 'benjamin': 648, 'jess': 4057, 'ventura': 9353, 'xfl': 9908, 'react': 6014, 'latin': 4281, 'leftov': 4332, 'week': 9623, 'nake': 4983, 'igloo': 3640, 'sank': 6625, 'lake': 4246, 'minu': 4775, 'knew': 4197, 'hyper': 3614, 'andi': 267, 'val': 9289, 'lightheart': 4392, 'wishi': 9788, 'washi': 9570, 'spray': 7642, 'underarm': 8882, 'harland': 3372, 'impish': 3688, 'augment': 456, 'meal': 4668, 'prepar': 5735, 'kim': 4176, 'tactic': 8109, 'dear': 1766, 'amp': 251, 'unremittingli': 9130, 'overdos': 5295, 'bumper': 962, 'styliz': 7882, 'rout': 6484, 'ass': 407, 'revolv': 6311, 'therapi': 8316, 'timeless': 8423, 'stationari': 7747, 'contribut': 1518, 'vibrant': 9398, 'flower': 2857, 'dawn': 1748, 'carpent': 1082, 'ghoulish': 3100, 'restrain': 6247, 'isl': 3995, 'pal': 5351, 'patient': 5425, 'embellish': 2361, 'misanthrop': 4783, 'moros': 4895, 'marriag': 4618, 'journal': 4098, 'socrat': 7441, 'walter': 9534, 'pulpi': 5878, 'choreographi': 1236, 'abund': 28, 'satan': 6642, 'limb': 4404, 'bet': 664, 'thrift': 8367, 'shop': 7063, 'trekki': 8616, 'abstract': 24, 'tidal': 8404, 'imageri': 3656, 'unencourag': 8959, 'threefold': 8363, 'expans': 2578, 'dimwit': 1983, 'prank': 5707, 'thorn': 8343, 'vinegar': 9441, 'craftsmanship': 1590, 'crescendo': 1624, 'steam': 7757, 'list': 4418, 'magazin': 4543, 'rug': 6506, 'prowess': 5851, 'smooth': 7363, 'uncov': 8867, 'blob': 753, 'underground': 8896, 'portent': 5675, 'doctor': 2118, 'grand': 3211, 'theft': 8306, 'braveri': 860, 'steadfast': 7753, 'toiti': 8468, 'fleetingli': 2834, 'perri': 5497, 'boss': 823, 'finest': 2785, 'chef': 1193, 'hotdog': 3565, 'began': 611, 'fizzl': 2803, 'tune': 8710, 'evoc': 2535, 'percol': 5480, 'argento': 359, 'raw': 6007, 'fearless': 2710, 'magnet': 4548, 'pr': 5703, 'comprehens': 1428, 'licens': 4377, 'coast': 1340, 'bicycl': 681, 'thief': 8327, 'treasur': 8609, 'planet': 5590, 'bro': 909, 'bobbi': 781, 'brand': 853, 'wheez': 9672, 'wwf': 9903, 'dynam': 2261, 'marque': 4615, 'preschool': 5737, 'cost': 1556, 'tooth': 8497, 'unexamin': 8973, 'dreamlik': 2194, 'glide': 3128, 'coincid': 1355, 'voluptu': 9488, 'romijn': 6444, 'stamo': 7711, 'cardboard': 1068, 'attend': 444, 'cann': 1049, 'marri': 4617, 'prevail': 5752, 'primarili': 5767, 'throwback': 8380, 'environment': 2451, 'jane': 4024, 'goodal': 3175, 'chimpanze': 1220, 'medium': 4685, 'outer': 5272, 'channel': 1152, 'enthusiast': 2437, 'aura': 459, 'mighti': 4751, 'sudsi': 7927, 'tub': 8694, 'redgrav': 6065, 'playboy': 5599, 'ace': 53, 'wrestler': 9885, 'resum': 6255, 'nervi': 5049, 'appli': 335, 'textur': 8295, 'gloss': 3144, 'pummel': 5880, 'necess': 5022, 'roundhous': 6481, 'godzilla': 3157, 'tissu': 8447, 'card': 1067, 'turturro': 8730, 'spanish': 7552, 'butler': 986, 'fetish': 2750, 'nobl': 5094, 'leigh': 4340, 'lay': 4302, 'thick': 8325, 'profession': 5799, 'januari': 4027, 'unsentiment': 9157, 'unemot': 8957, 'weav': 9612, 'undercurr': 8886, 'mous': 4917, 'cryin': 1660, 'serri': 6930, 'valedictorian': 9292, 'pero': 5493, 'claim': 1272, 'divers': 2108, 'thousand': 8355, 'momentari': 4854, 'valium': 9297, 'plotlin': 5617, 'sainthood': 6578, 'melod': 4695, 'abc': 5, 'kiarostami': 4162, 'africa': 135, 'yike': 9942, 'arthous': 383, 'rodriguez': 6418, 'reserv': 6221, 'underst': 8912, 'appealingli': 329, 'uptight': 9251, 'cough': 1561, 'postmodern': 5687, 'shamu': 6987, 'whale': 9665, 'splice': 7619, 'clown': 1326, 'makhmalbaf': 4567, 'rehears': 6105, 'affection': 122, 'perspect': 5507, 'newfangl': 5063, 'virtuos': 9454, 'xenophob': 9906, 'rigor': 6366, 'encourag': 2388, 'rueful': 6503, 'indian': 3769, 'wrench': 9882, 'due': 2233, 'trail': 8558, 'march': 4605, 'band': 537, 'stomp': 7795, 'footbal': 2881, 'untun': 9200, 'instrument': 3888, 'treatis': 8611, 'blare': 731, 'system': 8098, 'establish': 2495, 'anchor': 263, 'span': 7549, 'cyber': 1704, 'miramax': 4780, 'hidden': 3474, 'heartfelt': 3423, 'residu': 6224, 'hunt': 3600, 'trilog': 8636, 'wherea': 9676, 'exemplari': 2565, 'beast': 596, 'revit': 6303, 'outing': 5273, 'ski': 7220, 'mask': 4629, 'robberi': 6400, 'diaper': 1951, 'tok': 8469, 'lau': 4284, 'sleek': 7268, 'sociopath': 7438, 'takashi': 8118, 'sorimachi': 7514, 'asian': 398, 'scattershot': 6703, 'besson': 660, 'unessenti': 8968, 'samira': 6602, 'blackboard': 721, 'etho': 2507, 'torpid': 8514, 'clout': 1325, 'realist': 6024, 'sir': 7191, 'anthoni': 295, 'cobbl': 1343, 'whiney': 9687, 'forev': 2891, 'foundat': 2919, 'carnahan': 1080, 'shallowli': 6981, 'rosili': 6464, 'mississippi': 4816, 'delta': 1841, 'laden': 4240, 'partway': 5405, 'recruit': 6059, 'sellout': 6877, 'handed': 3338, 'malcolm': 4570, 'pubesc': 5864, 'franki': 2935, 'later': 4278, 'auto': 472, 'sun': 7950, 'east': 2280, 'derrida': 1890, 'elysian': 2354, 'legitim': 4338, 'steril': 7767, 'whiff': 9681, 'championship': 1148, 'zigzag': 9984, 'noteworthi': 5125, 'unbroken': 8823, 'deadeningli': 1757, 'jargon': 4032, 'labori': 4228, 'denizen': 1863, 'burdett': 972, 'collag': 1361, 'romantic': 6439, 'crypt': 1661, 'sung': 7955, 'chin': 1221, 'nose': 5118, 'bob': 780, 'scherick': 6718, 'ronn': 6448, 'hudlin': 3581, 'alic': 189, 'proce': 5788, 'down': 2162, 'lifelong': 4384, 'fewer': 2752, 'huppert': 3602, 'patienc': 5424, 'stultifyingli': 7862, 'kennedi': 4156, 'bliss': 748, 'curv': 1695, 'merci': 4713, 'expound': 2600, 'bounci': 830, 'fuse': 3021, 'doodl': 2142, 'conscienti': 1476, 'blossom': 762, 'bubbl': 941, 'percept': 5479, 'verbinski': 9360, 'okay': 5202, 'yawp': 9927, 'grain': 3208, 'sassi': 6640, 'circular': 1264, 'profund': 5806, 'whenev': 9675, 'cia': 1250, 'satellit': 6643, 'colleagu': 1364, 'inhabit': 3838, 'marker': 4613, 'held': 3447, 'greater': 3234, 'unsaid': 9143, 'snuggl': 7418, 'soften': 7447, 'impart': 3677, 'python': 5909, 'graviti': 3228, 'hair': 3322, 'lighter': 4390, 'sunnier': 7959, 'mold': 4848, 'truffl': 8676, 'lighten': 4389, 'lunch': 4512, 'scrub': 6805, 'ex': 2539, 'doo': 2141, 'shaggi': 6970, 'fred': 2947, 'velma': 9340, 'ripe': 6375, 'villag': 9430, 'clone': 1315, 'muccino': 4927, 'afterschool': 139, 'freshen': 2962, 'numer': 5147, 'persist': 5500, 'resuscit': 6258, 'interior': 3915, 'vessel': 9384, 'seattl': 6831, 'drizzl': 2211, 'apt': 342, 'island': 3996, 'victor': 9407, 'fleme': 2835, 'travelogu': 8597, 'diva': 2105, 'titil': 8450, 'aquat': 345, 'unedit': 8954, 'glamour': 3119, 'silent': 7148, 'femm': 2735, 'castro': 1098, 'regim': 6095, 'saintli': 6579, 'oil': 5199, 'spout': 7640, 'casual': 1099, 'photographi': 5540, 'heidi': 3442, 'guest': 3290, 'rank': 5980, 'tadpol': 8111, 'junior': 4127, 'varsiti': 9320, 'ridden': 6347, 'shown': 7089, 'judgment': 4111, 'maid': 4554, 'manhattan': 4589, 'matthew': 4648, 'nerdi': 5046, 'cherish': 1199, 'culkin': 1671, 'exud': 2623, 'bratti': 857, 'ted': 8210, 'bundi': 965, 'unexplor': 8978, 'sein': 6861, 'handheld': 3339, 'vertigo': 9382, 'subsequ': 7900, 'poni': 5658, 'unrecommend': 9122, 'hick': 3472, 'prize': 5781, 'cgi': 1135, 'ink': 3851, 'rous': 6482, 'topkapi': 8502, 'shayamalan': 7010, 'wim': 9752, 'wender': 9650, 'condens': 1450, 'pitfal': 5578, 'guillen': 3294, 'beneath': 642, 'clock': 1312, 'tall': 8130, 'transfer': 8572, 'hall': 3328, 'holland': 3520, 'lectur': 4326, 'verv': 9383, 'chaplin': 1155, 'dispassion': 2062, 'monarch': 4858, 'diminish': 1981, 'statur': 7750, 'cent': 1127, 'gum': 3302, 'stalker': 7705, 'arguabl': 361, 'silliest': 7151, 'chen': 1198, 'kaig': 4140, 'china': 1222, 'contrapt': 1515, 'lovingli': 4484, 'choreograph': 1235, 'pristin': 5778, 'neverland': 5059, 'surfer': 8000, 'sheen': 7014, 'sing': 7177, 'reiter': 6114, 'essay': 2491, 'texa': 8291, 'countless': 1570, 'impenetr': 3683, 'morvern': 4903, 'signific': 7142, 'slavishli': 7263, 'nair': 4979, 'eyr': 2629, 'viewpoint': 9424, 'toast': 8456, 'testimoni': 8285, 'mail': 4555, 'snapshot': 7386, 'helmer': 3452, 'ethic': 2505, 'wive': 9804, 'rudimentari': 6501, 'mgm': 4738, 'persuas': 5508, 'england': 2409, 'lamb': 4247, 'hannib': 3351, 'lab': 4225, 'lend': 4344, 'solondzian': 7475, 'callow': 1022, 'personifi': 5506, 'flippant': 2847, 'ozpetek': 5334, 'rever': 6291, 'forgot': 2898, 'infomerci': 3827, 'vim': 9436, 'winsom': 9773, 'symmetri': 8083, 'sweetheart': 8051, 'bigger': 688, 'instinct': 3885, 'culmin': 1672, 'revers': 6294, 'manifesto': 4596, 'frothi': 2990, 'stadium': 7687, 'snuck': 7417, 'simon': 7159, 'lark': 4269, 'prais': 5705, 'hormon': 3549, 'inquisit': 3860, 'juggl': 4113, 'cogent': 1352, 'takeoff': 8121, 'sat': 6641, 'astring': 428, 'darkli': 1737, 'untidi': 9190, 'artifact': 387, 'elan': 2325, 'lavishli': 4296, 'jo': 4072, 'rodrigu': 6417, 'wincingli': 9758, 'correct': 1552, 'guarante': 3286, 'hoot': 3541, 'snake': 7381, 'byler': 997, 'charlott': 1168, 'religion': 6140, 'sampler': 6605, 'adrenalin': 100, 'shine': 7037, 'closet': 1320, 'dour': 2160, 'sane': 6621, 'ongo': 5217, 'laurel': 4293, 'hardi': 3366, 'snore': 7412, 'fest': 2746, 'vinni': 9443, 'spit': 7612, 'lawyer': 4301, 'investig': 3954, 'ideal': 3629, 'circumst': 1265, 'actuada': 72, 'verdadera': 9362, 'tiempo': 8408, 'titular': 8454, 'rep': 6178, 'unapproach': 8804, 'windbag': 9760, 'christoph': 1243, 'trait': 8562, 'counti': 1569, 'vivid': 9476, 'hearst': 3416, 'enorm': 2420, 'yacht': 9914, 'cho': 1225, 'engross': 2411, 'quasi': 5920, 'shirley': 7046, 'richard': 6340, 'broadli': 914, 'lowbrow': 4486, 'farm': 2680, 'gori': 3186, 'patchwork': 5419, 'glossi': 3145, 'environ': 2450, 'wasabi': 9568, 'fare': 2679, 'rack': 5951, 'senior': 6891, 'kidman': 4167, 'jez': 4064, 'butterworth': 990, 'videodrom': 9412, 'kaufman': 4151, 'interview': 3928, 'squint': 7675, 'softwar': 7452, 'snooz': 7409, 'sluggishli': 7324, 'veteran': 9387, 'zwick': 9999, 'nap': 4987, 'daft': 1712, 'tack': 8105, 'nevertheless': 5060, 'snoozi': 7411, 'beij': 622, 'wist': 9791, 'adject': 87, 'prop': 5823, 'werewolf': 9653, 'scous': 6779, 'accuraci': 51, 'dumber': 2240, 'awri': 499, 'salesmanship': 6587, 'behav': 618, 'kingsley': 4183, 'gotten': 3193, 'nail': 4977, 'bedroom': 606, 'abbass': 2, 'buoy': 968, 'exot': 2575, 'spousal': 7639, 'forgiven': 2896, 'scotland': 6774, 'pa': 5335, 'springer': 7650, 'laziest': 4306, 'spinoff': 7607, 'orwel': 5257, 'kafka': 4137, 'wachowski': 9504, 'blender': 743, 'soliah': 7463, 'trial': 8625, 'upcom': 9226, 'sla': 7244, 'emili': 2366, 'sept': 6908, 'eve': 2518, 'tonight': 8491, 'wilco': 9734, 'album': 180, 'hanukkah': 3352, 'nicki': 5077, 'weapon': 9604, 'scatolog': 6701, 'celebratori': 1123, 'soppi': 7508, 'metaphys': 4729, 'laura': 4292, 'signifi': 7141, 'wallop': 9529, 'sanctifi': 6609, 'radiant': 5953, 'wield': 9727, 'fu': 2996, 'stapl': 7725, 'palat': 5352, 'chosen': 1237, 'cliffsnot': 1302, 'appl': 333, 'shed': 7013, 'track': 8547, 'fulfil': 3002, 'derail': 1885, 'charli': 1167, 'besot': 659, 'juici': 4115, 'delici': 1834, 'worm': 9855, 'jesu': 4059, 'pre': 5711, 'multipl': 4939, 'timelin': 8424, 'russo': 6532, 'fantast': 2675, 'soak': 7419, 'wholesom': 9706, 'succinct': 7921, 'attal': 442, 'yvan': 9959, 'neuros': 5055, 'implicit': 3692, 'tonga': 8488, 'nurs': 5148, 'betti': 669, 'sunset': 7960, 'soapdish': 7421, 'inconclus': 3746, 'bounc': 829, 'map': 4602, 'freundlich': 2969, 'safe': 6567, 'juwanna': 4135, 'mann': 4598, 'wewannour': 9663, 'schwartzman': 6745, 'goofbal': 3179, 'fond': 2873, 'aristocrat': 365, 'unreal': 9119, 'slender': 7277, 'combat': 1377, 'videogam': 9413, 'sleekli': 7269, 'expertli': 2588, 'yesterday': 9936, 'roughli': 6477, 'frei': 2955, 'nachtwey': 4974, 'analysi': 257, 'skolnick': 7236, 'longest': 4457, 'yard': 9922, 'checklist': 1185, 'deniro': 1862, 'polish': 5650, 'pink': 5567, 'sailor': 6576, 'moon': 4878, 'geeki': 3072, 'courtroom': 1576, 'outrun': 5280, 'motorcycl': 4912, 'cocoon': 1347, 'lunaci': 4510, 'underwood': 8924, 'breed': 883, 'burst': 980, 'alongsid': 209, 'duma': 2238, 'musket': 4956, 'envi': 2446, 'cinematograph': 1255, 'grungi': 3285, 'unsuspens': 9183, 'mctiernan': 4666, 'subtler': 7911, 'ultraviol': 8780, 'futurist': 3027, 'shafer': 6968, 'greg': 3243, 'hinton': 3492, 'mount': 4914, 'unconnect': 8856, 'gothic': 3192, 'undevelop': 8930, 'heavili': 3432, 'militari': 4759, 'stolid': 7793, 'ape': 318, 'mate': 4640, 'theolog': 8311, 'bludgeon': 765, 'unconsci': 8857, 'agitprop': 152, 'binoch': 698, 'momentum': 4856, 'primer': 5769, 'protect': 5840, 'bravura': 862, 'sent': 6902, 'earnestli': 2273, 'spunk': 7656, 'draft': 2177, 'limbo': 4405, 'legend': 4336, 'alfr': 186, 'hitchcock': 3504, 'huston': 3610, 'yimou': 9943, 'referenti': 6079, 'ol': 5203, 'rib': 6330, 'melani': 4693, 'yanke': 9921, 'hispan': 3496, 'monument': 4875, 'varieti': 9317, 'sprawl': 7641, 'rhyme': 6326, 'berg': 654, 'qatsi': 5910, 'sibl': 7117, 'batho': 582, 'paulin': 5433, 'paulett': 5431, 'instant': 3880, 'ami': 240, 'orgasm': 5251, 'porno': 5672, 'behalf': 616, 'gari': 3057, 'beer': 608, 'key': 4160, 'junctur': 4125, 'underton': 8917, 'subtli': 7914, 'slumber': 7326, 'unmolest': 9079, 'aplomb': 321, 'refreshingli': 6084, 'canon': 1054, 'moldi': 4849, 'forest': 2890, 'peac': 5445, 'dr': 2175, 'backyard': 513, 'plastic': 5592, 'armi': 371, 'classifi': 1283, 'novak': 5133, 'lumpen': 4508, 'reliabl': 6134, 'reminisc': 6155, 'luxuri': 4524, 'conceptu': 1442, 'select': 6869, 'clearer': 1293, 'skate': 7209, 'shore': 7065, 'forward': 2915, 'sketchbook': 7215, 'adroit': 103, 'local': 4440, 'tomei': 8481, 'funer': 3012, 'liveli': 4431, 'soror': 7515, 'interact': 3910, 'newcom': 5062, 'donovan': 2140, 'wearer': 9607, 'superman': 7975, 'siuation': 7203, 'advantag': 110, 'trippi': 8643, 'nike': 5087, 'tweedi': 8737, 'repair': 6180, 'yearn': 9932, 'groupi': 3275, 'liven': 4432, 'son': 7492, 'bart': 568, 'paus': 5435, 'showi': 7087, 'offset': 5194, 'dogma': 2128, 'leisur': 4341, 'clanci': 1274, 'intrepid': 3936, 'indiana': 3770, 'solo': 7472, 'eh': 2316, 'walli': 9528, 'wolodarski': 9817, 'boost': 813, 'slapdash': 7254, 'sandrin': 6619, 'madcap': 4535, 'tuneless': 8711, 'apena': 319, 'mai': 4553, 'um': 8781, 'desta': 1911, 'vez': 9391, 'teve': 8290, 'no': 5093, 'insur': 3896, 'glitz': 3135, 'scherfig': 6717, 'thinner': 8334, 'driven': 2209, 'rosenbaum': 6461, 'watson': 9583, 'denzel': 1870, 'washington': 9571, 'unwrap': 9221, 'spacey': 7541, 'sultri': 7944, 'indigest': 3774, 'intellect': 3903, 'flatten': 2823, 'jewish': 4063, 'nazi': 5012, 'repeat': 6184, 'same': 6601, 'deconstruct': 1789, 'submarin': 7895, 'ala': 173, 'yuk': 9956, 'vault': 9325, 'stone': 7796, 'veil': 9336, 'prima': 5764, 'donna': 2139, 'catharsi': 1108, 'secur': 6842, 'plainli': 5587, 'allegori': 196, 'repackag': 6179, 'tourist': 8535, 'scriptwrit': 6803, 'mod': 4837, 'rocker': 6409, 'miscast': 4787, 'ian': 3622, 'dant': 1730, 'lusciou': 4518, 'slipshod': 7294, 'kinki': 4184, 'comeback': 1381, 'melvil': 4700, 'tuna': 8708, 'trend': 8621, 'breast': 876, 'profit': 5803, 'doorstep': 2147, 'ribisi': 6334, 'pump': 5881, 'lick': 4379, 'scent': 6708, 'plucki': 5621, 'spaceship': 7540, 'valid': 9296, 'climat': 1304, 'unwittingli': 9218, 'schepisi': 6716, 'intend': 3906, 'stray': 7819, 'blith': 751, 'tie': 8407, 'candor': 1048, 'wink': 9769, 'gulp': 3301, 'deflat': 1815, 'pufferi': 5872, 'recip': 6041, 'quentin': 5924, 'dampen': 1719, 'townsend': 8541, 'plympton': 5629, 'mindset': 4767, 'wheel': 9671, 'compromis': 1430, 'fog': 2868, 'synch': 8089, 'abandon': 1, 'waltz': 9535, 'disappear': 2002, 'hurri': 3604, 'uncompel': 8847, 'elegiac': 2333, 'ryanovich': 6541, 'automat': 475, 'transplant': 8584, 'bink': 697, 'scrappi': 6785, 'blandli': 728, 'graduat': 3206, 'oleand': 5206, 'iti': 4005, 'snazzi': 7391, 'loui': 4477, 'bowl': 841, 'potboil': 5691, 'ditti': 2104, 'retch': 6266, 'transcend': 8570, 'jokest': 4085, 'weakest': 9599, 'shelv': 7023, 'propel': 5825, 'honesti': 3532, 'soporif': 7507, 'dank': 1728, 'stellar': 7762, 'pivot': 5580, 'gadget': 3030, 'reap': 6029, 'dridi': 2202, 'earnhart': 2274, 'healthi': 3412, 'straightforward': 7809, 'calib': 1017, 'solac': 7456, 'wafer': 9509, 'jacqu': 4016, 'brush': 935, 'vanish': 9307, 'qui': 5927, 'tomb': 8478, 'sur': 7991, 'spike': 7602, 'infrequ': 3829, 'compliment': 1424, 'troll': 8653, 'anderson': 265, 'delic': 1832, 'surgic': 8003, 'danni': 1729, 'resnick': 6228, 'cabin': 1000, 'pound': 5697, 'uniniti': 9038, 'brotherli': 928, 'reconcili': 6051, 'scott': 6775, 'abbott': 3, 'rho': 6325, 'alpha': 211, 'liman': 4403, 'swinger': 8063, 'forth': 2910, 'epoch': 2457, 'throat': 8373, 'firebal': 2789, 'comfi': 1386, 'arrow': 380, 'quiver': 5943, 'slot': 7309, 'bless': 744, 'immens': 3668, 'spencer': 7588, 'traci': 8546, 'absorpt': 23, 'pep': 5474, 'daddi': 1711, 'mass': 4633, 'laundri': 4291, 'interlock': 3916, 'scandinavian': 6683, 'settler': 6941, 'canada': 1041, 'yuppi': 9958, 'sailboat': 6575, 'ganesh': 3046, 'sketchiest': 7217, 'novella': 5136, 'earmark': 2270, 'stevenson': 7772, 'tad': 8110, 'quintet': 5939, 'intertwin': 3927, 'thereof': 8319, 'newton': 5066, 'wahlberg': 9513, 'imax': 3660, 'portabl': 5674, 'demeanor': 1848, 'pipe': 5572, 'rooki': 6449, 'wholesal': 9705, 'kwan': 4223, 'torpor': 8515, 'cultiv': 1676, 'cup': 1682, 'marathon': 4604, 'somnol': 7491, 'splendidli': 7617, 'broadway': 915, 'candl': 1047, 'windup': 9765, 'grip': 3260, 'precious': 5717, 'jelinek': 4047, 'unscath': 9149, 'thirsti': 8338, 'honey': 3534, 'sandwich': 6620, 'germani': 3093, 'eastern': 2281, 'ballot': 533, 'contempl': 1502, 'thu': 8384, 'goodwil': 3178, 'aptli': 343, 'glad': 3117, 'dote': 2152, 'indistinct': 3777, 'irritatingli': 3991, 'revolut': 6308, 'johnson': 4079, 'clinic': 1307, 'uninvolv': 9047, 'prompt': 5819, 'exchang': 2555, 'freedom': 2950, 'studious': 7857, 'thrall': 8356, 'hangov': 3347, 'culo': 1673, 'belo': 632, 'ma': 4528, 'wholli': 9707, 'hire': 3495, 'droll': 2212, 'rah': 5959, 'solv': 7477, 'armenian': 370, 'websit': 9617, 'unpick': 9099, 'vine': 9440, 'bloodwork': 761, 'bruce': 932, 'springsteen': 7651, 'explain': 2590, 'freeway': 2953, 'neat': 5018, 'uniformli': 9028, 'bittersweet': 716, 'conciliatori': 1446, 'synchron': 8090, 'swimmer': 8060, 'wool': 9834, 'wetsuit': 9662, 'countercultur': 1566, 'slowtim': 7317, 'subconsci': 7888, 'voyag': 9496, 'motif': 4908, 'faux': 2702, 'morgan': 4891, 'joseph': 4096, 'rein': 6108, 'conduct': 1454, 'closur': 1321, 'chapter': 1156, 'twentieth': 8741, 'extens': 2607, 'resolv': 6230, 'holli': 3521, 'masala': 4627, 'saldanha': 6585, 'verbal': 9359, 'adher': 86, 'visit': 9464, 'swap': 8039, 'depart': 1871, 'montia': 4874, 'crew': 1625, 'bullwinkl': 959, 'brett': 887, 'leonard': 4349, 'sen': 6884, 'wri': 9889, 'chatti': 1178, 'sushi': 8019, 'connoisseur': 1473, 'altar': 214, 'deafen': 1761, 'more': 4889, 'georgian': 3089, 'tel': 8223, 'rome': 6440, 'banger': 540, 'sister': 7195, 'warpath': 9563, 'balkan': 527, 'file': 2773, 'strung': 7847, 'tucker': 8698, 'brim': 899, 'wartim': 9567, 'speciou': 7571, 'fervent': 2743, 'underli': 8899, 'mytholog': 4972, 'hodgepodg': 3510, 'anachronist': 256, 'gantz': 3049, 'spurt': 7660, 'flotsam': 2853, 'unceas': 8827, 'whistl': 9696, 'ador': 98, 'tap': 8150, 'exposit': 2599, 'sandal': 6612, 'unapologet': 8802, 'howl': 3577, 'thuggeri': 8387, 'schindler': 6720, 'pill': 5561, 'potenc': 5692, 'vet': 9386, 'pet': 5519, 'oft': 5196, 'antidot': 300, 'bundl': 966, 'breakthrough': 874, 'glacial': 3116, 'board': 777, 'uberviol': 8766, 'pin': 5565, 'streak': 7820, 'decor': 1790, 'sympathet': 8085, 'remaind': 6147, 'ignit': 3641, 'kate': 4147, 'sodden': 7443, 'punctuat': 5887, 'violin': 9448, 'unawar': 8812, 'unlisten': 9070, 'gray': 3229, 'whisper': 9695, 'bean': 592, 'woozi': 9837, 'roister': 6425, 'eyebal': 2626, 'lord': 4468, 'vastli': 9322, 'secularist': 6841, 'in': 3714, 'ratio': 5998, 'favour': 2705, 'shorn': 7066, 'pryor': 5854, 'lite': 4422, 'stake': 7701, 'format': 2903, 'susten': 8027, 'irrevoc': 3989, 'haul': 3395, 'raini': 5964, 'spri': 7646, 'ncia': 5014, 'como': 1401, 'superada': 7963, 'sua': 7885, 'ssima': 7679, 'friendli': 2976, 'snowman': 7415, 'ana': 255, 'father': 2697, 'grandfath': 3213, 'behan': 617, 'ribald': 6331, 'luck': 4497, 'slummi': 7328, 'turf': 8719, 'gratuit': 3225, 'doa': 2116, 'jaw': 4036, 'droppingli': 2218, 'ritter': 6386, 'address': 83, 'heritag': 3461, 'her': 3458, 'clutch': 1336, 'uninflect': 9035, 'wordless': 9840, 'groaner': 3266, 'photo': 5538, 'unlimit': 9069, 'intimaci': 3930, 'coda': 1348, 'polici': 5649, 'fluke': 2862, 'oblig': 5154, 'echo': 2287, 'undoubtedli': 8945, 'asia': 397, 'shu': 7106, 'institut': 3886, 'cathart': 1109, 'apparatu': 327, 'brought': 929, 'smirk': 7353, 'afterlif': 137, 'steve': 7770, 'tearjerk': 8199, 'tolstoy': 8474, 'agent': 146, 'therefor': 8318, 'greenlight': 3242, 'wallet': 9526, 'sacr': 6554, 'weepi': 9626, 'barb': 547, 'edgi': 2297, 'bridget': 891, 'stare': 7728, 'sociopathi': 7439, 'unrecover': 9123, 'recov': 6056, 'dement': 1849, 'mythic': 4971, 'behold': 621, 'documentarian': 2122, 'endeavour': 2394, 'laudabl': 4286, 'adrift': 102, 'fellow': 2727, 'unromant': 9140, 'guis': 3298, 'unrequit': 9133, 'drum': 2223, 'facet': 2635, 'crimen': 1630, 'padr': 5341, 'amaro': 224, 'tool': 8495, 'ralli': 5967, 'carmen': 1078, 'properli': 5827, 'gestur': 3094, 'elvi': 2352, 'bedevil': 605, 'scheme': 6715, 'recreat': 6058, 'scuttl': 6812, 'diseas': 2033, 'sear': 6825, 'gosl': 3188, 'russel': 6529, 'boot': 814, 'scooter': 6763, 'tract': 8548, 'lessen': 4352, 'setpiec': 6939, 'kitschi': 4191, 'downplay': 2167, 'baggag': 519, 'triumphantli': 8649, 'seventi': 6946, 'wordi': 9839, 'wisp': 9789, 'avid': 487, 'adag': 77, 'goos': 3181, 'skim': 7224, 'inclus': 3738, 'antonia': 303, 'layer': 4303, 'sweetest': 8050, 'sewag': 6949, 'shovel': 7080, 'simul': 7170, 'court': 1575, 'maneuv': 4587, 'palm': 5356, 'sc': 6675, 'payoff': 5443, 'refresh': 6083, 'brawni': 864, 'argu': 360, 'church': 1248, 'synagogu': 8088, 'templ': 8239, 'canadian': 1042, 'smorgasbord': 7367, 'soliloqui': 7469, 'drew': 2200, 'barrymor': 567, 'ser': 6916, 'se': 6815, 'transforma': 8577, 'comedia': 1384, 'termina': 8270, 'tantamount': 8148, 'pursu': 5902, 'sky': 7241, 'cure': 1684, 'insomnia': 3874, 'vaudevil': 9324, 'partner': 5403, 'sanitis': 6624, 'polanski': 5646, 'pianist': 5544, 'surgeon': 8002, 'meticul': 4731, 'preval': 5753, 'mont': 4871, 'cristo': 1638, 'schaefer': 6711, 'raunch': 6002, 'angl': 273, 'glitter': 3134, 'anni': 283, 'wayn': 9592, 'dodg': 2124, 'humanli': 3588, 'lyric': 4527, 'scrawl': 6788, 'saddam': 6558, 'permiss': 5491, 'lion': 4414, 'redon': 6068, 'stunningli': 7866, 'bryan': 938, 'distil': 2090, 'health': 3411, 'salari': 6584, 'shrek': 7093, 'unoffici': 9092, 'ascend': 394, 'cremast': 1623, 'aftertast': 140, 'profoundli': 5805, 'popul': 5666, 'humil': 3592, 'narciss': 4991, 'caruso': 1088, 'emin': 2367, 'hottest': 3570, 'outdat': 5270, 'blaxploit': 736, 'shuck': 7107, 'jive': 4071, 'greengrass': 3241, 'smallest': 7337, 'afterward': 142, 'tightrop': 8417, 'mehta': 4688, 'characterist': 1160, 'neutral': 5057, 'uphil': 9233, 'fork': 2900, 'rediscov': 6066, 'demeo': 1850, 'dash': 1740, 'ernest': 2469, 'tron': 8655, 'vast': 9321, 'filmgoer': 2777, 'vie': 9417, 'maelstrom': 4541, 'shunji': 7111, 'iwai': 4008, 'eeri': 2302, 'goldbach': 3162, 'eleg': 2331, 'seduct': 6846, 'laurenc': 4294, 'pawn': 5437, 'hypertim': 3616, 'whoop': 9710, 'shankman': 6990, 'karen': 4145, 'bald': 524, 'carv': 1089, 'uncool': 8863, 'entr': 2441, 'flavorless': 2828, 'grandeur': 3212, 'puriti': 5897, 'user': 9265, 'do': 2115, 'megaplex': 4687, 'mira': 4777, 'sorvino': 7522, 'neo': 5042, 'sontag': 7498, 'uma': 8782, 'timo': 8430, 'diretor': 1993, 'acaba': 33, 'sendo': 6888, 'roteiro': 6470, 'tempo': 8241, 'para': 5374, 'trama': 8565, 'perd': 5481, 'partir': 5400, 'koepp': 4207, 'lush': 4519, 'elus': 2351, 'shekhar': 7019, 'schiffer': 6719, 'barrier': 566, 'reinforc': 6111, 'clooney': 1316, 'miik': 4752, 'flight': 2842, 'longtim': 4459, 'invinc': 3957, 'lazili': 4307, 'charl': 1166, 'iii': 3645, 'novelist': 5135, 'thulani': 8388, 'scrutini': 6808, 'bona': 803, 'fide': 2757, 'etern': 2502, 'contact': 1498, 'ici': 3625, 'ivan': 4006, 'xtc': 9911, 'cadenc': 1006, 'consumm': 1497, 'masquerad': 4632, 'staggeringli': 7692, 'regular': 6102, 'sterl': 7768, 'shepard': 7026, 'evalu': 2513, 'rover': 6486, 'shave': 7007, 'presum': 5744, 'messeng': 4725, 'asset': 415, 'kahlo': 4138, 'treacl': 8605, 'resourc': 6235, 'bourn': 837, 'retriev': 6280, 'odyssey': 5185, 'trump': 8678, 'tide': 8405, 'stitch': 7789, 'stagecraft': 7689, 'intim': 3929, 'linger': 4411, 'unspool': 9168, 'highbrow': 3479, 'custom': 1698, 'grader': 3204, 'veggi': 9332, 'threshold': 8365, 'manifest': 4595, 'holi': 3518, 'gianni': 3101, 'versac': 9375, 'jeong': 4050, 'hyang': 3611, 'biblic': 679, 'unsalvag': 9144, 'steami': 7758, 'pork': 5670, 'firework': 2790, 'glamor': 3118, 'strenuous': 7826, 'cinderella': 1251, 'bird': 703, 'newfoundland': 5064, 'soil': 7454, 'nativ': 5003, 'born': 820, 'lisa': 4417, 'rinzler': 6372, 'inhal': 3839, 'transfigur': 8574, 'unchang': 8830, 'august': 457, 'copycat': 1541, 'downtown': 2170, 'poet': 5633, 'flamboy': 2813, 'resoundingli': 6234, 'curmudgeon': 1690, 'fax': 2707, 'secretari': 6837, 'renew': 6168, 'yosuk': 9949, 'saeko': 6566, 'classi': 1281, 'soire': 7455, 'heap': 3413, 'spiffi': 7601, 'weaponri': 9605, 'freaki': 2945, 'pastri': 5415, 'unmention': 9077, 'caesar': 1007, 'sportsmanship': 7633, 'gondri': 3169, 'restat': 6244, 'horizon': 3548, 'strive': 7838, 'encompass': 2386, 'waver': 9588, 'gamesmanship': 3044, 'ensur': 2428, 'atop': 437, 'amor': 249, 'rey': 6318, 'iq': 3963, 'driver': 2210, 'unprovok': 9113, 'illumin': 3652, 'spars': 7559, 'lilo': 4402, 'tarzan': 8167, 'teenybopp': 8220, 'satisfactorili': 6649, 'cohes': 1354, 'belgian': 624, 'waffl': 9510, 'regardless': 6093, 'kissing': 4188, 'slipperi': 7293, 'burk': 975, 'horn': 3550, 'teleprompt': 8231, 'holofcen': 3526, 'simplemind': 7162, 'taiwanes': 8117, 'trio': 8639, 'schnieder': 6732, 'wrist': 9892, 'tight': 8413, 'tummi': 8705, 'twirl': 8749, 'simplic': 7166, 'exclam': 2557, 'skunk': 7240, 'teeni': 8219, 'helm': 3451, 'unflatt': 8993, 'twinki': 8746, 'nourish': 5131, 'wimp': 9754, 'evangel': 2515, 'cheeri': 1189, 'barf': 556, 'recal': 6036, 'nickelodeon': 5076, 'panach': 5361, 'sommer': 7489, 'vote': 9492, 'introduct': 3942, 'tome': 8480, 'craig': 1591, 'infinit': 3819, 'zeu': 9979, 'applaud': 334, 'tireless': 8443, 'reiner': 6110, 'shapabl': 6991, 'pardon': 5384, 'goth': 3191, 'ton': 8485, 'puberti': 5863, 'antic': 298, 'vignett': 9426, 'zani': 9962, 'crassli': 1601, 'tougher': 8531, 'wanker': 9540, 'unambiti': 8799, 'jostl': 4097, 'incorpor': 3754, 'rotoscop': 6472, 'luridli': 4516, 'softli': 7451, 'expert': 2587, 'fighter': 2770, 'directli': 1990, 'modesti': 4844, 'tutori': 8731, 'nimbl': 5088, 'salma': 6591, 'versi': 9377, 'senegales': 6889, 'gai': 3034, 'ken': 4155, 'shootout': 7062, 'boundless': 833, 'viabil': 9395, 'incis': 3734, 'monsoon': 4866, 'whet': 9679, 'bollywood': 797, 'crane': 1594, 'adept': 84, 'uncommit': 8845, 'ruse': 6526, 'silberstein': 7146, 'satisfactori': 6648, 'luster': 4521, 'hanki': 3349, 'parochi': 5390, 'standoffish': 7718, 'videotap': 9415, 'indecipher': 3762, 'shakespearean': 6976, 'breadth': 871, 'ivori': 4007, 'systemat': 8099, 'begun': 615, 'wanna': 9542, 'enigmat': 2415, 'slop': 7305, 'modestli': 4845, 'neck': 5025, 'satin': 6644, 'roug': 6474, 'quaint': 5912, 'navig': 5011, 'pompos': 5655, 'chew': 1202, 'schnitzler': 6733, 'salvo': 6598, 'nicholson': 5074, 'kathi': 4148, 'bate': 580, 'liotta': 4415, 'undo': 8940, 'souvlaki': 7537, 'thoroughfar': 8348, 'kang': 4142, 'vari': 9313, 'bark': 558, 'rollick': 6433, 'brazil': 868, 'appoint': 336, 'enthusiasm': 2436, 'deviant': 1930, 'latent': 4277, 'jokey': 4086, 'unforgett': 9000, 'bracingli': 846, 'goodli': 3177, 'schoolboy': 6736, 'memoir': 4703, 'backstag': 510, 'ancient': 264, 'chateau': 1176, 'assaya': 411, 'prophet': 5830, 'uselessli': 9264, 'tremor': 8619, 'starship': 7732, 'uncoordin': 8865, 'vector': 9328, 'precis': 5719, 'arthur': 384, 'dong': 2138, 'septuagenarian': 6911, 'auditorium': 454, 'tint': 8439, 'carrey': 1084, 'creek': 1619, 'sexism': 6953, 'shirt': 7047, 'profil': 5802, 'warfar': 9549, 'owen': 5331, 'partnership': 5404, 'retail': 6260, 'fishi': 2796, 'grownup': 3278, 'biograph': 700, 'throe': 8375, 'testosteron': 8286, 'tsai': 8688, 'richer': 6341, 'warmth': 9559, 'venal': 9342, 'juic': 4114, 'lynch': 4525, 'trier': 8633, 'underdramat': 8891, 'transcript': 8571, 'humdrum': 3590, 'freudian': 2968, 'tomfooleri': 8482, 'annal': 282, 'immort': 3674, 'lightweight': 4394, 'devote': 1943, 'law': 4297, 'speed': 7581, 'overexpos': 5297, 'wax': 9589, 'templat': 8240, 'slough': 7311, 'fanboy': 2669, 'hellish': 3449, 'heyday': 3471, 'per': 5477, 'zinger': 9987, 'jordan': 4094, 'slather': 7259, 'denouement': 1865, 'nadia': 4975, 'whoosh': 9712, 'walt': 9533, 'argentin': 358, 'pungent': 5888, 'rejigg': 6116, 'hammi': 3335, 'rea': 6012, 'smaller': 7336, 'vivi': 9475, 'schwentk': 6749, 'warden': 9548, 'miracl': 4778, 'flip': 2846, 'showboat': 7082, 'cracker': 1586, 'tweak': 8736, 'notch': 5123, 'barrag': 563, 'weirdo': 9638, 'acid': 59, 'swoon': 8069, 'constrict': 1494, 'tighter': 8415, 'firmer': 2791, 'biographi': 701, 'psychopath': 5862, 'distant': 2088, 'taglin': 8113, 'princess': 5772, 'bud': 943, 'superhuman': 7971, 'withstand': 9799, 'spine': 7606, 'skateboard': 7210, 'rosemari': 6460, 'siegel': 7134, 'woodard': 9829, 'zip': 9988, 'hem': 3455, 'smeari': 7347, 'tardier': 8160, 'novelti': 5137, 'webcast': 9615, 'roy': 6490, 'sexploit': 6956, 'govern': 3195, 'mel': 4690, 'brook': 922, 'tock': 8459, 'yell': 9933, 'frisson': 2984, 'rain': 5962, 'superficial': 7968, 'tartakovski': 8165, 'aplenti': 320, 'boho': 789, 'remov': 6161, 'burnt': 978, 'sall': 6589, 'propos': 5833, 'girlfriend': 3113, 'arrang': 376, 'sensuou': 6901, 'martha': 4621, 'stewart': 7774, 'norwegian': 5117, 'therapeut': 8315, 'bray': 865, 'architect': 351, 'calibr': 1018, 'telenovela': 8229, 'lear': 4317, 'shorti': 7073, 'adobo': 95, 'ditsi': 2103, 'dough': 2158, 'overtli': 5320, 'olivi': 5209, 'tartli': 8166, 'chocol': 1226, 'twinkli': 8748, 'entiti': 2440, 'somnambul': 7490, 'oeuvr': 5187, 'keen': 4152, 'mutil': 4962, 'sideshow': 7127, 'geek': 3071, 'miami': 4739, 'asylum': 431, 'unequivoc': 8966, 'glee': 3124, 'thandi': 8298, 'galor': 3041, 'glimmer': 3129, 'bio': 699, 'doc': 2117, 'secondhand': 6835, 'chouraqui': 1239, 'dissect': 2080, 'warrior': 9565, 'switchblad': 8067, 'sexpot': 6957, 'outstand': 5283, 'stagger': 7691, 'braini': 850, 'voc': 9479, 'sinta': 7188, 'sair': 6580, 'sala': 6582, 'ant': 292, 'rmino': 6393, 'pena': 5464, 'simbolizando': 7155, 'chalk': 1144, 'rosenth': 6462, 'reproduc': 6202, 'sarah': 6631, 'philadelphia': 5529, 'kane': 4141, 'sidey': 7132, 'inc': 3727, 'multiplex': 4940, 'gradual': 3205, 'shoplift': 7064, 'crib': 1627, 'trod': 8652, 'flavor': 2827, 'charad': 1161, 'spif': 7600, 'preserv': 5740, 'worldli': 9853, 'supermarket': 7976, 'unlaugh': 9063, 'scoop': 6761, 'franc': 2929, 'shapiro': 6995, 'shakesperean': 6977, 'silberl': 7145, 'restraint': 6248, 'unbalanc': 8813, 'interlud': 3917, 'rhino': 6324, 'unit': 9050, 'vacuou': 9280, 'embodi': 2362, 'zeitgeist': 9971, 'sniffl': 7400, 'unconvent': 8860, 'avant': 479, 'gard': 3055, 'vaunt': 9326, 'weil': 9632, 'unabashedli': 8787, 'kahn': 4139, 'snoot': 7408, 'standbi': 7717, 'ardent': 354, 'wean': 9603, 'shlockmeist': 7050, 'nuanc': 5141, 'jia': 4066, 'pedest': 5450, 'higher': 3480, 'gayton': 3067, 'nationwid': 5002, 'correctli': 1553, 'souffl': 7523, 'er': 2465, 'volcano': 9485, 'overflow': 5298, 'septic': 6910, 'tyco': 8756, 'soupi': 7531, 'knockout': 4202, 'forum': 2914, 'specul': 7579, 'trombon': 8654, 'romanek': 6437, 'savvi': 6669, 'carol': 1081, 'sausag': 6659, 'ego': 2311, 'unholi': 9024, 'method': 4730, 'assumpt': 420, 'marina': 4611, 'teendom': 8218, 'slant': 7252, 'colin': 1359, 'ether': 2504, 'internet': 3922, 'otherworldli': 5263, 'shocker': 7053, 'everyman': 2529, 'unshap': 9160, 'briefli': 893, 'enliven': 2418, 'stamina': 7709, 'ransack': 5981, 'entertainingli': 2433, 'fresher': 2963, 'accid': 39, 'schizo': 6721, 'conundrum': 1522, 'underventil': 8919, 'fil': 2772, 'dwell': 2257, 'tranc': 8568, 'formal': 2902, 'yung': 9957, 'nonconformist': 5104, 'glumli': 3150, 'idol': 3638, 'discours': 2025, 'masoch': 4630, 'articul': 386, 'bmx': 776, 'rider': 6350, 'turk': 8721, 'gibson': 3105, 'pearl': 5447, 'lillard': 4401, 'snack': 7378, 'grandiloqu': 3214, 'dv': 2254, 'artistri': 391, 'bluster': 774, 'juxtaposit': 4136, 'screwbal': 6797, 'bravo': 861, 'charit': 1165, 'ballet': 531, 'thread': 8358, 'bettani': 667, 'handi': 3340, 'centr': 1129, 'actorli': 70, 'sleaz': 7265, 'lavish': 4295, 'shum': 7109, 'uhf': 8773, 'simmer': 7158, 'phifer': 5528, 'letterman': 4360, 'proven': 5845, 'preteen': 5746, 'loquaci': 4467, 'mileston': 4757, 'heal': 3410, 'welt': 9646, 'johnni': 4078, 'cruditi': 1650, 'tea': 8192, 'shear': 7011, 'mormon': 4892, 'ward': 9547, 'incid': 3733, 'scoob': 6759, 'shag': 6969, 'skit': 7233, 'deposit': 1877, 'wai': 9514, 'crossov': 1645, 'telanovela': 8225, 'sale': 6586, 'smartest': 7341, 'optimist': 5239, 'presid': 5741, 'scholar': 6734, 'bogdanovich': 786, 'publish': 5867, 'shawn': 7009, 'volum': 9487, 'primari': 5766, 'sprung': 7654, 'wollter': 9816, 'seldhal': 6867, 'deepest': 1799, 'calvin': 1026, 'beacon': 591, 'undergrad': 8894, 'romero': 6442, 'completist': 1421, 'yo': 9944, 'boogaloo': 808, 'slovenli': 7312, 'leash': 4319, 'cannon': 1052, 'kitten': 4192, 'princ': 5771, 'relish': 6141, 'yuen': 9955, 'retitl': 6272, 'sweat': 8044, 'shell': 7021, 'seiz': 6863, 'tic': 8399, 'workplac': 9850, 'cari': 1074, 'fragmentari': 2925, 'lola': 4450, 'unconcern': 8853, 'tennesse': 8256, 'oprah': 5236, 'sumptuou': 7948, 'stultifi': 7861, 'tryingli': 8687, 'snl': 7402, 'poca': 5630, 'tono': 8492, 'sensaci': 6893, 'hace': 3318, 'pensar': 5472, 'si': 7114, 'vale': 9290, 'taquilla': 8153, 'statham': 7744, 'unhidden': 9022, 'digg': 1969, 'expedi': 2580, 'shearer': 7012, 'wittgenstein': 9801, 'remad': 6145, 'sillier': 7150, 'voyeur': 9497, 'subcultur': 7889, 'singularli': 7182, 'barlow': 559, 'predispos': 5725, 'undramat': 8946, 'teddi': 8211, 'picnic': 5552, 'esteem': 2496, 'biz': 717, 'uninvent': 9046, 'exalt': 2544, 'ut': 9269, 'unstopp': 9173, 'underutil': 8918, 'jimmi': 4069, 'monologu': 4863, 'meati': 4677, 'freeli': 2951, 'slummer': 7327, 'snobberi': 7404, 'suffus': 7933, 'libertin': 4374, 'durat': 2248, 'schedul': 6713, 'underrehears': 8909, 'narcissist': 4992, 'reportedli': 6193, 'rewritten': 6317, 'rocawear': 6407, 'lolita': 4451, 'fluid': 2861, 'weiss': 9639, 'speck': 7572, 'fourth': 2922, 'unseen': 9154, 'tornator': 8511, 'pint': 5571, 'scooper': 6762, 'terrifi': 8276, 'scotch': 6773, 'bile': 693, 'stud': 7853, 'allegi': 195, 'elizabethan': 2342, 'rubbo': 6495, 'amic': 242, 'radio': 5955, 'scarf': 6690, 'ritual': 6387, 'balm': 534, 'signpost': 7144, 'juliett': 4121, 'lewi': 4365, 'wig': 9732, 'uncanni': 8825, 'facad': 2633, 'piccoli': 5547, 'spiral': 7608, 'downward': 2172, 'nicola': 5080, 'ryder': 6542, 'stardom': 7727, 'trey': 8623, 'elfried': 2337, 'unmotiv': 9080, 'under': 8879, 'gather': 3061, 'whop': 9713, 'abroad': 16, 'exterior': 2609, 'unschool': 9150, 'maximum': 4654, 'schticki': 6742, 'truest': 8674, 'transmogrif': 8581, 'austen': 462, 'pauli': 5432, 'rocket': 6410, 'scientist': 6753, 'cam': 1027, 'hotter': 3569, 'sedat': 6843, 'yank': 9920, 'refin': 6080, 'ballerina': 530, 'sendak': 6887, 'sturm': 7876, 'und': 8870, 'unsatisfactorili': 9146, 'zoom': 9997, 'lucid': 4496, 'robinson': 6404, 'storm': 7803, 'fring': 2983, 'theorist': 8313, 'tyson': 8764, 'hanussen': 3353, 'retrograd': 6282, 'splendid': 7616, 'shut': 7112, 'hug': 3582, 'mana': 4585, 'schemat': 6714, 'naqoyqatsi': 4989, 'tit': 8448, 'marshal': 4619, 'zest': 9978, 'bonu': 806, 'viva': 9472, 'bromid': 920, 'slogan': 7300, 'thumpingli': 8391, 'gleefulli': 3125, 'hyperbol': 3615, 'spald': 7547, 'slc': 7264, 'kitsch': 4190, 'specimen': 7570, 'wizardri': 9806, 'golden': 3163, 'eagl': 2266, 'jule': 4116, 'vern': 9372, 'opul': 5241, 'eas': 2276, 'painless': 5347, 'wazoo': 9594, 'judg': 4110, 'soberli': 7429, 'romeo': 6441, 'juliet': 4120, 'invulner': 3962, 'dabbl': 1709, 'chief': 1207, 'dreami': 2193, 'temperament': 8237, 'repriev': 6199, 'bush': 982, 'henri': 3457, 'larri': 4271, 'verdad': 9361, 'tan': 8138, 'tien': 8409, 'sabe': 6549, 'hanna': 3350, 'barbera': 551, 'preordain': 5733, 'muck': 4929, 'inclin': 3736, 'mon': 4857, 'alli': 199, 'starri': 7731, 'ennui': 2419, 'vivaci': 9473, 'parrot': 5392, 'musician': 4955, 'outshin': 5281, 'excurs': 2561, 'unassum': 8807, 'recept': 6039, 'schmidt': 6728, 'payn': 5442, 'unpaid': 9096, 'univac': 9052, 'boldli': 794, 'stroke': 7839, 'colour': 1371, 'uni': 9026, 'vicent': 9403, 'creaki': 1609, 'empow': 2378, 'afterthought': 141, 'whiffl': 9682, 'pleaser': 5607, 'smackdown': 7334, 'repetiti': 6189, 'survivor': 8016, 'simper': 7160, 'jeffrey': 4046, 'undergo': 8893, 'sha': 6960, 'upsid': 9249, 'weekend': 9624, 'upload': 9238, 'brogu': 917, 'spat': 7561, 'tinseltown': 8438, 'extraordinarili': 2615, 'tinni': 8436, 'righteous': 6362, 'auschwitz': 460, 'revision': 6300, 'nonstop': 5110, 'tag': 8112, 'waif': 9515, 'advertis': 114, 'guitar': 3299, 'yahoo': 9915, 'unexcept': 8974, 'smoker': 7357, 'mumbo': 4941, 'jumbo': 4123, 'destini': 1913, 'repar': 6181, 'ell': 2343, 'peek': 5454, 'wisegirl': 9783, 'jazzi': 4039, 'callar': 1021, 'dude': 2232, 'uh': 8772, 'errol': 2476, 'morri': 4897, 'scrapbook': 6783, 'oddbal': 5179, 'sooooo': 7501, 'scrape': 6784, 'thou': 8350, 'signal': 7139, 'russian': 6531, 'phenomen': 5526, 'swiftli': 8056, 'elud': 2350, 'affin': 123, 'suitabl': 7941, 'bank': 542, 'softhead': 7450, 'claptrap': 1275, 'trudg': 8672, 'rode': 6416, 'zipper': 9989, 'schmuck': 6729, 'spader': 7544, 'maggi': 4544, 'gyllenha': 3315, 'babysitt': 502, 'orchestr': 5246, 'sepia': 6907, 'schtick': 6741, 'undemand': 8876, 'daili': 1714, 'telemarket': 8228, 'valentin': 9293, 'sway': 8042, 'characteris': 1159, 'venezuelan': 9345, 'muy': 4963, 'truckzilla': 8671, 'item': 4004, 'sling': 7290, 'abid': 8, 'conceal': 1435, 'molli': 4851, 'puff': 5871, 'pressur': 5743, 'cooker': 1533, 'fabul': 2632, 'agil': 151, 'rodan': 6415, 'uncertainti': 8829, 'principl': 5774, 'roller': 6429, 'coaster': 1341, 'waster': 9575, 'raymond': 6009, 'placid': 5584, 'abound': 14, 'accolad': 42, 'accommod': 43, 'accomod': 44, 'acumen': 74, 'adjust': 88, 'adroitli': 104, 'adul': 105, 'advoc': 117, 'affluenc': 127, 'agreeabl': 156, 'altruist': 220, 'amen': 236, 'ampl': 252, 'amusingli': 254, 'approv': 341, 'ardor': 355, 'astoundingli': 426, 'attun': 448, 'audibl': 452, 'auspici': 461, 'avail': 477, 'backbon': 506, 'beckon': 602, 'benefici': 643, 'benevol': 645, 'bounti': 834, 'brave': 859, 'breathtak': 879, 'breathtakingli': 880, 'breez': 884, 'buoyant': 969, 'calm': 1023, 'cashback': 1093, 'catchi': 1105, 'charmingli': 1171, 'cleanli': 1291, 'compact': 1402, 'compassion': 1408, 'compat': 1409, 'complement': 1419, 'coven': 1577, 'cozi': 1583, 'crisper': 1637, 'daringli': 1732, 'darl': 1738, 'defend': 1804, 'defer': 1806, 'deft': 1817, 'delect': 1828, 'delicaci': 1833, 'dexter': 1944, 'dilig': 1975, 'diplomat': 1987, 'doubtless': 2155, 'dummi': 2242, 'eagerli': 2265, 'easygo': 2283, 'ecstasi': 2292, 'ecstat': 2293, 'edifi': 2298, 'effortless': 2307, 'effus': 2309, 'elat': 2326, 'elit': 2340, 'empath': 2369, 'energ': 2400, 'enraptur': 2423, 'enrich': 2424, 'enthus': 2435, 'enviabl': 2447, 'euphoria': 2509, 'euphor': 2508, 'exce': 2549, 'exhilaratingli': 2570, 'extol': 2611, 'exuber': 2621, 'exuberantli': 2622, 'exult': 2624, 'eyecatch': 2627, 'fastest': 2690, 'fearlessli': 2711, 'feasibl': 2712, 'feisti': 2724, 'felicit': 2725, 'fervid': 2744, 'fidel': 2758, 'fieri': 2765, 'flawless': 2831, 'flexibl': 2838, 'flutter': 2864, 'foremost': 2889, 'formid': 2905, 'fortuit': 2912, 'frolic': 2986, 'gaieti': 3035, 'generos': 3077, 'glisten': 3132, 'gloriou': 3142, 'glorious': 3143, 'glow': 3147, 'graciou': 3201, 'gracious': 3202, 'gratifi': 3222, 'gratitud': 3224, 'guidanc': 3293, 'guiltless': 3297, 'gush': 3307, 'gusto': 3309, 'gutsi': 3312, 'handili': 3342, 'harmoni': 3376, 'hearten': 3422, 'heartwarm': 3427, 'hotcak': 3564, 'imparti': 3678, 'inestim': 3799, 'infal': 3808, 'influenti': 3826, 'ingeni': 3834, 'instruct': 3887, 'intriguingli': 3939, 'intuit': 3945, 'invalu': 3950, 'invigor': 3956, 'inviol': 3958, 'irresist': 3985, 'joyou': 4104, 'jubil': 4107, 'judici': 4112, 'keenli': 4153, 'kindli': 4179, 'kudo': 4217, 'laud': 4285, 'led': 4327, 'liberti': 4373, 'lovabl': 4479, 'lucr': 4500, 'lumin': 4506, 'lustrou': 4522, 'magnanim': 4547, 'majest': 4560, 'majesti': 4561, 'merrili': 4720, 'merri': 4719, 'miracul': 4779, 'neatli': 5019, 'openli': 5226, 'outdo': 5271, 'outperform': 5276, 'overtak': 5318, 'overtur': 5321, 'pamper': 5359, 'patriot': 5427, 'persever': 5499, 'pinnacl': 5568, 'pleasingli': 5608, 'premier': 5731, 'priceless': 5760, 'privileg': 5780, 'solver': 7478, 'prodigi': 5794, 'profus': 5808, 'propiti': 5831, 'prosper': 5837, 'prudent': 5852, 'quieter': 5934, 'rapid': 5985, 'rapport': 5988, 'rapt': 5989, 'raptur': 5990, 'razor': 6010, 'readili': 6019, 'reaffirm': 6020, 'reclaim': 6044, 'reconcil': 6050, 'recoveri': 6057, 'rectifi': 6060, 'reform': 6082, 'refund': 6086, 'regal': 6090, 'rejoic': 6117, 'rejoicingli': 6118, 'rejuven': 6119, 'relax': 6125, 'relent': 6129, 'relief': 6137, 'remedi': 6151, 'remiss': 6156, 'remuner': 6162, 'renaiss': 6163, 'resili': 6226, 'resound': 6233, 'respit': 6237, 'resplend': 6238, 'restructur': 6251, 'revolutionari': 6310, 'revolution': 6309, 'rewardingli': 6314, 'richli': 6343, 'righten': 6360, 'rightli': 6363, 'robust': 6406, 'rockstar': 6412, 'roomier': 6452, 'roomi': 6451, 'rosi': 6463, 'sagac': 6570, 'sage': 6571, 'saint': 6577, 'salutari': 6595, 'satisifi': 6652, 'saver': 6663, 'savior': 6664, 'seamless': 6822, 'seren': 6919, 'sharpest': 7002, 'shimmeringli': 7034, 'simplest': 7164, 'slammin': 7250, 'smartli': 7343, 'smilingli': 7352, 'smitten': 7355, 'smoothest': 7365, 'sociabl': 7432, 'softer': 7448, 'solicit': 7464, 'solidar': 7467, 'soothingli': 7503, 'soundli': 7528, 'spaciou': 7542, 'speedili': 7583, 'spellbind': 7585, 'spellbindingli': 7586, 'spellbound': 7587, 'sporti': 7632, 'spotless': 7635, 'sprightli': 7647, 'stabl': 7684, 'stainless': 7698, 'standout': 7719, 'statuesqu': 7749, 'staunch': 7751, 'steadfastli': 7754, 'steadi': 7755, 'stimul': 7784, 'streamlin': 7822, 'strikingli': 7834, 'strongest': 7842, 'stupend': 7869, 'sturdi': 7875, 'stylishli': 7880, 'suav': 7886, 'sublim': 7894, 'substant': 7905, 'sumptuous': 7949, 'superbl': 7965, 'suppl': 7981, 'supremaci': 7988, 'supurb': 7989, 'supurbl': 7990, 'surmount': 8004, 'surpass': 8005, 'swankier': 8036, 'swankiest': 8037, 'swanki': 8035, 'sweeten': 8049, 'sweetli': 8052, 'swift': 8055, 'tantal': 8146, 'tantalizingli': 8147, 'temptingli': 8245, 'tenaci': 8248, 'tenac': 8247, 'tenderli': 8253, 'thrifti': 8368, 'thrillingli': 8371, 'thrive': 8372, 'tidi': 8406, 'titillatingli': 8451, 'toughest': 8532, 'traction': 8549, 'tranquil': 8569, 'trendi': 8622, 'triumphal': 8647, 'trophi': 8658, 'trumpet': 8679, 'trustingli': 8684, 'trustworthi': 8685, 'trusti': 8683, 'unabash': 8786, 'unaffect': 8796, 'unassail': 8806, 'unbeat': 8815, 'unbias': 8817, 'unbound': 8820, 'uncompl': 8849, 'uncondit': 8854, 'undamag': 8871, 'undaunt': 8872, 'unencumb': 8960, 'unfaz': 8985, 'unfett': 8987, 'unmatch': 9074, 'unquestion': 9115, 'unrestrict': 9137, 'unriv': 9139, 'unselfish': 9156, 'unwav': 9210, 'upgrad': 9230, 'upheld': 9232, 'uphold': 9234, 'upliftingli': 9237, 'usabl': 9259, 'useabl': 9262, 'valiant': 9294, 'valor': 9299, 'vener': 9344, 'verifi': 9368, 'verit': 9371, 'versatil': 9376, 'vibrantli': 9399, 'victori': 9408, 'vigil': 9425, 'virtuou': 9456, 'virtuous': 9457, 'visionari': 9463, 'vouch': 9493, 'vouchsaf': 9494, 'warmer': 9555, 'warmheart': 9557, 'warmli': 9558, 'wealthi': 9602, 'wisher': 9787, 'wellb': 9644, 'whoa': 9701, 'wholeheartedli': 9704, 'whooa': 9708, 'whoooa': 9709, 'wieldi': 9728, 'willingli': 9749, 'windfal': 9761, 'winnabl': 9770, 'wondrou': 9823, 'workabl': 9844, 'yay': 9928, 'zenith': 9976, 'tolkien': 8472, 'spiderman': 7597, 'idealist': 3630, 'shook': 7060, 'worldview': 9854, 'cantet': 1055, 'highway': 3484, 'roadsid': 6397, 'fulford': 3003, 'wierzbicki': 9729, 'sulki': 7943, 'laissez': 4245, 'passer': 5409, 'outlandish': 5274, 'fuller': 3005, 'retadora': 6259, 'uno': 9089, 'motown': 4913, 'karmen': 4146, 'wipe': 9776, 'dwarf': 2256, 'creatur': 1615, 'acknowledg': 60, 'overview': 5323, 'likeabl': 4397, 'siberian': 7116, 'huski': 3608, 'sheep': 7015, 'slew': 7278, 'werner': 9654, 'morton': 4902, 'bride': 889, 'buildup': 952, 'clarifi': 1277, 'maverick': 4651, 'shade': 6963, 'treebeard': 8614, 'gollum': 3168, 'memento': 4702, 'turner': 8726, 'rivet': 6391, 'rural': 6525, 'escort': 2485, 'doug': 2157, 'wintri': 9775, 'spycraft': 7662, 'intact': 3899, 'katz': 4150, 'anthropolog': 296, 'mcfarlan': 4663, 'vertigin': 9381, 'korean': 4211, 'veroniqu': 9373, 'sl': 7243, 'ribbon': 6332, 'redneck': 6067, 'andrew': 268, 'syncop': 8091, 'scope': 6764, 'unpretenti': 9108, 'afghan': 131, 'refuge': 6085, 'thunder': 8392, 'finess': 2784, 'chord': 1233, 'brace': 845, 'gourmet': 3194, 'thru': 8382, 'goggl': 3160, 'ark': 367, 'schweiger': 6748, 'sizzl': 7208, 'infecti': 3814, 'potent': 5693, 'gorefest': 3183, 'quill': 5936, 'hardwar': 3370, 'speech': 7580, 'tim': 8420, 'conan': 1434, 'patric': 5426, 'twin': 8745, 'skinner': 7227, 'seaworthi': 6832, 'sock': 7440, 'tour': 8533, 'tribul': 8627, 'seasid': 6827, 'willam': 9745, 'spare': 7555, 'miyazaki': 4830, 'glu': 3148, 'polson': 5653, 'headlin': 3409, 'justin': 4132, 'ting': 8431, 'ming': 4769, 'liang': 4370, 'grown': 3277, 'americana': 239, 'uncommerci': 8844, 'hayn': 3402, 'persnicketi': 5501, 'nonthreaten': 5111, 'singular': 7181, 'frailti': 2926, 'magnifi': 4549, 'unflinch': 8994, 'testud': 8287, 'parmenti': 5389, 'superl': 7973, 'motherhood': 4906, 'arous': 375, 'greatli': 3236, 'millennium': 4762, 'hermet': 3462, 'shapelessli': 6994, 'zhao': 9981, 'jie': 4067, 'deadpan': 1759, 'ideolog': 3633, 'unload': 9071, 'testifi': 8283, 'vardalo': 9312, 'theocraci': 8310, 'rapidli': 5986, 'agenda': 145, 'specialti': 7568, 'epilogu': 2454, 'soviet': 7538, 'russia': 6530, 'princip': 5773, 'bishop': 707, 'bawdi': 588, 'kinnear': 4185, 'ratliff': 5999, 'transferr': 8573, 'mamet': 4583, 'darn': 1739, 'creami': 1610, 'alia': 188, 'anna': 281, 'campaign': 1035, 'wallpap': 9531, 'glint': 3131, 'andersson': 266, 'magimel': 4546, 'denni': 1864, 'quaid': 5911, 'valedictori': 9291, 'shard': 6996, 'boundari': 832, 'saucer': 6656, 'empathet': 2370, 'bennett': 649, 'descent': 1892, 'wordplay': 9841, 'weber': 9616, 'weissman': 9640, 'cockett': 1344, 'indomit': 3780, 'rebel': 6032, 'yeah': 9930, 'oodl': 5220, 'arithmet': 366, 'transit': 8579, 'turpin': 8729, 'rhythmic': 6328, 'tosca': 8520, 'meld': 4694, 'heartbeat': 3419, 'seldahl': 6866, 'euro': 2510, 'rockwel': 6414, 'metropoli': 4732, 'closest': 1319, 'growth': 3279, 'bubba': 940, 'tep': 8264, 'campbel': 1037, 'bathroom': 583, 'everyday': 2528, 'myriad': 4966, 'nostalg': 5119, 'bind': 696, 'sleev': 7275, 'mexico': 4735, 'unforc': 8998, 'bellini': 631, 'sardin': 6636, 'vietnames': 9419, 'reloc': 6142, 'taker': 8122, 'rend': 6164, 'utah': 9270, 'declar': 1787, 'sunday': 7953, 'narcot': 4993, 'biennial': 685, 'util': 9271, 'vividli': 9477, 'squalor': 7666, 'cuddli': 1667, 'constraint': 1493, 'korea': 4210, 'timefram': 8422, 'maguir': 4552, 'spun': 7655, 'unknow': 9060, 'intermingl': 3919, 'commerc': 1393, 'mull': 4936, 'libido': 4375, 'guard': 3287, 'unobtrus': 9091, 'pacino': 5337, 'satur': 6653, 'unelect': 8955, 'whiplash': 9690, 'curdl': 1683, 'danang': 1722, 'unment': 9076, 'undoubt': 8944, 'sparklingli': 7558, 'majidi': 4562, 'draggi': 2179, 'neighborhood': 5037, 'sinner': 7187, 'symmetr': 8082, 'hayek': 3401, 'democraci': 1853, 'shi': 7028, 'griffin': 3251, 'burstein': 981, 'nanci': 4986, 'mcgrath': 4664, 'zig': 9983, 'zag': 9960, 'compellingli': 1411, 'abli': 11, 'swashbuckl': 8040, 'purest': 5895, 'superlarg': 7974, 'slipper': 7292, 'fairytal': 2650, 'crise': 1634, 'lad': 4238, 'zealand': 9967, 'twinkl': 8747, 'heartach': 3418, 'hatfield': 3392, 'softest': 7449, 'benshan': 651, 'claw': 1287, 'nalin': 4984, 'lohman': 4449, 'moist': 4846, 'veneer': 9343, 'teamwork': 8196, 'napoleon': 4988, 'alan': 176, 'rebirth': 6035, 'almod': 203, 'var': 9311, 'turntabl': 8727, 'gambl': 3042, 'warner': 9561, 'owner': 5333, 'tango': 8143, 'scuzbag': 6813, 'pour': 5698, 'wine': 9766, 'hornbi': 3551, 'terrain': 8271, 'dealt': 1764, 'niccol': 5069, 'sappier': 6629, 'tu': 8693, 'mam': 4581, 'tambi': 8132, 'uninhibit': 9037, 'featherweight': 2716, 'lap': 4262, 'ofrec': 5195, 'aunqu': 458, 'bien': 684, 'divertida': 2110, 'visualment': 9468, 'sencillament': 6885, 'te': 8191, 'sorprend': 7516, 'thurman': 8394, 'anymor': 310, 'ross': 6465, 'smarti': 7342, 'collid': 1367, 'administr': 89, 'shinya': 7040, 'tsukamoto': 8690, 'benoit': 650, 'siren': 7192, 'unimpeach': 9031, 'snide': 7399, 'separ': 6906, 'indict': 3772, 'own': 5332, 'oliveira': 5208, 'slam': 7249, 'bam': 535, 'upholst': 9235, 'hallucinatori': 3332, 'utmost': 9273, 'norm': 5112, 'samantha': 6600, 'viewfind': 9423, 'sarc': 6633, 'buen': 947, 'cine': 1252, 'cad': 1004, 'candidli': 1046, 'westfeldt': 9660, 'sauci': 6657, 'occupi': 5174, 'shagster': 6971, 'represent': 6196, 'lathan': 4280, 'spate': 7562, 'feast': 2713, 'quintessenti': 5938, 'underlay': 8898, 'reconsider': 6052, 'san': 6608, 'francisco': 2931, 'wager': 9512, 'weaver': 9613, 'lightest': 4391, 'dogm': 2127, 'unmistak': 9078, 'baran': 546, 'companion': 1404, 'spunki': 7657, 'retribut': 6279, 'noyc': 5140, 'ltimo': 4491, 'assimil': 417, 'cornbal': 1546, 'elvira': 2353, 'rariti': 5992, 'mini': 4770, 'travil': 8601, 'schweig': 6747, 'australia': 465, 'shield': 7029, 'tierney': 8411, 'inimit': 3845, 'walken': 9522, 'renoir': 6171, 'ramsay': 5972, 'snicker': 7398, 'caution': 1116, 'avert': 486, 'toe': 8464, 'graham': 3207, 'hermitag': 3463, 'blisteringli': 750, 'paradiso': 5377, 'adorn': 99, 'schoolhous': 6739, 'northern': 5115, 'unrepent': 9131, 'ecolog': 2290, 'wildlif': 9741, 'ambros': 235, 'conscienc': 1475, 'iri': 3969, 'chomp': 1229, 'biggi': 690, 'tupac': 8716, 'atom': 436, 'broach': 910, 'warthog': 9566, 'jessica': 4058, 'stein': 7761, 'nolan': 5101, 'delv': 1845, 'brecht': 881, 'weigel': 9627, 'garcia': 3054, 'richest': 6342, 'plummer': 5624, 'nathan': 5000, 'thinnest': 8335, 'sleepi': 7272, 'yang': 9919, 'gentli': 3086, 'bend': 640, 'shandl': 6988, 'selfless': 6874, 'unselfconsci': 9155, 'munch': 4943, 'wrack': 9875, 'screamingli': 6790, 'savor': 6666, 'gainsbourg': 3038, 'unindict': 9034, 'twisti': 8752, 'wham': 9667, 'beginn': 613, 'hippi': 3494, 'cook': 1532, 'cuisin': 1669, 'pastel': 5413, 'mortal': 4900, 'savvier': 6670, 'pinochet': 5570, 'grimi': 3255, 'manual': 4600, 'jacobson': 4015, 'carlo': 1077, 'carrera': 1083, 'gilliam': 3109, 'abundantli': 29, 'reinvent': 6112, 'wither': 9794, 'bouquet': 835, 'berl': 655, 'mcdowel': 4662, 'jose': 4095, 'campanella': 1036, 'wildest': 9739, 'ao': 315, 'saudad': 6658, 'fato': 2699, 'daniel': 1726, 'talanc': 8123, 'sprecher': 7644, 'unsurpass': 9179, 'omnibu': 5213, 'waddl': 9507, 'thyself': 8396, 'soda': 7442, 'supercharg': 7966, 'barbara': 549, 'lapaglia': 4263, 'caviezel': 1119, 'be': 589, 'juni': 4126, 'reshap': 6222, 'eponym': 2458, 'ellipt': 2346, 'screwup': 6799, 'nephew': 5044, 'dodger': 2125, 'wolfish': 9815, 'venu': 9355, 'wryli': 9901, 'mesh': 4721, 'nakata': 4982, 'lace': 4232, 'detect': 1920, 'increas': 3756, 'segu': 6858, 'yakusho': 9916, 'shimizu': 7032, 'imamura': 3659, 'ruzowitzki': 6539, 'turnabout': 8725, 'chaiken': 1140, 'kura': 4220, 'squeamish': 7673, 'seu': 6943, 'problema': 5786, 'operat': 5229, 'reco': 6045, 'crave': 1602, 'darkest': 1736, 'tower': 8539, 'griffith': 3252, 'hooker': 3539, 'sven': 8029, 'viveka': 9474, 'uner': 8967, 'embed': 2360, 'vi': 9393, 'undiscov': 8936, 'tatou': 8174, 'statesmen': 7743, 'fresnadillo': 2965, 'successor': 7920, 'docu': 2119, 'democrat': 1854, 'embark': 2357, 'friel': 2974, 'showmanship': 7088, 'tinker': 8435, 'tightli': 8416, 'spasm': 7560, 'spotlight': 7636, 'wifti': 9731, 'unflinchingli': 8995, 'unflaggingli': 8991, 'unhurri': 9025, 'transmut': 8582, 'india': 3768, 'goer': 3159, 'timewast': 8427, 'immigr': 3670, 'epicent': 2453, 'naivet': 4981, 'specter': 7577, 'coral': 1542, 'reef': 6072, 'muckrak': 4930, 'escapist': 2483, 'site': 7201, 'coen': 1350, 'ti': 8397, 'wiseman': 9784, 'socio': 7436, 'curiosa': 1686, 'espectador': 2487, 'ria': 6329, 'bumbl': 960, 'teari': 8198, 'arliss': 368, 'underr': 8908, 'tangi': 8141, 'snowbal': 7414, 'midlif': 4746, 'seacoast': 6817, 'aloft': 206, 'wherev': 9678, 'multilay': 4938, 'orbit': 5244, 'soaringli': 7425, 'psychic': 5858, 'fontain': 2875, 'corcuera': 1543, 'syrupi': 8097, 'jab': 4009, 'blanchett': 726, 'fuel': 2999, 'delhi': 1830, 'underpin': 8905, 'rootless': 6454, 'globe': 3136, 'schlep': 6723, 'unfre': 9006, 'roar': 6398, 'pertin': 5509, 'twilight': 8744, 'maze': 4658, 'unclutt': 8840, 'royal': 6491, 'web': 9614, 'yesteryear': 9937, 'kosminski': 4213, 'sliver': 7295, 'tenor': 8257, 'mejor': 4689, 'ni': 5068, 'seigner': 6860, 'whippersnapp': 9691, 'glanc': 3120, 'lightli': 4393, 'unwari': 9207, 'someday': 7481, 'tian': 8398, 'bought': 828, 'morrison': 4898, 'iconoclast': 3627, 'alexand': 183, 'orlean': 5255, 'analyt': 258, 'igbi': 3639, 'philipp': 5531, 'wasp': 9573, 'trounc': 8666, 'baroqu': 562, 'rachel': 5946, 'wireless': 9778, 'whenc': 9674, 'scald': 6676, 'grandios': 3215, 'auteil': 467, 'phillip': 5532, 'warren': 9564, 'saigon': 6574, 'lookin': 4461, 'weinstein': 9634, 'bluff': 768, 'arteta': 382, 'sydow': 8078, 'intacto': 3900, 'slope': 7306, 'teem': 8215, 'dani': 1725, 'tanov': 8145, 'uncon': 8852, 'provinci': 5848, 'sch': 6710, 'tte': 8691, 'ne': 5015, 'vietnam': 9418, 'vers': 9374, 'coulda': 1563, 'imbu': 3662, 'flavour': 2829, 'twohi': 8755, 'undiminish': 8934, 'manhood': 4590, 'neoreal': 5043, 'loop': 4462, 'brink': 901, 'riviera': 6392, 'spree': 7645, 'sneez': 7397, 'prism': 5776, 'wondrous': 9824, 'sytl': 8100, 'peski': 5515, 'decasia': 1777, 'legaci': 4334, 'whit': 9697, 'tarantula': 8157, 'rugrat': 6508, 'feral': 2737, 'wolf': 9814, 'someplac': 7484, 'freshli': 2964, 'wonton': 9826, 'raimi': 5961, 'truffaut': 8675, 'boomer': 811, 'ferrera': 2741, 'sydney': 8077, 'seater': 6830, 'plane': 5589, 'twelv': 8739, 'unsung': 9176, 'tufano': 8699, 'widescreen': 9722, 'monday': 4859, 'masculin': 4628, 'freight': 2956, 'unadulter': 8795, 'bernard': 656, 'digress': 1973, 'mismo': 4808, 'soberbio': 7428, 'teatral': 8202, 'experiencia': 2585, 'yoda': 9945, 'kinet': 4180, 'xiaoshuai': 9909, 'reenact': 6075, 'surest': 7995, 'universo': 9054, 'satisfyingli': 6651, 'unsubtl': 9174, 'conquer': 1474, 'reparte': 6182, 'reputedli': 6212, 'unfilm': 8988, 'servant': 6932, 'wizen': 9807, 'visitor': 9465, 'tomorrow': 8484, 'worker': 9846, 'scorces': 6765, 'chemic': 1196, 'juan': 4106, 'civic': 1268, 'chasm': 1174, 'leonin': 4350, 'cun': 1680, 'sandeman': 6614, 'unforgivingli': 9003, 'gaza': 3068, 'unreligi': 9128, 'strategi': 7818, 'cuban': 1665, 'espn': 2489, 'tonto': 8493, 'salli': 6590, 'stanley': 7723, 'staircas': 7700, 'guru': 3306, 'launch': 4290, 'isabel': 3993, 'croon': 1643, 'artwork': 393, 'chimp': 1219, 'ok': 5201, 'savour': 6668, 'cricket': 1628, 'sooner': 7500, 'kubrick': 4216, 'uk': 8775, 'sampi': 6603, 'tezuka': 8296, 'plethora': 5611, 'spangl': 7550, 'dover': 2161, 'kosashvili': 4212, 'alfonso': 185, 'cuaron': 1664, 'berri': 657, 'autopsi': 476, 'idemoto': 3631, 'der': 1884, 'belgium': 625, 'acquir': 62, 'eerili': 2303, 'nicol': 5079, 'rez': 6320, 'woolf': 9835, 'angela': 271, 'gheorghiu': 3097, 'alagna': 175, 'ruggero': 6507, 'scarpia': 6698, 'astronaut': 429, 'catherin': 1110, 'kouri': 4214, 'dougla': 2159, 'wispi': 9790, 'israel': 3999, 'ww': 9902, 'taught': 8177, 'underlin': 8900, 'tangent': 8140, 'samurai': 6607, 'wen': 9648, 'vonnegut': 9491, 'caffein': 1008, 'revisionist': 6301, 'personagen': 5504, 'torna': 8510, 'hist': 3498, 'sobr': 7430, 'underappreci': 8881, 'bueller': 946, 'zing': 9986, 'vibranc': 9397, 'awak': 490, 'serpent': 6928, 'sy': 8075, 'whirlwind': 9694, 'volletta': 9486, 'matern': 4642, 'tso': 8689, 'disciplin': 2015, 'jfk': 4065, 'zaza': 9964, 'uncinemat': 8834, 'triniti': 8638, 'melanchol': 4691, 'lieuten': 4381, 'wonderland': 9822, 'portugues': 5679, 'unslick': 9162, 'aniston': 279, 'upend': 9228, 'wherein': 9677, 'roughshod': 6478, 'confect': 1455, 'seami': 6821, 'chime': 1218, 'tat': 8173, 'devo': 1939, 'vocal': 9480, 'atlant': 434, 'telescop': 8232, 'wire': 9777, 'schrader': 6740, 'sixti': 7206, 'prim': 5763, 'veggietal': 9333, 'appet': 331, 'sprout': 7653, 'tendenti': 8251, 'ringsid': 6369, 'selv': 6878, 'shaken': 6974, 'smoki': 7360, 'sisterli': 7197, 'tundra': 8709, 'inuit': 3946, 'ttner': 8692, 'ireland': 3968, 'plung': 5627, 'fantas': 2671, 'tormentor': 8508, 'watercolor': 9580, 'columbin': 1372, 'uncut': 8869, 'sergio': 6921, 'taverni': 8182, 'remembr': 6153, 'profundament': 5807, 'sincera': 7176, 'papin': 5372, 'curtain': 1694, 'solemnli': 7462, 'synergist': 8093, 'unflapp': 8992, 'wildean': 9737, 'apollo': 323, 'linear': 4409, 'ellen': 2344, 'pompeo': 5654, 'fantasia': 2673, 'thump': 8390, 'unpreced': 9105, 'staci': 7685, 'sean': 6824, 'penn': 5471, 'ilk': 3646, 'recogniz': 6047, 'tourism': 8534, 'canva': 1056, 'smokey': 7359, 'enforc': 2404, 'bett': 666, 'canni': 1050, 'thorough': 8347, 'hashiguchi': 3386, 'reinvigor': 6113, 'retel': 6267, 'alexandr': 184, 'reynold': 6319, 'shiri': 7043, 'slain': 7247, 'rapper': 5987, 'audiard': 451, 'razzl': 6011, 'weirder': 9636, 'peso': 5516, 'quido': 5932, 'elemento': 2335, 'vida': 9410, 'undertak': 8915, 'composit': 1426, 'jeff': 4045, 'shaw': 7008, 'sander': 6615, 'psychodrama': 5860, 'slyli': 7332, 'achronolog': 58, 'til': 8418, 'troubadour': 8661, 'semen': 6880, 'transfix': 8575, 'vow': 9495, 'asphalt': 405, 'frill': 2982, 'unburden': 8824, 'literatur': 4425, 'sheerli': 7017, 'unrepentantli': 9132, 'touchston': 8529, 'interestingli': 3913, 'gosford': 3187, 'personaj': 5505, 'tulo': 8702, 'pel': 5460, 'cula': 1670, 'historia': 3501, 'dond': 2136, 'realidad': 6022, 'sexo': 6955, 'trabajo': 8544, 'gracia': 3200, 'cl': 1270, 'sico': 7123, 'turntablist': 8728, 'schooler': 6737, 'roundelay': 6480, 'tori': 8506, 'amo': 247, 'undress': 8947, 'seam': 6820, 'rembrandt': 6150, 'rosa': 6457, 'blush': 773, 'trembl': 8617, 'bielinski': 683, 'ichi': 3624, 'kieran': 4169, 'digest': 1968, 'rintar': 6371, 'pierc': 5556, 'fellowship': 2728, 'logra': 4448, 'gran': 3210, 'tampoco': 8137, 'resultan': 6254, 'totalment': 8525, 'lore': 4469, 'freud': 2967, 'swoop': 8071, 'societ': 7434, 'savoca': 6665, 'nonjudgment': 5108, 'client': 1300, 'tulli': 8701, 'truncheon': 8681, 'lucia': 4495, 'consign': 1484, 'texan': 8292, 'stoppard': 7800, 'forgo': 2897, 'shindler': 7036, 'symbiot': 8080, 'thi': 8324, 'sorcer': 7510, 'disarmingli': 2007, 'reconstruct': 6053, 'warlord': 9553, 'touchingli': 8528, 'welti': 9647, 'revis': 6299, 'oral': 5242, 'rick': 6344, 'famuyiwa': 2666, 'bourgeoi': 836, 'seep': 6854, 'goo': 3173, 'tela': 8224, 'retrata': 6276, 'rica': 6335, 'slalom': 7248, 'sew': 6948, 'womanhood': 9819, 'secretli': 6838, 'unhing': 9023, 'trove': 8668, 'woodman': 9833, 'representando': 6197, 'vai': 9285, 'workaday': 9845, 'inertia': 3797, 'solips': 7470, 'spielbergian': 7599, 'discreet': 2029, 'unstint': 9172, 'feminin': 2733, 'watt': 9585, 'lagaan': 4243, 'uncl': 8836, 'aleck': 181, 'pellington': 5461, 'ss': 7678, 'telegram': 8226, 'verisimilitud': 9369, 'auteur': 469, 'seamstress': 6823, 'shrapnel': 7091, 'shellshock': 7022, 'suspeito': 8021, 'wittier': 9803, 'slaveri': 7262, 'aristocraci': 364, 'thinker': 8332, 'janklowicz': 4026, 'amir': 245, 'gonna': 3172, 'revigor': 6297, 'tar': 8154, 'veget': 9331, 'batch': 579, 'wildcard': 9736, 'flinch': 2844, 'shudder': 7108, 'tamer': 8135, 'introspect': 3943, 'wider': 9721, 'reincarn': 6109, 'yong': 9946, 'prone': 5820, 'secondari': 6834, 'ziyi': 9992, 'stamp': 7712, 'veret': 9366, 'naturedli': 5006, 'sofia': 7445, 'kouyat': 4215, 'outr': 5277, 'westbrook': 9658, 'misstep': 4817, 'welsh': 9645, 'verdu': 9365, 'tip': 8440, 'interperson': 3923, 'shmear': 7051, 'region': 6097, 'samuel': 6606, 'underwat': 8920, 'net': 5052, 'sleepless': 7273, 'shockwav': 7055, 'weasel': 9610, 'chillingli': 1217, 'reopen': 6177, 'broader': 913, 'meow': 4711, 'larami': 4265, 'serendip': 6920, 'immediaci': 3667, 'tunisian': 8713, 'spall': 7548, 'spectrum': 7578, 'zelda': 9972, 'swordfight': 8073, 'skyscrap': 7242, 'trapez': 8590, 'upfront': 9229, 'unbridl': 8822, 'unhibit': 9021, 'tashlin': 8168, 'shifti': 7031, 'sidestep': 7129, 'shackl': 6962, 'didactic': 1961, 'brass': 855, 'palett': 5355, 'sharpi': 7003, 'winningli': 9772, 'rudd': 6498, 'stallion': 7707, 'godfrey': 3156, 'sonrisa': 7497, 'risa': 6379, 'larga': 4267, 'undisciplin': 8935, 'shoestr': 7058, 'unevenli': 8972, 'ribcag': 6333, 'siempr': 7135, 'humanist': 3587, 'uruk': 9257, 'tre': 8602, 'sinai': 7173, 'untrain': 9195, 'unfak': 8981, 'seesaw': 6855, 'vigor': 9427, 'thatcher': 8302, 'undi': 8931, 'surg': 8001, 'swirl': 8065, 'ridley': 6352, 'woven': 9873, 'rockumentari': 6413, 'participatori': 5397, 'zhuangzhuang': 9982, 'virtuoso': 9455, 'regalia': 6091, 'travi': 8600, 'whoope': 9711, 'cheeki': 1187, 'sissako': 7194, 'subtlest': 7912, 'undogmat': 8942, 'twentysometh': 8742, 'funk': 3013, 'sem': 6879, 'tico': 8403, 'skil': 7222, 'weimar': 9633, 'republ': 6206, 'wallflow': 9527, 'painterli': 5349, 'todo': 8463, 'statecraft': 7741, 'spaniel': 7551, 'slugfest': 7322, 'compress': 1429, 'purist': 5896, 'slickest': 7282, 'typifi': 8760, 'cope': 1538, 'ving': 9442, 'rhame': 6321, 'rudi': 6500, 'trickster': 8632, 'juliann': 4119, 'shohei': 7059, 'schultz': 6743, 'surehand': 7994, 'nero': 5047, 'jonz': 4093, 'joie': 4080, 'vivr': 9478, 'singh': 7179, 'fallibl': 2656, 'wong': 9825, 'unreliev': 9127, 'wateri': 9581, 'unforgiven': 9002, 'scintil': 6754, 'terrier': 8274, 'sip': 7190, 'woolli': 9836, 'unafraid': 8798, 'savori': 6667, 'varmint': 9319, 'swung': 8074, 'solipsist': 7471, 'bon': 802, 'shrewdli': 7097, 'cuar': 1663, 'tard': 8158, 'utilizar': 9272, 'satirizado': 6646, 'massoud': 4636, 'henc': 3456, 'surplu': 8006, 'rubin': 6497, 'wladyslaw': 9808, 'szpilman': 8101, 'dispossess': 2069, 'signatur': 7140, 'tapestri': 8152, 'requiem': 6213, 'tchaikovski': 8190, 'swanson': 8038, 'rusi': 6528, 'vulakoro': 9501, 'underworld': 8925, 'taxi': 8185, 'librarian': 4376, 'evolut': 2537, 'scuzzi': 6814, 'nyc': 5151, 'underplay': 8906, 'wyman': 9905, 'travers': 8598, 'larki': 4270, 'sia': 7115, 'eclips': 2289, 'warmest': 9556, 'superhero': 7970, 'unsolv': 9163, 'truncat': 8680, 'reliev': 6138, 'xma': 9910, 'primal': 5765, 'reptilian': 6205, 'wiggl': 9733, 'widow': 9724, 'tuni': 8712, 'sorprendido': 7517, 'workman': 9847, 'verismo': 9370, 'titan': 8449, 'hark': 3371, 'uncheck': 8833, 'yasujiro': 9924, 'siev': 7136, 'reverber': 6292, 'scan': 6680, 'vagina': 9282, 'underconfid': 8884, 'virgin': 9451, 'twister': 8751, 'apuesta': 344, 'timeout': 8425, 'ryosuk': 6546, 'venturesom': 9354, 'torpedo': 8513, 'scripter': 6802, 'vega': 9330, 'sabara': 6548, 'ub': 8765, 'semimus': 6882, 'rendit': 6166, 'slobber': 7298, 'torr': 8516, 'traici': 8557, 'segurament': 6859, 'seventeen': 6945, 'seriocom': 6924, 'zish': 9991, 'techi': 8205, 'thewli': 8323, 'unguard': 9016, 'sylvi': 8079, 'solomon': 7473, 'squirt': 7677, 'springboard': 7649, 'scrutin': 6807, 'sunni': 7958, 'salvat': 6597, 'widen': 9720, 'psychedel': 5857, 'vece': 9327, 'verdaderament': 9363, 'untidili': 9191, 'thereaft': 8317, 'trainspot': 8561, 'roussillon': 6483, 'vanessa': 9306, 'retir': 6271, 'videologu': 9414, 'woodland': 9832, 'telephon': 8230, 'sequin': 6915, 'violinist': 9449, 'unfussili': 9012, 'rubenesqu': 6496, 'unadorn': 8794, 'teeter': 8221, 'saniti': 6623, 'skullduggeri': 7239, 'rosario': 6458, 'north': 5114, 'swath': 8041, 'yi': 9939, 'thornier': 8346, 'spaghetti': 7545, 'understat': 8914, 'lens': 4347, 'scarifi': 6695, 'welfar': 9642, 'tarkovski': 8162, 'unblinkingli': 8819, 'verac': 9358, 'tuba': 8695, 'whack': 9664, 'tenet': 8255, 'toma': 8476, 'ritmo': 6385, 'sutil': 8028, 'revelacion': 6288, 'tempor': 8242, 'stanza': 7724, 'scorcher': 6767, 'renegad': 6167, 'tay': 8187, 'tiro': 8446, 'trocadilho': 8651, 'spici': 7595, 'secular': 6840, 'octan': 5177, 'unfurl': 9011, 'sought': 7524, 'rite': 6384, 'romoli': 6445, 'zen': 9975, 'ripen': 6376, 'tobey': 8458, 'sirk': 7193, 'tov': 8537}\n"
          ]
        }
      ],
      "source": [
        "print((cv.vocabulary_))"
      ]
    },
    {
      "cell_type": "code",
      "execution_count": null,
      "metadata": {
        "id": "W_XdO4Yv1bve"
      },
      "outputs": [],
      "source": [
        "def changetonum(word):\n",
        "    try:\n",
        "#         print(cv.vocabulary_[word])\n",
        "        return cv.vocabulary_[word]\n",
        "    except:\n",
        "        return -1"
      ]
    },
    {
      "cell_type": "code",
      "execution_count": null,
      "metadata": {
        "id": "LzvyM0PpcWW9",
        "colab": {
          "base_uri": "https://localhost:8080/"
        },
        "outputId": "bfa635d9-4fdd-4e35-c188-d346bc7f42cb"
      },
      "outputs": [
        {
          "output_type": "stream",
          "name": "stdout",
          "text": [
            "[9180, 2437, 2093, 7598, 2019, 4336, 2093, 7390]\n"
          ]
        }
      ],
      "source": [
        "\n",
        "    \n",
        "train_corpus1=[]\n",
        "for i in train_corpus:\n",
        "    lq=[]\n",
        "    for j in i.split():\n",
        "        if(changetonum(j)!=-1):\n",
        "            lq.append(changetonum(j))\n",
        "    train_corpus1.append(lq)\n",
        "print(train_corpus1[0])"
      ]
    },
    {
      "cell_type": "code",
      "execution_count": null,
      "metadata": {
        "id": "7XTJU4DacWW9",
        "colab": {
          "base_uri": "https://localhost:8080/"
        },
        "outputId": "a8f36980-9356-4a96-dccc-1df479004722"
      },
      "outputs": [
        {
          "output_type": "stream",
          "name": "stdout",
          "text": [
            "[8223, 7136, 6158, 1765, 2532]\n"
          ]
        }
      ],
      "source": [
        "test_corpus1=[]\n",
        "for i in test_corpus:\n",
        "    lq=[]\n",
        "    for j in i.split():\n",
        "        if(changetonum(j)!=-1):\n",
        "            lq.append(changetonum(j))\n",
        "    test_corpus1.append(lq)\n",
        "print(test_corpus1[0])"
      ]
    },
    {
      "cell_type": "code",
      "execution_count": null,
      "metadata": {
        "id": "E6Wy7_G-cWW-",
        "colab": {
          "base_uri": "https://localhost:8080/"
        },
        "outputId": "ed31f0e1-97b0-4514-97ea-301d59e40451"
      },
      "outputs": [
        {
          "output_type": "stream",
          "name": "stdout",
          "text": [
            "[5441, 6503, 4897, 8571, 2597, 3726, 6550, 2698, 3525, 2940, 7862, 7508, 995, 8262, 6768, 8485, 6918, 6550, 8742, 3309, 8092, 7011, 2796, 3588, 7927, 7011, 6123, 6132, 6366, 2335, 6928, 8485, 1374, 8376, 8742, 1087, 3285, 4829, 7403, 3014, 4716, 1358, 2736, 6849, 6032, 1205, 3290, 3132, 2784, 3656, 145, 2480, 1358, 3712, 4751, 3199, 1329, 4145, 4120, 1915, 7398, 1909, 5266, 2828, 524, 8763, 6749, 4714, 341, 7011, 2348, 2789, 3317, 7011, 1878, 3043, 6009, 5801, 5577, 4717, 481, 3043, 1255, 3043, 6602, 4914, 395, 2940, 2597, 2676, 6748, 7508, 5207, 7641, 6749, 6282, 8571, 2072, 7751, 3356, 3656, 4517, 3391, 8485, 8485, 3998, 3456, 4323, 5477, 3259, 524, 8617, 4760, 4938, 1372, 8118, 6032, 2348, 4394, 7487, 7103, 6032, 2733, 8571, 4830, 645, 1494, 8180, 8472, 3259, 7990, 1882, 7038]\n"
          ]
        }
      ],
      "source": [
        "IMDB_corpus1=[]\n",
        "for i in IMDB_corpus:\n",
        "    lq=[]\n",
        "    for j in i.split():\n",
        "        if(changetonum(j)!=-1):\n",
        "            lq.append(changetonum(j))\n",
        "    IMDB_corpus1.append(lq)\n",
        "print(IMDB_corpus1[0])"
      ]
    },
    {
      "cell_type": "code",
      "execution_count": null,
      "metadata": {
        "id": "SqFnP6M7cWW-",
        "colab": {
          "base_uri": "https://localhost:8080/"
        },
        "outputId": "4a5ac4ef-854e-42d9-f906-f5d8e065c21c"
      },
      "outputs": [
        {
          "output_type": "stream",
          "name": "stdout",
          "text": [
            "[2955]\n"
          ]
        }
      ],
      "source": [
        "yt_corpus1=[]\n",
        "for i in yt1:\n",
        "    lq=[]\n",
        "    for j in i.split():\n",
        "        if(changetonum(j)!=-1):\n",
        "            lq.append(changetonum(j))\n",
        "    yt_corpus1.append(lq)\n",
        "print(yt_corpus1[0])"
      ]
    },
    {
      "cell_type": "code",
      "execution_count": null,
      "metadata": {
        "id": "lJc4m9_O5WjM"
      },
      "outputs": [],
      "source": [
        "def preprocessing2(yt1):\n",
        "    yt_corpus1=[]\n",
        "    for i in yt1:\n",
        "        lq=[]\n",
        "        for j in i.split():\n",
        "            if(changetonum(j)!=-1):\n",
        "                lq.append(changetonum(j))\n",
        "        yt_corpus1.append(lq)\n",
        "    return yt_corpus1"
      ]
    },
    {
      "cell_type": "code",
      "execution_count": null,
      "metadata": {
        "id": "UGBF1LxV5deE"
      },
      "outputs": [],
      "source": [
        "train11=preprocessing2(train11)\n",
        "train22=preprocessing2(train22)\n",
        "train33=preprocessing2(train33)\n",
        "train44=preprocessing2(train44)"
      ]
    },
    {
      "cell_type": "code",
      "execution_count": null,
      "metadata": {
        "colab": {
          "base_uri": "https://localhost:8080/"
        },
        "id": "5dl2uXxbcWW_",
        "outputId": "ce860628-98b3-45f2-af7d-de0ab00c6b16"
      },
      "outputs": [
        {
          "output_type": "stream",
          "name": "stdout",
          "text": [
            "10000\n"
          ]
        }
      ],
      "source": [
        "print(len(cv.vocabulary_))"
      ]
    },
    {
      "cell_type": "code",
      "execution_count": null,
      "metadata": {
        "id": "RATZQo47cWW_"
      },
      "outputs": [],
      "source": [
        "import numpy as np\n",
        "def vectorize_sentences(sentences,dim=10000):\n",
        "    outputs = np.zeros((len(sentences),dim))\n",
        "    for i,j in enumerate(sentences):\n",
        "        for k in j:\n",
        "            outputs[i,k] = 1\n",
        "    return outputs"
      ]
    },
    {
      "cell_type": "code",
      "execution_count": null,
      "metadata": {
        "id": "Fc0MWvFKcWXA"
      },
      "outputs": [],
      "source": [
        "train_corpus1=vectorize_sentences(train_corpus1)"
      ]
    },
    {
      "cell_type": "code",
      "execution_count": null,
      "metadata": {
        "id": "b5xGjNJbcWXA"
      },
      "outputs": [],
      "source": [
        "test_corpus1=vectorize_sentences(test_corpus1)"
      ]
    },
    {
      "cell_type": "code",
      "execution_count": null,
      "metadata": {
        "id": "A7ZH0aM6cWXA"
      },
      "outputs": [],
      "source": [
        "yt_corpus1=vectorize_sentences(yt_corpus1)"
      ]
    },
    {
      "cell_type": "code",
      "execution_count": null,
      "metadata": {
        "id": "lQ-kqk9PcWXB",
        "colab": {
          "base_uri": "https://localhost:8080/",
          "height": 165
        },
        "outputId": "57cd5890-c7e4-49b0-e88f-eb6b34b2da05"
      },
      "outputs": [
        {
          "output_type": "error",
          "ename": "NameError",
          "evalue": "ignored",
          "traceback": [
            "\u001b[0;31m---------------------------------------------------------------------------\u001b[0m",
            "\u001b[0;31mNameError\u001b[0m                                 Traceback (most recent call last)",
            "\u001b[0;32m<ipython-input-26-bdbdd92784ba>\u001b[0m in \u001b[0;36m<module>\u001b[0;34m()\u001b[0m\n\u001b[0;32m----> 1\u001b[0;31m \u001b[0mIMDB_corpus1\u001b[0m\u001b[0;34m=\u001b[0m\u001b[0mvectorize_sentences\u001b[0m\u001b[0;34m(\u001b[0m\u001b[0mIMDB_corpus1\u001b[0m\u001b[0;34m)\u001b[0m\u001b[0;34m\u001b[0m\u001b[0;34m\u001b[0m\u001b[0m\n\u001b[0m",
            "\u001b[0;31mNameError\u001b[0m: name 'IMDB_corpus1' is not defined"
          ]
        }
      ],
      "source": [
        "IMDB_corpus1=vectorize_sentences(IMDB_corpus1)"
      ]
    },
    {
      "cell_type": "code",
      "execution_count": null,
      "metadata": {
        "id": "F3NEvWHLcWXB",
        "colab": {
          "base_uri": "https://localhost:8080/"
        },
        "outputId": "8429a599-c180-41a2-9c3e-1a963b3b775d"
      },
      "outputs": [
        {
          "output_type": "execute_result",
          "data": {
            "text/plain": [
              "(3, 10000)"
            ]
          },
          "metadata": {},
          "execution_count": 27
        }
      ],
      "source": [
        "yt_corpus1.shape"
      ]
    },
    {
      "cell_type": "code",
      "execution_count": null,
      "metadata": {
        "id": "ETtE8wg45yzD"
      },
      "outputs": [],
      "source": [
        "train11=vectorize_sentences(train11)\n",
        "train22=vectorize_sentences(train22)\n",
        "train33=vectorize_sentences(train33)\n",
        "train44=vectorize_sentences(train44)"
      ]
    },
    {
      "cell_type": "code",
      "execution_count": null,
      "metadata": {
        "id": "0_wDdCWXcWXB",
        "colab": {
          "base_uri": "https://localhost:8080/"
        },
        "outputId": "c469823d-bd6d-4971-9e50-4dcea58e3391"
      },
      "outputs": [
        {
          "output_type": "execute_result",
          "data": {
            "text/plain": [
              "0        0\n",
              "1        0\n",
              "2        0\n",
              "3        0\n",
              "4        0\n",
              "        ..\n",
              "31957    0\n",
              "31958    0\n",
              "31959    0\n",
              "31960    1\n",
              "31961    0\n",
              "Name: label, Length: 31962, dtype: int64"
            ]
          },
          "metadata": {},
          "execution_count": 23
        }
      ],
      "source": [
        "train['label']"
      ]
    },
    {
      "cell_type": "markdown",
      "metadata": {
        "id": "aR5ZzJmocWXE"
      },
      "source": [
        "## Testing different models and evaluating"
      ]
    },
    {
      "cell_type": "code",
      "execution_count": null,
      "metadata": {
        "id": "hUdSfdmIyVqz"
      },
      "outputs": [],
      "source": [
        "# splitting the training data into train and valid sets\n",
        "\n",
        "from sklearn.model_selection import train_test_split\n",
        "\n",
        "x_train, x_valid, y_train, y_valid = train_test_split(train_corpus1, train['label'], test_size = 0.25, random_state = 42)\n",
        "\n",
        "print(x_train.shape)\n",
        "print(x_valid.shape)\n",
        "print(y_train.shape)\n",
        "print(y_valid.shape)"
      ]
    },
    {
      "cell_type": "code",
      "execution_count": null,
      "metadata": {
        "id": "gxNsxfzncWXF"
      },
      "outputs": [],
      "source": [
        "from sklearn.svm import SVC\n",
        "\n",
        "model = SVC()\n",
        "model.fit(x_train, y_train)\n",
        "\n",
        "y_pred = model.predict(x_valid)\n",
        "\n",
        "print(\"Training Accuracy :\", model.score(x_train, y_train))\n",
        "print(\"Validation Accuracy :\", model.score(x_valid, y_valid))\n",
        "\n",
        "# calculating the f1 score for the validation set\n",
        "print(\"f1 score :\", f1_score(y_valid, y_pred))\n",
        "\n",
        "# confusion matrix\n",
        "cm = confusion_matrix(y_valid, y_pred)\n",
        "print(cm)\n"
      ]
    },
    {
      "cell_type": "code",
      "execution_count": null,
      "metadata": {
        "id": "N2hwC0Cz9AdA"
      },
      "outputs": [],
      "source": [
        "from sklearn.tree import DecisionTreeClassifier\n",
        "\n",
        "model = DecisionTreeClassifier()\n",
        "model.fit(x_train, y_train)\n",
        "\n",
        "y_pred = model.predict(x_valid)\n",
        "\n",
        "print(\"Training Accuracy :\", model.score(x_train, y_train))\n",
        "print(\"Validation Accuracy :\", model.score(x_valid, y_valid))\n",
        "\n",
        "# calculating the f1 score for the validation set\n",
        "print(\"f1 score :\", f1_score(y_valid, y_pred))\n",
        "\n",
        "# confusion matrix\n",
        "cm = confusion_matrix(y_valid, y_pred)\n",
        "print(cm)\n"
      ]
    },
    {
      "cell_type": "code",
      "execution_count": null,
      "metadata": {
        "id": "EYcyCAsTuTNU"
      },
      "outputs": [],
      "source": [
        "from sklearn.linear_model import LogisticRegression\n",
        "\n",
        "model = LogisticRegression()\n",
        "model.fit(x_train, y_train)\n",
        "\n",
        "y_pred = model.predict(x_valid)\n",
        "\n",
        "print(\"Training Accuracy :\", model.score(x_train, y_train))\n",
        "print(\"Validation Accuracy :\", model.score(x_valid, y_valid))\n",
        "\n",
        "# calculating the f1 score for the validation set\n",
        "print(\"f1 score :\", f1_score(y_valid, y_pred))\n",
        "\n",
        "# confusion matrix\n",
        "cm = confusion_matrix(y_valid, y_pred)\n",
        "print(cm)\n"
      ]
    },
    {
      "cell_type": "code",
      "execution_count": null,
      "metadata": {
        "id": "vFkp_4k6cWXH"
      },
      "outputs": [],
      "source": [
        "from sklearn.ensemble import RandomForestClassifier\n",
        "from sklearn.metrics import confusion_matrix\n",
        "from sklearn.metrics import f1_score\n",
        "\n",
        "model = RandomForestClassifier()\n",
        "model.fit(x_train, y_train)\n",
        "\n",
        "y_pred = model.predict(x_valid)\n",
        "\n",
        "print(\"Training Accuracy :\", model.score(x_train, y_train))\n",
        "print(\"Validation Accuracy :\", model.score(x_valid, y_valid))\n",
        "\n",
        "# calculating the f1 score for the validation set\n",
        "print(\"F1 score :\", f1_score(y_valid, y_pred))\n",
        "\n",
        "# confusion matrix\n",
        "cm = confusion_matrix(y_valid, y_pred)\n",
        "print(cm)\n",
        "\n"
      ]
    },
    {
      "cell_type": "code",
      "execution_count": null,
      "metadata": {
        "id": "APbcv9mzcWXH",
        "colab": {
          "base_uri": "https://localhost:8080/"
        },
        "outputId": "bfa3a6ee-d658-4b07-ca62-c65d582fe740"
      },
      "outputs": [
        {
          "output_type": "execute_result",
          "data": {
            "text/plain": [
              "RandomForestClassifier()"
            ]
          },
          "metadata": {},
          "execution_count": 20
        }
      ],
      "source": [
        "from sklearn.ensemble import RandomForestClassifier\n",
        "from sklearn.metrics import confusion_matrix\n",
        "from sklearn.metrics import f1_score\n",
        "\n",
        "\n",
        "np.concatenate((train11,train22,train33,train44), axis=0)\n",
        "np.concatenate((train1['1'],train2['1'],train3['0'],train4['0']), axis=0)\n",
        "model = RandomForestClassifier()\n",
        "model.fit(train11,train1['1'])"
      ]
    },
    {
      "cell_type": "code",
      "execution_count": null,
      "metadata": {
        "id": "hdvsRZOuSF8K",
        "colab": {
          "base_uri": "https://localhost:8080/"
        },
        "outputId": "34526554-92ab-4da3-bd17-0271e64ec0ff"
      },
      "outputs": [
        {
          "output_type": "execute_result",
          "data": {
            "text/plain": [
              "GaussianNB()"
            ]
          },
          "metadata": {},
          "execution_count": 30
        }
      ],
      "source": [
        "from sklearn.naive_bayes import GaussianNB\n",
        "gmodel = GaussianNB()\n",
        "gmodel.fit(train_corpus1,train['label'])"
      ]
    },
    {
      "cell_type": "code",
      "execution_count": null,
      "metadata": {
        "id": "0gnowrjCcWXI",
        "colab": {
          "base_uri": "https://localhost:8080/"
        },
        "outputId": "fd60e229-ba0a-4991-9c42-9f14400d7e85"
      },
      "outputs": [
        {
          "output_type": "execute_result",
          "data": {
            "text/plain": [
              "['model.pkl']"
            ]
          },
          "metadata": {},
          "execution_count": 21
        }
      ],
      "source": [
        "import joblib\n",
        "joblib.dump(model, 'model.pkl')"
      ]
    },
    {
      "cell_type": "code",
      "source": [
        "joblib.dump(gmodel, 'Gaussmodel.pkl')"
      ],
      "metadata": {
        "colab": {
          "base_uri": "https://localhost:8080/"
        },
        "id": "SPu7ARtxnACb",
        "outputId": "ecc7bc06-5c3e-4697-97d2-b3b9e169f28e"
      },
      "execution_count": null,
      "outputs": [
        {
          "output_type": "execute_result",
          "data": {
            "text/plain": [
              "['Gaussmodel.pkl']"
            ]
          },
          "metadata": {},
          "execution_count": 33
        }
      ]
    },
    {
      "cell_type": "code",
      "execution_count": null,
      "metadata": {
        "colab": {
          "base_uri": "https://localhost:8080/"
        },
        "id": "oVM-ZAq_cWXI",
        "outputId": "57e98917-d760-4011-e4c1-e160cb65161b"
      },
      "outputs": [
        {
          "output_type": "execute_result",
          "data": {
            "text/plain": [
              "5059"
            ]
          },
          "metadata": {},
          "execution_count": 38
        }
      ],
      "source": [
        "model_from_joblib = joblib.load('Gaussmodel.pkl')\n",
        "sum(model_from_joblib.predict(test_corpus1))"
      ]
    },
    {
      "cell_type": "code",
      "execution_count": null,
      "metadata": {
        "id": "drHDsPrlcWXI",
        "colab": {
          "base_uri": "https://localhost:8080/"
        },
        "outputId": "d274f3c3-a186-4cef-de9a-208bbe0d6200"
      },
      "outputs": [
        {
          "output_type": "execute_result",
          "data": {
            "text/plain": [
              "(17197, 10000)"
            ]
          },
          "metadata": {},
          "execution_count": 39
        }
      ],
      "source": [
        "test_corpus1.shape"
      ]
    },
    {
      "cell_type": "code",
      "execution_count": null,
      "metadata": {
        "id": "uisEPEBHcWXJ"
      },
      "outputs": [],
      "source": [
        "x_train.shape"
      ]
    },
    {
      "cell_type": "code",
      "execution_count": null,
      "metadata": {
        "id": "0VF0Q9WVcWXJ"
      },
      "outputs": [],
      "source": [
        "x_valid.shape"
      ]
    },
    {
      "cell_type": "code",
      "execution_count": null,
      "metadata": {
        "id": "jGvD6NLAcWXJ"
      },
      "outputs": [],
      "source": [
        "381+1674"
      ]
    },
    {
      "cell_type": "code",
      "execution_count": null,
      "metadata": {
        "id": "Uagnv2eZcWXK"
      },
      "outputs": [],
      "source": [
        "sum(train['label'])"
      ]
    },
    {
      "cell_type": "code",
      "execution_count": null,
      "metadata": {
        "id": "s4dD5CZbcWXK"
      },
      "outputs": [],
      "source": [
        ""
      ]
    }
  ],
  "metadata": {
    "colab": {
      "collapsed_sections": [
        "GWnUyxl1cWWo",
        "pnVK-dFJcWWt"
      ],
      "name": "Twitter_Sentiment_New.ipynb",
      "provenance": []
    },
    "kernelspec": {
      "display_name": "Python 3 (ipykernel)",
      "language": "python",
      "name": "python3"
    },
    "language_info": {
      "codemirror_mode": {
        "name": "ipython",
        "version": 3
      },
      "file_extension": ".py",
      "mimetype": "text/x-python",
      "name": "python",
      "nbconvert_exporter": "python",
      "pygments_lexer": "ipython3",
      "version": "3.8.3"
    }
  },
  "nbformat": 4,
  "nbformat_minor": 0
}